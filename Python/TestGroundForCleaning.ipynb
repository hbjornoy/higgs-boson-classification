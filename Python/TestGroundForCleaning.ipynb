{
 "cells": [
  {
   "cell_type": "markdown",
   "metadata": {},
   "source": [
    "# Standard Least Squared\n",
    "- No preprosessing(not even polynomials), plotting or anything fancy\n",
    "- Plain Least Squared from exercise 3\n",
    "\n",
    "###### Next steps: \n",
    "\n",
    "Low-fruit:\n",
    "- make polynomials\n",
    "- implement cross validation\n",
    "\n",
    "High fruit:\n",
    "- Maybe make a new document with only the Exploratory data analysis with PCA and such. Then we different algorithms can choose to highlight some result and use it in their Feature prosessing. (https://en.wikipedia.org/wiki/Exploratory_data_analysis)\n",
    "- find or write code that finds the best degrees() can't plot...or can just plot one dimension at a time, better to just use ridge regression at that point? Does LS have any type of overfitting add-on"
   ]
  },
  {
   "cell_type": "markdown",
   "metadata": {},
   "source": [
    "### Libraries and imports"
   ]
  },
  {
   "cell_type": "code",
   "execution_count": 2,
   "metadata": {
    "collapsed": true
   },
   "outputs": [],
   "source": [
    "# standard libraries\n",
    "%matplotlib inline\n",
    "import numpy as np\n",
    "import matplotlib.pyplot as plt\n",
    "%load_ext autoreload\n",
    "%autoreload 2\n",
    "\n",
    "# own functions\n",
    "from proj1_helpers import * \n",
    "import basic_functions as bf\n",
    "import cross_validation as CV\n",
    "#import plot_functions as pf \n",
    "\n",
    "#constants\n",
    "train_path = 'train.csv'\n",
    "test_path = 'test.csv'"
   ]
  },
  {
   "cell_type": "markdown",
   "metadata": {},
   "source": [
    "### Importing data"
   ]
  },
  {
   "cell_type": "code",
   "execution_count": 3,
   "metadata": {},
   "outputs": [
    {
     "name": "stdout",
     "output_type": "stream",
     "text": [
      "y mean:  -0.314664\n"
     ]
    }
   ],
   "source": [
    "y, x, ids = load_csv_data(train_path, sub_sample=False) #remember to switch of subsample when running it \"for real\"\n",
    "\n",
    "\n",
    "print(\"y mean: \", np.mean(y))"
   ]
  },
  {
   "cell_type": "code",
   "execution_count": 4,
   "metadata": {},
   "outputs": [
    {
     "data": {
      "text/plain": [
       "array([[  1.38470000e+02,   5.16550000e+01,   9.78270000e+01, ...,\n",
       "          1.24000000e+00,  -2.47500000e+00,   1.13497000e+02],\n",
       "       [  1.60937000e+02,   6.87680000e+01,   1.03235000e+02, ...,\n",
       "         -1.00000000e-02,  -2.00000000e-03,   4.62260000e+01],\n",
       "       [  1.12406000e+02,   1.62172000e+02,   1.25953000e+02, ...,\n",
       "         -1.00000000e-02,  -2.00000000e-03,   4.42510000e+01],\n",
       "       ..., \n",
       "       [  1.05457000e+02,   6.05260000e+01,   7.58390000e+01, ...,\n",
       "         -9.99000000e+02,  -9.99000000e+02,   4.19920000e+01],\n",
       "       [  9.49510000e+01,   1.93620000e+01,   6.88120000e+01, ...,\n",
       "         -9.99000000e+02,  -9.99000000e+02,   0.00000000e+00],\n",
       "       [ -9.99000000e+02,   7.27560000e+01,   7.08310000e+01, ...,\n",
       "         -9.99000000e+02,  -9.99000000e+02,   0.00000000e+00]])"
      ]
     },
     "execution_count": 4,
     "metadata": {},
     "output_type": "execute_result"
    }
   ],
   "source": [
    "\n",
    "data = bf.clean_data(x, replace_no_measure_with_mean=False, replace_no_measure_with_median=True )\n",
    "\n",
    "data "
   ]
  },
  {
   "cell_type": "code",
   "execution_count": 5,
   "metadata": {
    "scrolled": false
   },
   "outputs": [
    {
     "data": {
      "text/plain": [
       "array([[ 0.51914948,  0.07485418,  0.06812844, ...,  0.99675137,\n",
       "         0.99439501,  0.06948372],\n",
       "       [ 0.52940358,  0.09965294,  0.07215518, ...,  0.99550573,\n",
       "         0.99686272,  0.02829991],\n",
       "       [ 0.50725368,  0.23500634,  0.08907077, ...,  0.99550573,\n",
       "         0.99686272,  0.0270908 ],\n",
       "       ..., \n",
       "       [ 0.50408211,  0.08770931,  0.05175641, ...,  0.        ,\n",
       "         0.        ,  0.02570782],\n",
       "       [ 0.49928709,  0.02805782,  0.04652418, ...,  0.        ,\n",
       "         0.        ,  0.        ],\n",
       "       [ 0.        ,  0.10543202,  0.04802751, ...,  0.        ,\n",
       "         0.        ,  0.        ]])"
      ]
     },
     "execution_count": 5,
     "metadata": {},
     "output_type": "execute_result"
    }
   ],
   "source": [
    "data=bf.normalize(data)\n",
    "\n",
    "data\n"
   ]
  },
  {
   "cell_type": "code",
   "execution_count": 6,
   "metadata": {},
   "outputs": [
    {
     "data": {
      "text/plain": [
       "array([[-0.41815062, -0.07218501, -0.065908  , ...,  0.99675137,\n",
       "         0.99439501,  0.06948372],\n",
       "       [-0.42487784, -0.09499462, -0.06967081, ...,  0.99550573,\n",
       "         0.99686272,  0.02829991],\n",
       "       [-0.41028924, -0.2110761 , -0.08532483, ...,  0.99550573,\n",
       "         0.99686272,  0.0270908 ],\n",
       "       ..., \n",
       "       [-0.40818282, -0.08407393, -0.05046154, ...,  0.        ,\n",
       "         0.        ,  0.02570782],\n",
       "       [-0.40498972, -0.02767141, -0.04547437, ...,  0.        ,\n",
       "         0.        ,  0.        ],\n",
       "       [ 0.        , -0.10023623, -0.04690983, ...,  0.        ,\n",
       "         0.        ,  0.        ]])"
      ]
     },
     "execution_count": 6,
     "metadata": {},
     "output_type": "execute_result"
    }
   ],
   "source": [
    "data = bf.inverse_log_non_neg(data)\n",
    "\n",
    "data\n"
   ]
  },
  {
   "cell_type": "code",
   "execution_count": 7,
   "metadata": {},
   "outputs": [
    {
     "data": {
      "text/plain": [
       "array([[ 1.        , -0.41815062, -0.07218501, ..., -0.11611478,\n",
       "         0.66666667, -0.40755407],\n",
       "       [ 1.        , -0.42487784, -0.09499462, ..., -0.07306616,\n",
       "         0.33333333, -0.40087489],\n",
       "       [ 1.        , -0.41028924, -0.2110761 , ..., -0.11686651,\n",
       "         0.33333333, -0.40025065],\n",
       "       ..., \n",
       "       [ 1.        , -0.40818282, -0.08407393, ..., -0.08898656,\n",
       "         0.33333333, -0.39953616],\n",
       "       [ 1.        , -0.40498972, -0.02767141, ..., -0.04856289,\n",
       "         0.        ,  0.        ],\n",
       "       [ 1.        ,  0.        , -0.10023623, ..., -0.04217063,\n",
       "         0.        ,  0.        ]])"
      ]
     },
     "execution_count": 7,
     "metadata": {},
     "output_type": "execute_result"
    }
   ],
   "source": [
    "data = np.delete(data, [5, 6, 12, 24,25,26,27,28,29], axis=1) \n",
    "\n",
    "data = np.c_[np.ones((data.shape[0], 1)), data]\n",
    "\n",
    "data"
   ]
  },
  {
   "cell_type": "markdown",
   "metadata": {},
   "source": [
    "### Exploratory data analysis (ex: PCA)\n",
    "https://en.wikipedia.org/wiki/Exploratory_data_analysis"
   ]
  },
  {
   "cell_type": "markdown",
   "metadata": {},
   "source": [
    "### Feature Processing (ex:Fourier, Poly)\n",
    "http://machinelearningmastery.com/discover-feature-engineering-how-to- engineer-features-and-how-to-get-good-at-it/."
   ]
  },
  {
   "cell_type": "markdown",
   "metadata": {},
   "source": [
    "Ideas:\n",
    "- standardize\n",
    "- polynomials\n",
    "- fourier transformation\n",
    "- sine, cos, tan ...ect\n",
    "- look up kvantemechanics formulas an see if we can find some correlations"
   ]
  },
  {
   "cell_type": "code",
   "execution_count": 8,
   "metadata": {
    "collapsed": true
   },
   "outputs": [],
   "source": [
    "#initial_w = np.zeros(len(x[1]))\n",
    "#max_iters = 100 # low\n",
    "#gamma = 0.1\n",
    "#tx = np.transpose(x) \n",
    "#ty = np.transpose(y)\n",
    "\n",
    "#losses, w = bf.least_squares(ty, x)\n",
    "\n",
    "#print(w.shape)\n"
   ]
  },
  {
   "cell_type": "markdown",
   "metadata": {},
   "source": [
    "### Optimalizing: determining overfit or underfit\n",
    "http://cs229.stanford.edu/materials/ML-advice.pdf"
   ]
  },
  {
   "cell_type": "markdown",
   "metadata": {},
   "source": [
    "### Train and produce weigths "
   ]
  },
  {
   "cell_type": "markdown",
   "metadata": {},
   "source": [
    "### Visualize, find pattern of wrong predictions -> back to Exploratory/Feature Proc\n",
    "http://homes.cs.washington.edu/~pedrod/papers/cacm12.pdf"
   ]
  },
  {
   "cell_type": "markdown",
   "metadata": {},
   "source": [
    "### Cross validation MAGIC \n"
   ]
  },
  {
   "cell_type": "code",
   "execution_count": 9,
   "metadata": {},
   "outputs": [
    {
     "name": "stdout",
     "output_type": "stream",
     "text": [
      "pred y shape: (568238,)\n",
      "pred x shape:  (568238, 22)\n"
     ]
    }
   ],
   "source": [
    "\n",
    "#PROCESSING TEST DATA\n",
    "\n",
    "pred_y, pred_x, pred_ids = load_csv_data(test_path, sub_sample=False)\n",
    "\n",
    "pred_x = bf.clean_data(pred_x, replace_no_measure_with_mean=False, replace_no_measure_with_median=True )\n",
    "pred_x = bf.normalize(pred_x)\n",
    "#pred_x = bf.inverse_log_non_neg(pred_x)\n",
    "pred_x = np.delete(pred_x, [5, 6, 12, 24,25,26,27,28,29], axis=1) \n",
    "pred_x = np.c_[np.ones((pred_x.shape[0], 1)), pred_x]\n",
    "\n",
    "print(\"pred y shape:\", pred_y.shape)\n",
    "print(\"pred x shape: \", pred_x.shape)\n",
    "\n",
    "y = bf.classify(y)"
   ]
  },
  {
   "cell_type": "code",
   "execution_count": 10,
   "metadata": {},
   "outputs": [
    {
     "data": {
      "text/plain": [
       "array([[ 1.        , -0.41815062, -0.07218501, ..., -0.11611478,\n",
       "         0.66666667, -0.40755407],\n",
       "       [ 1.        , -0.42487784, -0.09499462, ..., -0.07306616,\n",
       "         0.33333333, -0.40087489],\n",
       "       [ 1.        , -0.41028924, -0.2110761 , ..., -0.11686651,\n",
       "         0.33333333, -0.40025065],\n",
       "       ..., \n",
       "       [ 1.        , -0.40818282, -0.08407393, ..., -0.08898656,\n",
       "         0.33333333, -0.39953616],\n",
       "       [ 1.        , -0.40498972, -0.02767141, ..., -0.04856289,\n",
       "         0.        ,  0.        ],\n",
       "       [ 1.        ,  0.        , -0.10023623, ..., -0.04217063,\n",
       "         0.        ,  0.        ]])"
      ]
     },
     "execution_count": 10,
     "metadata": {},
     "output_type": "execute_result"
    }
   ],
   "source": [
    "copy_of_data = np.copy(data)\n",
    "copy_of_pred_x = np.copy(pred_x)\n",
    "\n",
    "copy_of_data\n",
    "\n"
   ]
  },
  {
   "cell_type": "code",
   "execution_count": 11,
   "metadata": {},
   "outputs": [
    {
     "name": "stdout",
     "output_type": "stream",
     "text": [
      "avg pred:  0.657332\n",
      "weights:  [[ 17.10470404]\n",
      " [ -7.15211482]\n",
      " [  2.04931855]\n",
      " [ -0.88299597]\n",
      " [ -1.13874047]\n",
      " [-11.81649728]\n",
      " [ -6.07061357]\n",
      " [ -0.09310684]\n",
      " [ -2.75218651]\n",
      " [  0.34632361]\n",
      " [ 29.9968238 ]\n",
      " [ -1.71571377]\n",
      " [  8.41613291]\n",
      " [  8.45133701]\n",
      " [ -0.38939749]\n",
      " [  8.61404172]\n",
      " [  8.71878553]\n",
      " [ -0.29382166]\n",
      " [  8.92625301]\n",
      " [ -3.08683431]\n",
      " [ 14.02934544]\n",
      " [ -7.34165301]]\n",
      "predicts for keggle:  \n",
      " [ 1.  1.  1. ...,  1.  1.  1.] \n",
      "\n"
     ]
    }
   ],
   "source": [
    "\n",
    "#PARAMATERS AND INITIAL WEIGHTS\n",
    "max_iters = 5\n",
    "gamma = 0.00065\n",
    "initial_w=np.zeros((copy_of_data.shape[1], 1))\n",
    "k_folds = 2\n",
    "\n",
    "# RUNNING CROSS VALIDATION\n",
    "avg_loss, losses, avg_preds, pred_acc_percents, best_weights = CV.cross_validation(bf.logistic_regression, y, copy_of_data, k_folds, initial_w, max_iters, gamma)\n",
    "\n",
    "print(\"avg pred: \", avg_preds)\n",
    "print(\"weights: \", best_weights)\n",
    "\n",
    "\n",
    "#PREDICTING FOR KEGGLE USING BEST WEIGHTS FROM CROSS VALIDATION\n",
    "\n",
    "predictions_for_keggle = bf.log_pred(copy_of_pred_x, best_weights)\n",
    "\n",
    "#predicts = bf.sigmoid(np.dot(copy_of_pred_x,best_weights))\n",
    "\n",
    "print(\"predicts for keggle: \",\"\\n\",predictions_for_keggle,\"\\n\")\n",
    "\n",
    "\n",
    "\n",
    "#INVERSING KEGGLE PREDICTIONS\n",
    "predictions_for_keggle = predictions_for_keggle * -1\n",
    "\n",
    "#print(predictions_for_keggle[0:25])\n",
    "#print(\"mean predictions for keggle: \", np.mean(predictions_for_keggle))\n",
    "#print(\"shape predictions for keggle: \", predictions_for_keggle.shape)\n",
    "\n",
    "\n",
    "#CREATING FILE\n",
    "#name = 'final.csv'\n",
    "#create_csv_submission(pred_ids, predictions_for_keggle, name)\n",
    "\n",
    "\n",
    "#lambda_=0.5\n",
    "#initial_w = np.zeros((ready_x.shape[1], 1))\n",
    "#max_iters = 50\n",
    "#gamma = 0.0001\n",
    "#k_folds = 3\n",
    "#avg_loss, losses, avg_preds, pred_acc_percents = cross_validation(bf.reg_logistic_regression, y, ready_x, k_folds, lambda_, initial_w, max_iters, gamma)\n",
    "\n",
    "\n",
    "#print(\"avg loss: \", avg_loss)\n",
    "#print(\"Procentage wrong: \", avg_preds)\n"
   ]
  },
  {
   "cell_type": "code",
   "execution_count": null,
   "metadata": {
    "collapsed": true
   },
   "outputs": [],
   "source": [
    "def build_k_indices(y, k_fold, seed=1):\n",
    "    \"\"\"build k indices for k-fold.\"\"\"\n",
    "    num_row = y.shape[0]\n",
    "    interval = int(num_row / k_fold)\n",
    "    np.random.seed(seed)\n",
    "    indices = np.random.permutation(num_row)\n",
    "    k_indices = [indices[k * interval: (k + 1) * interval]\n",
    "                 for k in range(k_fold)]\n",
    "    return np.array(k_indices)\n",
    "\n",
    "def split_k(x,y,k_indices, k):\n",
    "    #Given the data x, y, k_indices build by build_k_idiices, and k\n",
    "    #Splits the data into training and test data, where the k-th fold is the test data\n",
    "    x_test, y_test= x[k_indices[k]], y[k_indices[k]]\n",
    "    train_ind=np.delete(k_indices,k,0)\n",
    "    train_ind=np.ravel(train_ind)\n",
    "    x_tr, y_tr= x[train_ind], y[train_ind]\n",
    "    return x_test, y_test, x_tr, y_tr \n",
    "\n",
    "\n"
   ]
  },
  {
   "cell_type": "markdown",
   "metadata": {},
   "source": [
    "### Predict higgs boson"
   ]
  },
  {
   "cell_type": "code",
   "execution_count": null,
   "metadata": {
    "collapsed": true
   },
   "outputs": [],
   "source": [
    "# Import test.csv which contains nonlabeled data\n",
    "# Remember to have sub_sample=False when submitting to kaggle WARNING: it takes a looooong time\n",
    "pred_y, pred_x, pred_ids = load_csv_data(test_path, sub_sample=False)\n",
    "print(pred_x, pred_y)\n",
    "print(pred_ids)"
   ]
  },
  {
   "cell_type": "code",
   "execution_count": null,
   "metadata": {
    "collapsed": true
   },
   "outputs": [],
   "source": [
    "weights = w\n",
    "\n",
    "#predictions = compute_prediction(pred_x, weights)\n",
    "#print(predictions[1:25])\n",
    "\n",
    "y_predictions = predict_labels(weights, pred_x)\n",
    "print(y_predictions[1:25])\n"
   ]
  },
  {
   "cell_type": "code",
   "execution_count": null,
   "metadata": {
    "collapsed": true
   },
   "outputs": [],
   "source": [
    "# creates a file with the name you want in the folder of the Python-file. just look in the folder :) \n",
    "#name = 'powerpuff_testing.csv'\n",
    "\n",
    "#print(y_predictions.shape)\n",
    "#print(pred_ids.shape)\n",
    "\n",
    "#create_csv_submission(pred_ids, y_predictions, name)\n",
    "\n",
    "#print(\"yolo\")\n",
    "\n",
    "#\n",
    "# THE END\n",
    "#"
   ]
  },
  {
   "cell_type": "markdown",
   "metadata": {
    "collapsed": true
   },
   "source": []
  },
  {
   "cell_type": "code",
   "execution_count": null,
   "metadata": {
    "collapsed": true
   },
   "outputs": [],
   "source": []
  },
  {
   "cell_type": "code",
   "execution_count": null,
   "metadata": {
    "collapsed": true
   },
   "outputs": [],
   "source": []
  },
  {
   "cell_type": "code",
   "execution_count": null,
   "metadata": {
    "collapsed": true
   },
   "outputs": [],
   "source": []
  },
  {
   "cell_type": "code",
   "execution_count": null,
   "metadata": {
    "collapsed": true
   },
   "outputs": [],
   "source": []
  },
  {
   "cell_type": "code",
   "execution_count": null,
   "metadata": {
    "collapsed": true
   },
   "outputs": [],
   "source": []
  },
  {
   "cell_type": "code",
   "execution_count": null,
   "metadata": {
    "collapsed": true
   },
   "outputs": [],
   "source": []
  }
 ],
 "metadata": {
  "kernelspec": {
   "display_name": "Python 3",
   "language": "python",
   "name": "python3"
  },
  "language_info": {
   "codemirror_mode": {
    "name": "ipython",
    "version": 3
   },
   "file_extension": ".py",
   "mimetype": "text/x-python",
   "name": "python",
   "nbconvert_exporter": "python",
   "pygments_lexer": "ipython3",
   "version": "3.6.1"
  }
 },
 "nbformat": 4,
 "nbformat_minor": 2
}
