{
 "cells": [
  {
   "cell_type": "markdown",
   "metadata": {},
   "source": [
    "# Standard Least Squared\n",
    "- No preprosessing(not even polynomials), plotting or anything fancy\n",
    "- Plain Least Squared from exercise 3\n",
    "\n",
    "###### Next steps: \n",
    "\n",
    "Low-fruit:\n",
    "- make polynomials\n",
    "- implement cross validation\n",
    "\n",
    "High fruit:\n",
    "- Maybe make a new document with only the Exploratory data analysis with PCA and such. Then we different algorithms can choose to highlight some result and use it in their Feature prosessing. (https://en.wikipedia.org/wiki/Exploratory_data_analysis)\n",
    "- find or write code that finds the best degrees() can't plot...or can just plot one dimension at a time, better to just use ridge regression at that point? Does LS have any type of overfitting add-on"
   ]
  },
  {
   "cell_type": "markdown",
   "metadata": {},
   "source": [
    "### Libraries and imports"
   ]
  },
  {
   "cell_type": "code",
   "execution_count": 48,
   "metadata": {},
   "outputs": [
    {
     "name": "stdout",
     "output_type": "stream",
     "text": [
      "The autoreload extension is already loaded. To reload it, use:\n",
      "  %reload_ext autoreload\n"
     ]
    }
   ],
   "source": [
    "# standard libraries\n",
    "%matplotlib inline\n",
    "import numpy as np\n",
    "import matplotlib.pyplot as plt\n",
    "%load_ext autoreload\n",
    "%autoreload 2\n",
    "\n",
    "# own functions\n",
    "from proj1_helpers import * \n",
    "import basic_functions as bf\n",
    "#import plot_functions as pf \n",
    "\n",
    "#constants\n",
    "train_path = 'train.csv'\n",
    "test_path = 'test.csv'"
   ]
  },
  {
   "cell_type": "markdown",
   "metadata": {},
   "source": [
    "### Importing data"
   ]
  },
  {
   "cell_type": "code",
   "execution_count": null,
   "metadata": {
    "collapsed": true
   },
   "outputs": [],
   "source": []
  },
  {
   "cell_type": "code",
   "execution_count": 138,
   "metadata": {},
   "outputs": [
    {
     "name": "stdout",
     "output_type": "stream",
     "text": [
      "mean:  121.706884347     col:  0\n",
      "mean:  50.2747695539     col:  1\n",
      "mean:  81.0094476895     col:  2\n",
      "mean:  57.2444492899     col:  3\n",
      "mean:  2.40931254237     col:  4\n",
      "mean:  366.297965424     col:  5\n",
      "mean:  -0.795862372881     col:  6\n",
      "mean:  2.37568113623     col:  7\n",
      "mean:  18.9787617524     col:  8\n",
      "mean:  157.932377075     col:  9\n",
      "mean:  1.44765393079     col:  10\n",
      "mean:  -0.15876035207     col:  11\n",
      "mean:  0.475420338983     col:  12\n",
      "mean:  37.9705389078     col:  13\n",
      "mean:  -0.00728345669134     col:  14\n",
      "mean:  0.000356071214243     col:  15\n",
      "mean:  46.3437475495     col:  16\n",
      "mean:  -0.0197271454291     col:  17\n",
      "mean:  0.115021204241     col:  18\n",
      "mean:  42.2081972394     col:  19\n",
      "mean:  0.0285643128626     col:  20\n",
      "mean:  209.392883777     col:  21\n",
      "mean:  0.984396879376     col:  22\n",
      "mean:  84.8364731254     col:  23\n",
      "mean:  -0.0171522893165     col:  24\n",
      "mean:  -0.00245487723955     col:  25\n",
      "mean:  57.7075864407     col:  26\n",
      "mean:  -0.00641288135593     col:  27\n",
      "mean:  -0.12118440678     col:  28\n",
      "mean:  73.6180894179     col:  29\n"
     ]
    },
    {
     "data": {
      "text/plain": [
       "array([[  1.38470000e+02,   5.16550000e+01,   9.78270000e+01, ...,\n",
       "          1.24000000e+00,  -2.47500000e+00,   1.13497000e+02],\n",
       "       [  2.19057000e+02,   7.24610000e+01,   1.24835000e+02, ...,\n",
       "         -6.41288136e-03,  -1.21184407e-01,   5.03960000e+01],\n",
       "       [  9.08010000e+01,   2.77870000e+01,   6.53730000e+01, ...,\n",
       "         -6.41288136e-03,  -1.21184407e-01,   6.27660000e+01],\n",
       "       ..., \n",
       "       [  1.42347000e+02,   7.38900000e+00,   9.92120000e+01, ...,\n",
       "         -6.41288136e-03,  -1.21184407e-01,   9.70680000e+01],\n",
       "       [  7.81620000e+01,   4.63350000e+01,   6.01360000e+01, ...,\n",
       "         -6.41288136e-03,  -1.21184407e-01,   3.24400000e+01],\n",
       "       [  1.30042000e+02,   4.07300000e+00,   6.78190000e+01, ...,\n",
       "         -9.99000000e+02,  -9.99000000e+02,   5.10370000e+01]])"
      ]
     },
     "execution_count": 138,
     "metadata": {},
     "output_type": "execute_result"
    }
   ],
   "source": [
    "y, x, ids = load_csv_data(train_path, sub_sample=True) #remember to switch of subsample when running it \"for real\"\n",
    "\n",
    "x = clean_data(x, mean = True)\n",
    "\n",
    "x"
   ]
  },
  {
   "cell_type": "code",
   "execution_count": null,
   "metadata": {
    "scrolled": false
   },
   "outputs": [],
   "source": []
  },
  {
   "cell_type": "markdown",
   "metadata": {},
   "source": [
    "<h3>Cleaning Data</h3>\n",
    "\n"
   ]
  },
  {
   "cell_type": "code",
   "execution_count": 135,
   "metadata": {},
   "outputs": [],
   "source": [
    "def clean_data(data, replace_9mean = False):\n",
    "    \n",
    "    if(mean):\n",
    "        \n",
    "        rows, columns = data.shape\n",
    "        column_means = np.zeros(30)\n",
    "\n",
    "        #Manually counting mean for each column without -999 values. \n",
    "        for col in range(columns):\n",
    "            c_count = 0\n",
    "            c_sum = 0\n",
    "            for row in range(rows - 1):\n",
    "                data_point = data[row][col]\n",
    "                \n",
    "                if(data_point != -999):\n",
    "                    c_count += 1\n",
    "                    c_sum += data_point\n",
    "            \n",
    "            mean_mean = c_sum / c_count            \n",
    "            column_means[col] = mean_mean\n",
    "        \n",
    "        #Replacing -999 values with column mean\n",
    "        for col in range(columns - 1):\n",
    "            for row in range(rows - 1):\n",
    "                \n",
    "                data_point = data[row][col]\n",
    "                \n",
    "                if(data_point == -999):\n",
    "                    data[row][col] = column_means[col]  \n",
    "                              \n",
    "    else:\n",
    "        data[data == -999] = 0\n",
    "    \n",
    "    return data"
   ]
  },
  {
   "cell_type": "markdown",
   "metadata": {},
   "source": [
    "### Split data"
   ]
  },
  {
   "cell_type": "code",
   "execution_count": 51,
   "metadata": {},
   "outputs": [
    {
     "name": "stdout",
     "output_type": "stream",
     "text": [
      "(4000, 30) (1000, 30) (4000,) (1000,)\n"
     ]
    }
   ],
   "source": [
    "seed = 1\n",
    "ratio = 0.8\n",
    "\n",
    "x_tr, x_te, y_tr, y_te = bf.split_data(x, y, ratio, seed)\n",
    "print(x_tr.shape, x_te.shape, y_tr.shape, y_te.shape)"
   ]
  },
  {
   "cell_type": "markdown",
   "metadata": {},
   "source": [
    "### Exploratory data analysis (ex: PCA)\n",
    "https://en.wikipedia.org/wiki/Exploratory_data_analysis"
   ]
  },
  {
   "cell_type": "markdown",
   "metadata": {},
   "source": [
    "### Feature Processing (ex:Fourier, Poly)\n",
    "http://machinelearningmastery.com/discover-feature-engineering-how-to- engineer-features-and-how-to-get-good-at-it/."
   ]
  },
  {
   "cell_type": "markdown",
   "metadata": {},
   "source": [
    "Ideas:\n",
    "- standardize\n",
    "- polynomials\n",
    "- fourier transformation\n",
    "- sine, cos, tan ...ect\n",
    "- look up kvantemechanics formulas an see if we can find some correlations"
   ]
  },
  {
   "cell_type": "markdown",
   "metadata": {},
   "source": [
    "### Train and produce weigths "
   ]
  },
  {
   "cell_type": "code",
   "execution_count": 52,
   "metadata": {},
   "outputs": [
    {
     "name": "stdout",
     "output_type": "stream",
     "text": [
      "(30,)\n"
     ]
    }
   ],
   "source": [
    "initial_w = np.zeros(len(x[1]))\n",
    "max_iters = 15 # low\n",
    "gamma = 0.5\n",
    "tx = np.transpose(x) \n",
    "ty = np.transpose(y)\n",
    "\n",
    "losses, w = bf.least_squares(ty, x)\n",
    "\n",
    "print(w.shape)\n"
   ]
  },
  {
   "cell_type": "markdown",
   "metadata": {},
   "source": [
    "### Optimalizing: determining overfit or underfit\n",
    "http://cs229.stanford.edu/materials/ML-advice.pdf"
   ]
  },
  {
   "cell_type": "markdown",
   "metadata": {},
   "source": [
    "### Visualize, find pattern of wrong predictions -> back to Exploratory/Feature Proc\n",
    "http://homes.cs.washington.edu/~pedrod/papers/cacm12.pdf"
   ]
  },
  {
   "cell_type": "markdown",
   "metadata": {},
   "source": [
    "### Cross validation before kaggle"
   ]
  },
  {
   "cell_type": "markdown",
   "metadata": {},
   "source": [
    "### Predict higgs boson"
   ]
  },
  {
   "cell_type": "code",
   "execution_count": 53,
   "metadata": {},
   "outputs": [
    {
     "name": "stdout",
     "output_type": "stream",
     "text": [
      "[[-999.      79.589   23.916 ..., -999.    -999.       0.   ]\n",
      " [ 106.398   67.49    87.949 ..., -999.    -999.      47.575]\n",
      " [ 117.794   56.226   96.358 ..., -999.    -999.       0.   ]\n",
      " ..., \n",
      " [ 108.497    9.837   65.149 ..., -999.    -999.       0.   ]\n",
      " [  96.711   20.006   66.942 ..., -999.    -999.      30.863]\n",
      " [  92.373   80.109   77.619 ..., -999.    -999.       0.   ]] [ 1.  1.  1. ...,  1.  1.  1.]\n",
      "[350000 350001 350002 ..., 918235 918236 918237]\n"
     ]
    }
   ],
   "source": [
    "# Import test.csv which contains nonlabeled data\n",
    "# Remember to have sub_sample=False when submitting to kaggle WARNING: it takes a looooong time\n",
    "pred_y, pred_x, pred_ids = load_csv_data(test_path, sub_sample=False)\n",
    "print(pred_x, pred_y)\n",
    "print(pred_ids)"
   ]
  },
  {
   "cell_type": "code",
   "execution_count": 55,
   "metadata": {},
   "outputs": [
    {
     "name": "stdout",
     "output_type": "stream",
     "text": [
      "[-1. -1. -1. -1. -1. -1. -1. -1.  1. -1. -1. -1. -1. -1. -1. -1. -1. -1.\n",
      " -1. -1. -1. -1. -1.  1.]\n"
     ]
    }
   ],
   "source": [
    "weights = w\n",
    "\n",
    "#predictions = compute_prediction(pred_x, weights)\n",
    "#print(predictions[1:25])\n",
    "\n",
    "y_predictions = predict_labels(weights, pred_x)\n",
    "print(y_predictions[1:25])\n"
   ]
  },
  {
   "cell_type": "code",
   "execution_count": 56,
   "metadata": {},
   "outputs": [
    {
     "name": "stdout",
     "output_type": "stream",
     "text": [
      "yolo\n"
     ]
    }
   ],
   "source": [
    "# creates a file with the name you want in the folder of the Python-file. just look in the folder :) \n",
    "name = 'powerpuff_testing.csv'\n",
    "create_csv_submission(pred_ids, y_predictions, name)\n",
    "\n",
    "print(\"yolo\")\n",
    "\n",
    "#\n",
    "# THE END\n",
    "#"
   ]
  },
  {
   "cell_type": "code",
   "execution_count": null,
   "metadata": {
    "collapsed": true
   },
   "outputs": [],
   "source": []
  }
 ],
 "metadata": {
  "kernelspec": {
   "display_name": "Python 3",
   "language": "python",
   "name": "python3"
  },
  "language_info": {
   "codemirror_mode": {
    "name": "ipython",
    "version": 3
   },
   "file_extension": ".py",
   "mimetype": "text/x-python",
   "name": "python",
   "nbconvert_exporter": "python",
   "pygments_lexer": "ipython3",
   "version": "3.6.1"
  }
 },
 "nbformat": 4,
 "nbformat_minor": 2
}
