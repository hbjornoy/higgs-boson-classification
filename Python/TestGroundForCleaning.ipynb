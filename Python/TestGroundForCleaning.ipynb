{
 "cells": [
  {
   "cell_type": "markdown",
   "metadata": {},
   "source": [
    "# Standard Least Squared\n",
    "- No preprosessing(not even polynomials), plotting or anything fancy\n",
    "- Plain Least Squared from exercise 3\n",
    "\n",
    "###### Next steps: \n",
    "\n",
    "Low-fruit:\n",
    "- make polynomials\n",
    "- implement cross validation\n",
    "\n",
    "High fruit:\n",
    "- Maybe make a new document with only the Exploratory data analysis with PCA and such. Then we different algorithms can choose to highlight some result and use it in their Feature prosessing. (https://en.wikipedia.org/wiki/Exploratory_data_analysis)\n",
    "- find or write code that finds the best degrees() can't plot...or can just plot one dimension at a time, better to just use ridge regression at that point? Does LS have any type of overfitting add-on"
   ]
  },
  {
   "cell_type": "markdown",
   "metadata": {},
   "source": [
    "### Libraries and imports"
   ]
  },
  {
   "cell_type": "code",
   "execution_count": 1,
   "metadata": {},
   "outputs": [],
   "source": [
    "# standard libraries\n",
    "%matplotlib inline\n",
    "import numpy as np\n",
    "import matplotlib.pyplot as plt\n",
    "%load_ext autoreload\n",
    "%autoreload 2\n",
    "\n",
    "# own functions\n",
    "from proj1_helpers import * \n",
    "import basic_functions as bf\n",
    "#import plot_functions as pf \n",
    "\n",
    "#constants\n",
    "train_path = 'train.csv'\n",
    "test_path = 'test.csv'"
   ]
  },
  {
   "cell_type": "markdown",
   "metadata": {},
   "source": [
    "### Importing data"
   ]
  },
  {
   "cell_type": "code",
   "execution_count": 2,
   "metadata": {
    "collapsed": true
   },
   "outputs": [],
   "source": [
    "y, x, ids = load_csv_data(train_path, sub_sample=False) #remember to switch of subsample when running it \"for real\""
   ]
  },
  {
   "cell_type": "code",
   "execution_count": 12,
   "metadata": {},
   "outputs": [
    {
     "data": {
      "text/plain": [
       "array([[  1.38470000e+02,   5.16550000e+01,   9.78270000e+01, ...,\n",
       "          1.24000000e+00,  -2.47500000e+00,   1.13497000e+02],\n",
       "       [  1.60937000e+02,   6.87680000e+01,   1.03235000e+02, ...,\n",
       "         -1.00000000e-02,  -2.00000000e-03,   4.62260000e+01],\n",
       "       [  1.12406000e+02,   1.62172000e+02,   1.25953000e+02, ...,\n",
       "         -1.00000000e-02,  -2.00000000e-03,   4.42510000e+01],\n",
       "       ..., \n",
       "       [  1.05457000e+02,   6.05260000e+01,   7.58390000e+01, ...,\n",
       "         -9.99000000e+02,  -9.99000000e+02,   4.19920000e+01],\n",
       "       [  9.49510000e+01,   1.93620000e+01,   6.88120000e+01, ...,\n",
       "         -9.99000000e+02,  -9.99000000e+02,   0.00000000e+00],\n",
       "       [ -9.99000000e+02,   7.27560000e+01,   7.08310000e+01, ...,\n",
       "         -9.99000000e+02,  -9.99000000e+02,   0.00000000e+00]])"
      ]
     },
     "execution_count": 12,
     "metadata": {},
     "output_type": "execute_result"
    }
   ],
   "source": [
    "\n",
    "cleaned_x = bf.clean_data(x, replace_no_measure_with_mean=False, replace_no_measure_with_median=True )\n",
    "\n",
    "cleaned_x"
   ]
  },
  {
   "cell_type": "code",
   "execution_count": 5,
   "metadata": {
    "scrolled": false
   },
   "outputs": [
    {
     "ename": "NameError",
     "evalue": "name 'cleaned_x' is not defined",
     "output_type": "error",
     "traceback": [
      "\u001b[1;31m---------------------------------------------------------------------------\u001b[0m",
      "\u001b[1;31mNameError\u001b[0m                                 Traceback (most recent call last)",
      "\u001b[1;32m<ipython-input-5-5d051fb6ac3e>\u001b[0m in \u001b[0;36m<module>\u001b[1;34m()\u001b[0m\n\u001b[1;32m----> 1\u001b[1;33m \u001b[0mnorm_x\u001b[0m\u001b[1;33m=\u001b[0m\u001b[0mbf\u001b[0m\u001b[1;33m.\u001b[0m\u001b[0mnormalize\u001b[0m\u001b[1;33m(\u001b[0m\u001b[0mcleaned_x\u001b[0m\u001b[1;33m)\u001b[0m\u001b[1;33m\u001b[0m\u001b[0m\n\u001b[0m",
      "\u001b[1;31mNameError\u001b[0m: name 'cleaned_x' is not defined"
     ]
    }
   ],
   "source": [
    "norm_x=bf.normalize(cleaned_x)\n"
   ]
  },
  {
   "cell_type": "markdown",
   "metadata": {},
   "source": [
    "### Split data"
   ]
  },
  {
   "cell_type": "code",
   "execution_count": 4,
   "metadata": {
    "collapsed": true
   },
   "outputs": [],
   "source": [
    "#seed = 1\n",
    "#ratio = 0.8\n",
    "\n",
    "#x_tr, x_te, y_tr, y_te = bf.split_data(x, y, ratio, seed)\n",
    "#print(x_tr.shape, x_te.shape, y_tr.shape, y_te.shape)"
   ]
  },
  {
   "cell_type": "markdown",
   "metadata": {},
   "source": [
    "### Exploratory data analysis (ex: PCA)\n",
    "https://en.wikipedia.org/wiki/Exploratory_data_analysis"
   ]
  },
  {
   "cell_type": "markdown",
   "metadata": {},
   "source": [
    "### Feature Processing (ex:Fourier, Poly)\n",
    "http://machinelearningmastery.com/discover-feature-engineering-how-to- engineer-features-and-how-to-get-good-at-it/."
   ]
  },
  {
   "cell_type": "markdown",
   "metadata": {},
   "source": [
    "Ideas:\n",
    "- standardize\n",
    "- polynomials\n",
    "- fourier transformation\n",
    "- sine, cos, tan ...ect\n",
    "- look up kvantemechanics formulas an see if we can find some correlations"
   ]
  },
  {
   "cell_type": "markdown",
   "metadata": {},
   "source": [
    "### Train and produce weigths "
   ]
  },
  {
   "cell_type": "code",
   "execution_count": 18,
   "metadata": {},
   "outputs": [
    {
     "name": "stdout",
     "output_type": "stream",
     "text": [
      "(30,)\n"
     ]
    }
   ],
   "source": [
    "initial_w = np.zeros(len(x[1]))\n",
    "max_iters = 100 # low\n",
    "gamma = 0.1\n",
    "tx = np.transpose(x) \n",
    "ty = np.transpose(y)\n",
    "\n",
    "losses, w = bf.least_squares(ty, x)\n",
    "\n",
    "print(w.shape)\n"
   ]
  },
  {
   "cell_type": "markdown",
   "metadata": {},
   "source": [
    "### Optimalizing: determining overfit or underfit\n",
    "http://cs229.stanford.edu/materials/ML-advice.pdf"
   ]
  },
  {
   "cell_type": "markdown",
   "metadata": {},
   "source": [
    "### Visualize, find pattern of wrong predictions -> back to Exploratory/Feature Proc\n",
    "http://homes.cs.washington.edu/~pedrod/papers/cacm12.pdf"
   ]
  },
  {
   "cell_type": "markdown",
   "metadata": {},
   "source": [
    "### Cross validation MAGIC \n"
   ]
  },
  {
   "cell_type": "code",
   "execution_count": null,
   "metadata": {},
   "outputs": [
    {
     "name": "stdout",
     "output_type": "stream",
     "text": [
      "(250000, 30)\n",
      "(30, 1)\n"
     ]
    }
   ],
   "source": [
    "#w_ridge, rmse_ridge=      bf.ridge_regression(y_tr, x_tr, lambda_)\n",
    "\n",
    "#loss_reglogreg, w_reglogreg, losses_reglogreg=    bf.reg_logistic_regression(y_tr, tx_tr, lambda_, initial_w, max_iters, gamma)\n",
    "\n",
    "#*args = hyperparameters \n",
    "\n",
    "def cross_validation(function_to_run, y, x, num_of_k_fold, *args):\n",
    "    \n",
    "    losses = []\n",
    "    pred_acc_percents = []\n",
    "    \n",
    "    k_indices = build_k_indices(y, num_of_k_fold, 1)\n",
    "    \n",
    "    for k in range(num_of_k_fold):\n",
    "        \n",
    "        x_test, y_test, x_tr, y_tr = split_k(x,y,k_indices, k)\n",
    "        \n",
    "        if(function_to_run.__name__ == \"reg_logistic_regression\"):\n",
    "            \n",
    "            lambda_ = args[0]\n",
    "            initial_w = args[1]\n",
    "            max_iters = args[2]\n",
    "            gamma = args[3]\n",
    "            \n",
    "            loss, weights, losses =  function_to_run(y_tr, x_tr, lambda_, initial_w, max_iters, gamma) \n",
    "            \n",
    "        elif(function_to_run.__name__ == \"ridge_regression\"):\n",
    "            \n",
    "            lambda_ = args[0]\n",
    "            \n",
    "            weights, loss = bf.ridge_regression(y, x, lambda_)          \n",
    "            \n",
    "            \n",
    "        losses.append(loss)\n",
    "\n",
    "        pred_y = bf.log_pred(x, weights)    \n",
    "        pred_acc_percent, soppel = bf.log_pred_acc(y, pred_y)\n",
    "        pred_acc_percents.append(pred_acc_percent)\n",
    "     \n",
    "    \n",
    "    loss_sum = 0\n",
    "    for loss in losses:\n",
    "        loss_sum += loss\n",
    "    avg_loss = loss_sum / len(losses)\n",
    "    \n",
    "    acc_sum = 0\n",
    "    for acc in pred_acc_percents:\n",
    "        acc_sum += acc\n",
    "    avg_acc = acc_sum / len(pred_acc_percents)\n",
    "    \n",
    "    return avg_loss, losses, avg_acc, pred_acc_percents \n",
    "\n",
    "\n",
    "\n",
    "\n",
    "\n",
    "\n",
    "\n",
    "#avg_loss, losses, avg_preds, pred_acc_percents = cross_validation(ridge_regression, y, x, k_folds, lambda_)\n",
    "\n",
    "ready_x = norm_x # np.delete(norm_x, [5, 6, 12, 24,25,26,27,28,29], axis=1) \n",
    "\n",
    "print(ready_x.shape)\n",
    "\n",
    "lambda_=0.5\n",
    "initial_w = np.zeros((ready_x.shape[1], 1))\n",
    "\n",
    "print(initial_w.shape)\n",
    "\n",
    "max_iters = 20\n",
    "gamma = 0.00001\n",
    "k_folds = 3\n",
    "\n",
    "avg_loss, losses, avg_preds, pred_acc_percents = cross_validation(bf.reg_logistic_regression, y, ready_x, k_folds, lambda_, initial_w, max_iters, gamma)\n",
    "\n",
    "print(\"avg loss: \", avg_loss)\n",
    "print(\"Average prediction NON-accuracy: \", avg_preds)\n"
   ]
  },
  {
   "cell_type": "code",
   "execution_count": 10,
   "metadata": {
    "collapsed": true
   },
   "outputs": [],
   "source": [
    "def build_k_indices(y, k_fold, seed=1):\n",
    "    \"\"\"build k indices for k-fold.\"\"\"\n",
    "    num_row = y.shape[0]\n",
    "    interval = int(num_row / k_fold)\n",
    "    np.random.seed(seed)\n",
    "    indices = np.random.permutation(num_row)\n",
    "    k_indices = [indices[k * interval: (k + 1) * interval]\n",
    "                 for k in range(k_fold)]\n",
    "    return np.array(k_indices)\n",
    "\n",
    "def split_k(x,y,k_indices, k):\n",
    "    #Given the data x, y, k_indices build by build_k_idiices, and k\n",
    "    #Splits the data into training and test data, where the k-th fold is the test data\n",
    "    x_test, y_test= x[k_indices[k]], y[k_indices[k]]\n",
    "    train_ind=np.delete(k_indices,k,0)\n",
    "    train_ind=np.ravel(train_ind)\n",
    "    x_tr, y_tr= x[train_ind], y[train_ind]\n",
    "    return x_test, y_test, x_tr, y_tr \n",
    "\n",
    "\n"
   ]
  },
  {
   "cell_type": "markdown",
   "metadata": {},
   "source": [
    "### Predict higgs boson"
   ]
  },
  {
   "cell_type": "code",
   "execution_count": null,
   "metadata": {
    "collapsed": true
   },
   "outputs": [],
   "source": [
    "# Import test.csv which contains nonlabeled data\n",
    "# Remember to have sub_sample=False when submitting to kaggle WARNING: it takes a looooong time\n",
    "pred_y, pred_x, pred_ids = load_csv_data(test_path, sub_sample=False)\n",
    "print(pred_x, pred_y)\n",
    "print(pred_ids)"
   ]
  },
  {
   "cell_type": "code",
   "execution_count": null,
   "metadata": {
    "collapsed": true
   },
   "outputs": [],
   "source": [
    "weights = w\n",
    "\n",
    "#predictions = compute_prediction(pred_x, weights)\n",
    "#print(predictions[1:25])\n",
    "\n",
    "y_predictions = predict_labels(weights, pred_x)\n",
    "print(y_predictions[1:25])\n"
   ]
  },
  {
   "cell_type": "code",
   "execution_count": 3,
   "metadata": {},
   "outputs": [
    {
     "ename": "NameError",
     "evalue": "name 'pred_ids' is not defined",
     "output_type": "error",
     "traceback": [
      "\u001b[1;31m---------------------------------------------------------------------------\u001b[0m",
      "\u001b[1;31mNameError\u001b[0m                                 Traceback (most recent call last)",
      "\u001b[1;32m<ipython-input-3-fff224f61e98>\u001b[0m in \u001b[0;36m<module>\u001b[1;34m()\u001b[0m\n\u001b[0;32m      1\u001b[0m \u001b[1;31m# creates a file with the name you want in the folder of the Python-file. just look in the folder :)\u001b[0m\u001b[1;33m\u001b[0m\u001b[1;33m\u001b[0m\u001b[0m\n\u001b[0;32m      2\u001b[0m \u001b[0mname\u001b[0m \u001b[1;33m=\u001b[0m \u001b[1;34m'powerpuff_testing.csv'\u001b[0m\u001b[1;33m\u001b[0m\u001b[0m\n\u001b[1;32m----> 3\u001b[1;33m \u001b[0mcreate_csv_submission\u001b[0m\u001b[1;33m(\u001b[0m\u001b[0mpred_ids\u001b[0m\u001b[1;33m,\u001b[0m \u001b[0my_predictions\u001b[0m\u001b[1;33m,\u001b[0m \u001b[0mname\u001b[0m\u001b[1;33m)\u001b[0m\u001b[1;33m\u001b[0m\u001b[0m\n\u001b[0m\u001b[0;32m      4\u001b[0m \u001b[1;33m\u001b[0m\u001b[0m\n\u001b[0;32m      5\u001b[0m \u001b[0mprint\u001b[0m\u001b[1;33m(\u001b[0m\u001b[1;34m\"yolo\"\u001b[0m\u001b[1;33m)\u001b[0m\u001b[1;33m\u001b[0m\u001b[0m\n",
      "\u001b[1;31mNameError\u001b[0m: name 'pred_ids' is not defined"
     ]
    }
   ],
   "source": [
    "# creates a file with the name you want in the folder of the Python-file. just look in the folder :) \n",
    "name = 'powerpuff_testing.csv'\n",
    "create_csv_submission(pred_ids, y_predictions, name)\n",
    "\n",
    "print(\"yolo\")\n",
    "\n",
    "#\n",
    "# THE END\n",
    "#"
   ]
  },
  {
   "cell_type": "markdown",
   "metadata": {
    "collapsed": true
   },
   "source": []
  },
  {
   "cell_type": "code",
   "execution_count": null,
   "metadata": {
    "collapsed": true
   },
   "outputs": [],
   "source": []
  },
  {
   "cell_type": "code",
   "execution_count": null,
   "metadata": {
    "collapsed": true
   },
   "outputs": [],
   "source": []
  },
  {
   "cell_type": "code",
   "execution_count": null,
   "metadata": {
    "collapsed": true
   },
   "outputs": [],
   "source": []
  },
  {
   "cell_type": "code",
   "execution_count": null,
   "metadata": {
    "collapsed": true
   },
   "outputs": [],
   "source": []
  },
  {
   "cell_type": "code",
   "execution_count": null,
   "metadata": {
    "collapsed": true
   },
   "outputs": [],
   "source": []
  },
  {
   "cell_type": "code",
   "execution_count": null,
   "metadata": {
    "collapsed": true
   },
   "outputs": [],
   "source": []
  }
 ],
 "metadata": {
  "kernelspec": {
   "display_name": "Python 3",
   "language": "python",
   "name": "python3"
  },
  "language_info": {
   "codemirror_mode": {
    "name": "ipython",
    "version": 3
   },
   "file_extension": ".py",
   "mimetype": "text/x-python",
   "name": "python",
   "nbconvert_exporter": "python",
   "pygments_lexer": "ipython3",
   "version": "3.6.1"
  }
 },
 "nbformat": 4,
 "nbformat_minor": 2
}
