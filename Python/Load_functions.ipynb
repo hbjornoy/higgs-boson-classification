{
 "cells": [
  {
   "cell_type": "code",
   "execution_count": 25,
   "metadata": {},
   "outputs": [],
   "source": [
    "import numpy as np\n",
    "def load_data_training():\n",
    "    \"\"\"load data.\"\"\"\n",
    "   \n",
    "    data = np.loadtxt(\"train.csv\", dtype={'names': ('ID', 'Prediction',\n",
    "                                                    'DER_mass_MMC','DER_mass_transverse_met_lep',\n",
    "                                                    'DER_mass_vis','DER_pt_h,DER_deltaeta_jet_jet',\n",
    "                                                    'DER_mass_jet_jet','DER_prodeta_jet_jet',\n",
    "                                                    'DER_deltar_tau_lep','DER_pt_tot','DER_sum_pt',\n",
    "                                                    'DER_pt_ratio_lep_tau','DER_met_phi_centrality',\n",
    "                                                    'DER_lep_eta_centrality','PRI_tau_pt','PRI_tau_eta',\n",
    "                                                    'PRI_tau_phi','PRI_lep_pt','PRI_lep_eta','PRI_lep_phi',\n",
    "                                                    'PRI_met','PRI_met_phi','PRI_met_sumet','PRI_jet_num',\n",
    "                                                    'PRI_jet_leading_pt','PRI_jet_leading_eta',\n",
    "                                                    'PRI_jet_leading_phi','PRI_jet_subleading_pt',\n",
    "                                                    'PRI_jet_subleading_eta','PRI_jet_subleading_phi',\n",
    "                                                    'PRI_jet_all_pt'), \n",
    "                                          'formats': (np.float, np.string_,\n",
    "                                                      np.float,np.float,np.float,np.float,np.float,np.float,\n",
    "                                                      np.float,np.float,np.float,np.float,np.float,np.float,\n",
    "                                                      np.float,np.float,np.float,np.float,np.float,np.float,\n",
    "                                                      np.float,np.float,np.float,np.float,np.float,np.float,\n",
    "                                                      np.float,np.float,np.float,np.float,np.float,np.float)}\n",
    "                                          , delimiter=\",\", skiprows=1, unpack=True)\n",
    "    id_= data[0]\n",
    "    y=data[1]\n",
    "    x = data[2:]\n",
    "    return  id_,y, x\n",
    "\n",
    "def load_data_test():\n",
    "    \"\"\"load data.\"\"\"\n",
    "   \n",
    "    data = np.loadtxt(\"test.csv\", dtype={'names': ('ID', 'Prediction',\n",
    "                                                    'DER_mass_MMC','DER_mass_transverse_met_lep',\n",
    "                                                    'DER_mass_vis','DER_pt_h,DER_deltaeta_jet_jet',\n",
    "                                                    'DER_mass_jet_jet','DER_prodeta_jet_jet',\n",
    "                                                    'DER_deltar_tau_lep','DER_pt_tot','DER_sum_pt',\n",
    "                                                    'DER_pt_ratio_lep_tau','DER_met_phi_centrality',\n",
    "                                                    'DER_lep_eta_centrality','PRI_tau_pt','PRI_tau_eta',\n",
    "                                                    'PRI_tau_phi','PRI_lep_pt','PRI_lep_eta','PRI_lep_phi',\n",
    "                                                    'PRI_met','PRI_met_phi','PRI_met_sumet','PRI_jet_num',\n",
    "                                                    'PRI_jet_leading_pt','PRI_jet_leading_eta',\n",
    "                                                    'PRI_jet_leading_phi','PRI_jet_subleading_pt',\n",
    "                                                    'PRI_jet_subleading_eta','PRI_jet_subleading_phi',\n",
    "                                                    'PRI_jet_all_pt'), \n",
    "                                          'formats': (np.float, np.string_,\n",
    "                                                      np.float,np.float,np.float,np.float,np.float,np.float,\n",
    "                                                      np.float,np.float,np.float,np.float,np.float,np.float,\n",
    "                                                      np.float,np.float,np.float,np.float,np.float,np.float,\n",
    "                                                      np.float,np.float,np.float,np.float,np.float,np.float,\n",
    "                                                      np.float,np.float,np.float,np.float,np.float,np.float)}\n",
    "                                          , delimiter=\",\", skiprows=1, unpack=True)\n",
    "    id_= data[0]\n",
    "    x = data[2:]\n",
    "    return  id_, x\n"
   ]
  },
  {
   "cell_type": "code",
   "execution_count": 27,
   "metadata": {},
   "outputs": [],
   "source": [
    "id_,y,x=load_data_training()"
   ]
  },
  {
   "cell_type": "code",
   "execution_count": 30,
   "metadata": {},
   "outputs": [
    {
     "name": "stdout",
     "output_type": "stream",
     "text": [
      "[array([ 138.47 ,  160.937, -999.   , ...,  105.457,   94.951, -999.   ]), array([  51.655,   68.768,  162.172, ...,   60.526,   19.362,   72.756]), array([  97.827,  103.235,  125.953, ...,   75.839,   68.812,   70.831]), array([ 27.98 ,  48.146,  35.635, ...,  39.757,  13.504,   7.479]), array([  9.10000000e-01,  -9.99000000e+02,  -9.99000000e+02, ...,\n",
      "        -9.99000000e+02,  -9.99000000e+02,  -9.99000000e+02]), array([ 124.711, -999.   , -999.   , ..., -999.   , -999.   , -999.   ]), array([   2.666, -999.   , -999.   , ..., -999.   , -999.   , -999.   ]), array([ 3.064,  3.473,  3.148, ...,  2.39 ,  3.365,  2.025]), array([ 41.928,   2.078,   9.336, ...,  22.183,  13.504,   7.479]), array([ 197.76 ,  125.157,  197.814, ...,  120.462,   55.859,   83.24 ]), array([ 1.582,  0.879,  3.776, ...,  1.202,  0.999,  0.936]), array([ 1.396,  1.414,  1.414, ...,  0.529,  1.414, -1.411]), array([  2.00000000e-01,  -9.99000000e+02,  -9.99000000e+02, ...,\n",
      "        -9.99000000e+02,  -9.99000000e+02,  -9.99000000e+02]), array([ 32.638,  42.014,  32.154, ...,  35.636,  27.944,  43.003]), array([ 1.017,  2.039, -0.705, ..., -0.266, -2.211,  1.685]), array([ 0.381, -3.011, -2.093, ..., -3.132,  2.792,  2.653]), array([  51.626,   36.918,  121.409, ...,   42.834,   27.915,   40.236]), array([ 2.273,  0.501, -0.953, ...,  0.381, -0.874,  1.49 ]), array([-2.414,  0.103,  1.052, ...,  0.851, -0.296,  0.637]), array([ 16.824,  44.704,  54.283, ...,  23.419,  12.15 ,  40.729]), array([-0.277, -1.916, -2.186, ..., -2.89 ,  0.811, -1.596]), array([ 258.733,  164.546,  260.414, ...,  198.907,  112.718,   99.405]), array([ 2.,  1.,  1., ...,  1.,  0.,  0.]), array([  67.435,   46.226,   44.251, ...,   41.992, -999.   , -999.   ]), array([  2.15000000e+00,   7.25000000e-01,   2.05300000e+00, ...,\n",
      "         1.80000000e+00,  -9.99000000e+02,  -9.99000000e+02]), array([  4.44000000e-01,   1.15800000e+00,  -2.02800000e+00, ...,\n",
      "        -1.66000000e-01,  -9.99000000e+02,  -9.99000000e+02]), array([  46.062, -999.   , -999.   , ..., -999.   , -999.   , -999.   ]), array([   1.24, -999.  , -999.  , ..., -999.  , -999.  , -999.  ]), array([  -2.475, -999.   , -999.   , ..., -999.   , -999.   , -999.   ])]\n"
     ]
    }
   ],
   "source": [
    "print(x)"
   ]
  },
  {
   "cell_type": "code",
   "execution_count": null,
   "metadata": {
    "collapsed": true
   },
   "outputs": [],
   "source": []
  }
 ],
 "metadata": {
  "kernelspec": {
   "display_name": "Python 3",
   "language": "python",
   "name": "python3"
  },
  "language_info": {
   "codemirror_mode": {
    "name": "ipython",
    "version": 3
   },
   "file_extension": ".py",
   "mimetype": "text/x-python",
   "name": "python",
   "nbconvert_exporter": "python",
   "pygments_lexer": "ipython3",
   "version": "3.6.1"
  }
 },
 "nbformat": 4,
 "nbformat_minor": 2
}
