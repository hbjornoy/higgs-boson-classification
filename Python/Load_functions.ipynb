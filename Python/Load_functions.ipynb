{
 "cells": [
  {
   "cell_type": "code",
   "execution_count": 5,
   "metadata": {
    "collapsed": true
   },
   "outputs": [],
   "source": [
    "import numpy as np\n",
    "def load_data_training():\n",
    "    \"\"\"load data.\"\"\"\n",
    "    data = np.loadtxt(\"train.csv\", delimiter=\",\", skiprows=0, unpack=True)\n",
    "    id_= data[0]\n",
    "    y=data[1]\n",
    "    x = data[2:]\n",
    "    return  id_,y, x\n",
    "\n",
    "\n",
    "def load_data_test():\n",
    "    \"\"\"load data.\"\"\"\n",
    "    data= np.loadtxt(\"test.csv\", delimiter=\",\", skiprows=0, unpack=True)\n",
    "    id_= data[0]\n",
    "    x = data[2:]\n",
    "    return  id_, x"
   ]
  },
  {
   "cell_type": "code",
   "execution_count": null,
   "metadata": {
    "collapsed": true
   },
   "outputs": [],
   "source": []
  }
 ],
 "metadata": {
  "kernelspec": {
   "display_name": "Python 3",
   "language": "python",
   "name": "python3"
  },
  "language_info": {
   "codemirror_mode": {
    "name": "ipython",
    "version": 3
   },
   "file_extension": ".py",
   "mimetype": "text/x-python",
   "name": "python",
   "nbconvert_exporter": "python",
   "pygments_lexer": "ipython3",
   "version": "3.6.1"
  }
 },
 "nbformat": 4,
 "nbformat_minor": 2
}
