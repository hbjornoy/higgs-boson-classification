{
 "cells": [
  {
   "cell_type": "markdown",
   "metadata": {},
   "source": [
    "# Implementation of standard methods"
   ]
  },
  {
   "cell_type": "code",
   "execution_count": 47,
   "metadata": {},
   "outputs": [
    {
     "name": "stdout",
     "output_type": "stream",
     "text": [
      "The autoreload extension is already loaded. To reload it, use:\n",
      "  %reload_ext autoreload\n"
     ]
    }
   ],
   "source": [
    "# standard libraries\n",
    "%matplotlib inline\n",
    "import numpy as np\n",
    "import matplotlib.pyplot as plt\n",
    "import time\n",
    "%load_ext autoreload\n",
    "%autoreload 2\n",
    "\n",
    "# own functions\n",
    "import proj1_helpers as P1H\n",
    "import dataprocessing as DP\n",
    "import implementations as ME\n",
    "import cross_validation as CV\n",
    "\n",
    "from grad_loss import*\n",
    "\n",
    "#constants\n",
    "train_path = 'train.csv'\n",
    "test_path = 'test.csv'"
   ]
  },
  {
   "cell_type": "markdown",
   "metadata": {},
   "source": [
    "#### Importing data "
   ]
  },
  {
   "cell_type": "code",
   "execution_count": 8,
   "metadata": {},
   "outputs": [],
   "source": [
    "y, x, ids = load_csv_data(train_path, sub_sample=True)"
   ]
  },
  {
   "cell_type": "markdown",
   "metadata": {},
   "source": [
    "#### Normalizing data"
   ]
  },
  {
   "cell_type": "code",
   "execution_count": 9,
   "metadata": {
    "collapsed": true
   },
   "outputs": [],
   "source": [
    "nr_x = normalize(x)"
   ]
  },
  {
   "cell_type": "markdown",
   "metadata": {},
   "source": [
    "### Least Squares"
   ]
  },
  {
   "cell_type": "code",
   "execution_count": 17,
   "metadata": {},
   "outputs": [
    {
     "name": "stdout",
     "output_type": "stream",
     "text": [
      "Average error in percentage in least squares: 0.2476\n"
     ]
    }
   ],
   "source": [
    "k_folds = 5\n",
    "\n",
    "avg_loss, losses, avg_acc, pred_acc_percents = CV.cross_validation(ME.least_squares, y, nr_x, k_folds)\n",
    "\n",
    "print(\"Average error in percentage in least squares:\", avg_acc)"
   ]
  },
  {
   "cell_type": "markdown",
   "metadata": {},
   "source": [
    "### Least Squares GD"
   ]
  },
  {
   "cell_type": "markdown",
   "metadata": {},
   "source": [
    "#### Finding optimal Gamma for LSGD"
   ]
  },
  {
   "cell_type": "code",
   "execution_count": 18,
   "metadata": {
    "collapsed": true
   },
   "outputs": [],
   "source": [
    "initial_w_GD = np.zeros((nr_x.shape[1], 1))\n",
    "max_iters_GD = 1000\n",
    "\n",
    "gammas_LSGD=np.logspace(-6,-1,30)\n",
    "\n",
    "loss_LSGD_all=[]\n",
    "\n",
    "for gamma_LSGD in gammas_LSGD:\n",
    "    \n",
    "    loss_LSGD, w_LSDG = ME.least_squares_GD(y, nr_x, initial_w_GD,max_iters_GD, gamma_LSGD)\n",
    "    loss_LSGD_all.append(loss_LSGD)\n",
    "    \n",
    "index_of_best_gamma_LSGD = np.argmin(loss_LSGD_all)\n",
    "best_gamma_LSGD = gammas_LSGD[index_of_best_gamma_LSGD]"
   ]
  },
  {
   "cell_type": "markdown",
   "metadata": {},
   "source": [
    "#### Plotting results"
   ]
  },
  {
   "cell_type": "code",
   "execution_count": 19,
   "metadata": {},
   "outputs": [
    {
     "data": {
      "image/png": "[encoded data removed]",
      "text/plain": [
       "<matplotlib.figure.Figure at 0x25c6cd92fd0>"
      ]
     },
     "metadata": {},
     "output_type": "display_data"
    },
    {
     "name": "stdout",
     "output_type": "stream",
     "text": [
      "Best value of gamma: 0.000853167852417\n"
     ]
    }
   ],
   "source": [
    "plt.semilogx(gammas_LSGD, loss_LSGD_all,'*-',)  \n",
    "plt.title('Gamma - Least squares GD')\n",
    "plt.ylabel('loss')\n",
    "plt.xlabel('gamma')\n",
    "plt.show()\n",
    "\n",
    "print(\"Best value of gamma:\", best_gamma_LSGD)"
   ]
  },
  {
   "cell_type": "markdown",
   "metadata": {},
   "source": [
    "#### Running LSGD"
   ]
  },
  {
   "cell_type": "code",
   "execution_count": 20,
   "metadata": {},
   "outputs": [
    {
     "name": "stdout",
     "output_type": "stream",
     "text": [
      "Error in percentage in least squares GD with gamma 0.000853167852417 and 1000 iterations: 0.3286\n"
     ]
    }
   ],
   "source": [
    "initial_w_GD = np.zeros((nr_x.shape[1], 1))\n",
    "gamma_GD = 0.000853167852417\n",
    "max_iters_GD = 1000\n",
    "k_folds = 5\n",
    "\n",
    "avg_loss, losses, avg_acc, pred_acc_percents = CV.cross_validation(ME.least_squares_GD, y, nr_x, k_folds, initial_w_GD, max_iters_GD, gamma_GD)\n",
    "\n",
    "print(\"Error in percentage in least squares GD with gamma\", gamma_GD, \"and\", max_iters_GD, \"iterations:\", avg_acc)"
   ]
  },
  {
   "cell_type": "markdown",
   "metadata": {},
   "source": [
    "### Least Squares SGD"
   ]
  },
  {
   "cell_type": "markdown",
   "metadata": {},
   "source": [
    "#### Finding optimal Gamma for LSSGD"
   ]
  },
  {
   "cell_type": "code",
   "execution_count": 21,
   "metadata": {},
   "outputs": [],
   "source": [
    "initial_w_SGD = np.zeros((nr_x.shape[1], 1))\n",
    "max_iters_SGD = 3000\n",
    "\n",
    "gammas_LSSGD=np.logspace(-7,-1,30)\n",
    "\n",
    "loss_LSSGD_all=[]\n",
    "\n",
    "for gamma_LSSGD in gammas_LSSGD:\n",
    "    \n",
    "    loss_LSSGD, w_LSSDG = ME.least_squares_SGD(y, nr_x, initial_w_SGD,max_iters_SGD, gamma_LSSGD)\n",
    "    loss_LSSGD_all.append(loss_LSSGD)\n",
    "    \n",
    "index_of_best_gamma_LSSGD = np.argmin(loss_LSSGD_all)\n",
    "best_gamma_LSSGD = gammas_LSSGD[index_of_best_gamma_LSSGD]"
   ]
  },
  {
   "cell_type": "markdown",
   "metadata": {},
   "source": [
    "#### Plotting results"
   ]
  },
  {
   "cell_type": "code",
   "execution_count": 22,
   "metadata": {},
   "outputs": [
    {
     "data": {
      "image/png": "[encoded data removed]",
      "text/plain": [
       "<matplotlib.figure.Figure at 0x25c73fa37f0>"
      ]
     },
     "metadata": {},
     "output_type": "display_data"
    },
    {
     "name": "stdout",
     "output_type": "stream",
     "text": [
      "Best value of gamma: 0.000204335971786\n"
     ]
    }
   ],
   "source": [
    "plt.semilogx(gammas_LSSGD, loss_LSSGD_all,'*-',)  \n",
    "plt.title('Gamma - Least squares SGD')\n",
    "plt.ylabel('loss')\n",
    "plt.xlabel('gamma')\n",
    "plt.show()\n",
    "\n",
    "print(\"Best value of gamma:\", best_gamma_LSSGD)"
   ]
  },
  {
   "cell_type": "markdown",
   "metadata": {},
   "source": [
    "#### Running LSSGD with cross validation"
   ]
  },
  {
   "cell_type": "code",
   "execution_count": 23,
   "metadata": {},
   "outputs": [
    {
     "name": "stdout",
     "output_type": "stream",
     "text": [
      "Error in percentage in least squares GD with gamma 0.000204335971786 and 3000 iterations: 0.3286\n"
     ]
    }
   ],
   "source": [
    "initial_w_SGD = np.zeros((nr_x.shape[1], 1))\n",
    "\n",
    "gamma_SGD = 0.000204335971786\n",
    "max_iters_SGD = 3000\n",
    "k_folds = 5\n",
    "\n",
    "avg_loss, losses, avg_acc, pred_acc_percents = CV.cross_validation(ME.least_squares_SGD, y, nr_x, k_folds, initial_w_SGD, max_iters_SGD, gamma_SGD)\n",
    "\n",
    "print(\"Error in percentage in least squares GD with gamma\", gamma_SGD, \"and\", max_iters_SGD, \"iterations:\", avg_acc)"
   ]
  },
  {
   "cell_type": "markdown",
   "metadata": {},
   "source": [
    "### Ridge Regression"
   ]
  },
  {
   "cell_type": "markdown",
   "metadata": {},
   "source": [
    "#### Finding optimal Lambda for Ridge Regression"
   ]
  },
  {
   "cell_type": "code",
   "execution_count": 29,
   "metadata": {
    "collapsed": true
   },
   "outputs": [],
   "source": [
    "lambdas_RR=np.logspace(-7,2,20)\n",
    "accuracy_RR_all=[]\n",
    "loss_RR_all=[]\n",
    "\n",
    "for lambda_RR in lambdas_RR:\n",
    "    \n",
    "    loss_RR, w_RR = ME.ridge_regression(y, nr_x, lambda_RR)\n",
    "    loss_RR_all.append(loss_RR)\n",
    "    \n",
    "index_of_best_lambda_RR = np.argmin(loss_RR_all)\n",
    "best_lambda_RR = lambdas_RR[index_of_best_lambda_RR]"
   ]
  },
  {
   "cell_type": "markdown",
   "metadata": {},
   "source": [
    "#### Plotting results"
   ]
  },
  {
   "cell_type": "code",
   "execution_count": 30,
   "metadata": {},
   "outputs": [
    {
     "data": {
      "image/png": "[encoded data removed]",
      "text/plain": [
       "<matplotlib.figure.Figure at 0x25c6cd838d0>"
      ]
     },
     "metadata": {},
     "output_type": "display_data"
    },
    {
     "name": "stdout",
     "output_type": "stream",
     "text": [
      "lowest value of lambda: 1e-07\n"
     ]
    }
   ],
   "source": [
    "plt.semilogx(lambdas_RR, loss_RR_all,'*-',)  \n",
    "plt.title('Lambda - Ridge Regression')\n",
    "plt.ylabel('loss')\n",
    "plt.xlabel('lambda')\n",
    "plt.show()\n",
    "\n",
    "print(\"lowest value of lambda:\", best_lambda_RR)"
   ]
  },
  {
   "cell_type": "markdown",
   "metadata": {},
   "source": [
    "#### Running Ridge Regression with cross validation"
   ]
  },
  {
   "cell_type": "code",
   "execution_count": 32,
   "metadata": {},
   "outputs": [
    {
     "name": "stdout",
     "output_type": "stream",
     "text": [
      "Error in percentage in ridge regression with lambda 2.33572146909e-05 : 0.2514\n"
     ]
    }
   ],
   "source": [
    "k_folds = 5\n",
    "lambda_RR= 2.33572146909e-05\n",
    "\n",
    "avg_loss, losses, avg_acc, pred_acc_percents = CV.cross_validation(ME.ridge_regression, y, nr_x, k_folds, lambda_RR)\n",
    "\n",
    "print(\"Error in percentage in ridge regression with lambda\", lambda_RR, \":\", avg_acc)"
   ]
  },
  {
   "cell_type": "markdown",
   "metadata": {},
   "source": [
    "### Logistic regression"
   ]
  },
  {
   "cell_type": "markdown",
   "metadata": {},
   "source": [
    "#### Preparing dataset for Logistic Regression"
   ]
  },
  {
   "cell_type": "code",
   "execution_count": 33,
   "metadata": {
    "collapsed": true
   },
   "outputs": [],
   "source": [
    "#Adding a constant (intercept) in the x, and set y to 1/0 (instead of 1/-1)\n",
    "\n",
    "x_LR = np.c_[np.ones((nr_x.shape[0], 1)), nr_x]\n",
    "\n",
    "y_LR = classify(y)"
   ]
  },
  {
   "cell_type": "markdown",
   "metadata": {},
   "source": [
    "#### Finding optimal Gamma for Logistic Regression"
   ]
  },
  {
   "cell_type": "code",
   "execution_count": 34,
   "metadata": {},
   "outputs": [],
   "source": [
    "initial_w_LR = np.zeros((x_LR.shape[1], 1))\n",
    "max_iters_LR = 500\n",
    "k_folds = 5\n",
    "\n",
    "gammas_LR = np.logspace(-3.6,-3,30)\n",
    "\n",
    "loss_LR_all = []\n",
    "\n",
    "for gamma_LR in gammas_LR:\n",
    "    \n",
    "    loss_LR, w_LR = ME.logistic_regression(y_LR, x_LR, initial_w_LR, max_iters_LR, gamma_LR)\n",
    "    loss_LR_all.append(loss_LR)\n",
    "    \n",
    "index_of_best_gamma_LR = np.argmin(loss_LR_all)\n",
    "best_gamma_LR = gammas_LR[index_of_best_gamma_LR]"
   ]
  },
  {
   "cell_type": "markdown",
   "metadata": {},
   "source": [
    "#### Plotting results"
   ]
  },
  {
   "cell_type": "code",
   "execution_count": 35,
   "metadata": {},
   "outputs": [
    {
     "data": {
      "image/png": "[encoded data removed]",
      "text/plain": [
       "<matplotlib.figure.Figure at 0x25c73fd05c0>"
      ]
     },
     "metadata": {},
     "output_type": "display_data"
    },
    {
     "name": "stdout",
     "output_type": "stream",
     "text": [
      "Best value of gamma: 0.000385662042116\n"
     ]
    }
   ],
   "source": [
    "plt.semilogx(gammas_LR, loss_LR_all,'*-',)  \n",
    "plt.title('Gamma - Logistic regression')\n",
    "plt.ylabel('loss')\n",
    "plt.xlabel('gamma')\n",
    "plt.show()\n",
    "\n",
    "print(\"Best value of gamma:\", best_gamma_LR)"
   ]
  },
  {
   "cell_type": "markdown",
   "metadata": {},
   "source": [
    "#### Running Logistic Regression with cross validation"
   ]
  },
  {
   "cell_type": "code",
   "execution_count": 38,
   "metadata": {},
   "outputs": [
    {
     "name": "stdout",
     "output_type": "stream",
     "text": [
      "Error in percentage using Logistic regression with gamma 0.000385662042116 and 500 iterations: 0.26243999999999995\n"
     ]
    }
   ],
   "source": [
    "initial_w_LR = np.zeros((x_LR.shape[1], 1))\n",
    "max_iters_LR = 500\n",
    "gamma_LR = 0.000385662042116\n",
    "k_folds = 5\n",
    "\n",
    "avg_loss, losses, avg_acc, pred_acc_percents = CV.cross_validation(ME.logistic_regression, y_LR, x_LR, k_folds, \n",
    "                                                                   initial_w_LR, max_iters_LR, gamma_LR)\n",
    "\n",
    "print(\"Error in percentage using Logistic regression with gamma\", gamma_LR, \"and\", max_iters_LR, \"iterations:\", avg_acc)"
   ]
  },
  {
   "cell_type": "markdown",
   "metadata": {},
   "source": [
    "### Regular Logistic regression"
   ]
  },
  {
   "cell_type": "markdown",
   "metadata": {},
   "source": [
    "#### Preparing dataset for Regular Logistic Regression"
   ]
  },
  {
   "cell_type": "code",
   "execution_count": 39,
   "metadata": {
    "collapsed": true
   },
   "outputs": [],
   "source": [
    "#Adding a constant (intercept) in the x, and set y to 1/0 (instead of 1/-1)\n",
    "\n",
    "x_RLR = np.c_[np.ones((nr_x.shape[0], 1)), nr_x]\n",
    "\n",
    "y_RLR = classify(y)"
   ]
  },
  {
   "cell_type": "markdown",
   "metadata": {},
   "source": [
    "#### Finding optimal value for Gamma"
   ]
  },
  {
   "cell_type": "code",
   "execution_count": 40,
   "metadata": {
    "collapsed": true
   },
   "outputs": [],
   "source": [
    "initial_w_RLR = np.zeros((x_RLR.shape[1], 1))\n",
    "lambda_RLR = 1\n",
    "max_iters_RLR = 500\n",
    "\n",
    "gammas_RLR = np.logspace(-3.6,-3,30)\n",
    "\n",
    "loss_RLR_all = []\n",
    "\n",
    "for gamma_RLR in gammas_RLR:\n",
    "    \n",
    "    loss_RLR, w_RLR = ME.reg_logistic_regression(y_RLR, x_RLR, lambda_RLR, initial_w_RLR,max_iters_RLR, gamma_RLR)\n",
    "    loss_RLR_all.append(loss_RLR)\n",
    "    \n",
    "index_of_best_gamma_RLR = np.argmin(loss_RLR_all)\n",
    "best_gamma_RLR = gammas_RLR[index_of_best_gamma_RLR]"
   ]
  },
  {
   "cell_type": "markdown",
   "metadata": {},
   "source": [
    "#### Ploting optimal value for gamma"
   ]
  },
  {
   "cell_type": "code",
   "execution_count": 41,
   "metadata": {},
   "outputs": [
    {
     "data": {
      "image/png": "[encoded data removed]",
      "text/plain": [
       "<matplotlib.figure.Figure at 0x25c77124080>"
      ]
     },
     "metadata": {},
     "output_type": "display_data"
    },
    {
     "name": "stdout",
     "output_type": "stream",
     "text": [
      "Best value of gamma: 0.000385662042116\n"
     ]
    }
   ],
   "source": [
    "plt.semilogx(gammas_RLR, loss_RLR_all,'*-',)  \n",
    "plt.title('Gamma - Regularized Logistic regression')\n",
    "plt.ylabel('loss')\n",
    "plt.xlabel('gamma')\n",
    "plt.show()\n",
    "\n",
    "print(\"Best value of gamma:\", best_gamma_RLR)"
   ]
  },
  {
   "cell_type": "markdown",
   "metadata": {},
   "source": [
    "#### Finding optimal value for Lambda"
   ]
  },
  {
   "cell_type": "code",
   "execution_count": 42,
   "metadata": {
    "collapsed": true
   },
   "outputs": [],
   "source": [
    "max_iters_RLR = 1000\n",
    "gamma_RLR = 0.000385662042116\n",
    "initial_w_RLR = np.zeros((x_RLR.shape[1], 1))\n",
    "\n",
    "lambdas_RLR=np.logspace(-5,3,30)\n",
    "\n",
    "accuracy_RLR_all=[]\n",
    "loss_RLR_all=[]\n",
    "\n",
    "for lambda_RLR in lambdas_RLR:\n",
    "    \n",
    "    loss_RLR, w_RLR = ME.reg_logistic_regression(y_RLR, x_RLR, lambda_RLR, initial_w_RLR, max_iters_RLR, gamma_RLR)\n",
    "    loss_RLR_all.append(loss_RLR)\n",
    "    \n",
    "index_of_best_lambda_RLR = np.argmin(loss_RLR_all)\n",
    "best_lambda_RLR = lambdas_RLR[index_of_best_lambda_RLR]"
   ]
  },
  {
   "cell_type": "markdown",
   "metadata": {},
   "source": [
    "#### Plotting optimal value for Lambda"
   ]
  },
  {
   "cell_type": "code",
   "execution_count": 43,
   "metadata": {
    "scrolled": true
   },
   "outputs": [
    {
     "data": {
      "image/png": "[encoded data removed]",
      "text/plain": [
       "<matplotlib.figure.Figure at 0x25c51558470>"
      ]
     },
     "metadata": {},
     "output_type": "display_data"
    },
    {
     "name": "stdout",
     "output_type": "stream",
     "text": [
      "Best value of lambda: 1e-05\n"
     ]
    }
   ],
   "source": [
    "plt.semilogx(lambdas_RLR, loss_RLR_all, '-*')\n",
    "plt.title('Lambda - Regular Logistic Regression')\n",
    "plt.ylabel('loss')\n",
    "plt.xlabel('lambda')\n",
    "plt.show()\n",
    "\n",
    "print(\"Best value of lambda:\", best_lambda_RLR)"
   ]
  },
  {
   "cell_type": "markdown",
   "metadata": {},
   "source": [
    "#### Running Regular Logistic Regression with cross validation\n"
   ]
  },
  {
   "cell_type": "code",
   "execution_count": 46,
   "metadata": {},
   "outputs": [
    {
     "name": "stdout",
     "output_type": "stream",
     "text": [
      "Error in percentage in regularized logistic regression with gamma 0.000489390091848 , lambda 1e-05 and 1000 iterations: 0.2542\n"
     ]
    }
   ],
   "source": [
    "initial_w_RLR = np.zeros((x_RLR.shape[1], 1))\n",
    "max_iters_RLR = 1000\n",
    "gamma_RLR = 0.000489390091848\n",
    "lambda_RLR = 1e-05\n",
    "k_folds = 5\n",
    "\n",
    "avg_loss, losses, avg_acc, pred_acc_percents = CV.cross_validation(ME.reg_logistic_regression,\n",
    "                                                                   y_RLR, x_RLR, k_folds, lambda_RLR,\n",
    "                                                                   initial_w_RLR, max_iters_RLR, gamma_RLR)\n",
    "\n",
    "print(\"Error in percentage in regularized logistic regression with gamma\", gamma_RLR, \", lambda\", lambda_RLR,\n",
    "      \"and\", max_iters_RLR, \"iterations:\", avg_acc)"
   ]
  }
 ],
 "metadata": {
  "kernelspec": {
   "display_name": "Python 3",
   "language": "python",
   "name": "python3"
  },
  "language_info": {
   "codemirror_mode": {
    "name": "ipython",
    "version": 3
   },
   "file_extension": ".py",
   "mimetype": "text/x-python",
   "name": "python",
   "nbconvert_exporter": "python",
   "pygments_lexer": "ipython3",
   "version": "3.6.1"
  }
 },
 "nbformat": 4,
 "nbformat_minor": 2
}
