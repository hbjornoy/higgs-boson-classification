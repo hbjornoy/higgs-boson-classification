{
 "cells": [
  {
   "cell_type": "code",
   "execution_count": null,
   "metadata": {
    "collapsed": true
   },
   "outputs": [],
   "source": [
    "# Useful starting lines\n",
    "%matplotlib inline\n",
    "import numpy as np\n",
    "import matplotlib.pyplot as plt\n",
    "%load_ext autoreload\n",
    "%autoreload 2\n",
    "from helpers import *"
   ]
  },
  {
   "cell_type": "code",
   "execution_count": null,
   "metadata": {
    "collapsed": true
   },
   "outputs": [],
   "source": [
    "## Help function 1:computing the gradient\n",
    "def compute_gradient(y, tx, w):\n",
    "    N = len(y)\n",
    "    error = (y - np.dot(tx,w))\n",
    "    gradient=-(1/N)*np.dot(np.transpose(tx),error)\n",
    "    return gradient"
   ]
  },
  {
   "cell_type": "code",
   "execution_count": null,
   "metadata": {
    "collapsed": true
   },
   "outputs": [],
   "source": [
    "## Help funciton 2: calculating the mean square error\n",
    "def get_mse(y, tx, w):\n",
    "    N = len(y)\n",
    "    error = (y - np.dot(tx,w))\n",
    "    mse = (1/(2*N)) * np.sum(np.square(error))\n",
    "    return mse"
   ]
  },
  {
   "cell_type": "code",
   "execution_count": null,
   "metadata": {
    "collapsed": true
   },
   "outputs": [],
   "source": [
    "## Help function 3: comcputing the stochastic gradient\n",
    "## Veldig fint om noen har en mer elegant løsning\n",
    "def compute_stoch_gradient(y, tx, w, batch_size):\n",
    "    \n",
    "    \n",
    "    #FORSØK PÅ \"swish\" \n",
    "    \n",
    "    for y_batch, tx_batch in batch_iter(y, tx, batch_size, max_iters, shuffle=True):\n",
    "        \n",
    "        gradient=compute_gradient(y_batch, tx_batch, w)\n",
    "\n",
    "    \n",
    "    #ORIGINAL FRA HEDDA SOM VIRKER HELT GARRA \n",
    "\n",
    "    #batches = batch_iter(y, tx, batch_size, num_batches=1, shuffle=True)\n",
    "    #batch=next(batches) ## fant ingen bedre måter å gjøre dette på.. \n",
    "\n",
    "    #y_batch=batch[0]\n",
    "    #tx_batch=batch[1]\n",
    "    #gradient=compute_gradient(y_batch, tx_batch, w)\n",
    "    \n",
    "    return gradient "
   ]
  },
  {
   "cell_type": "code",
   "execution_count": null,
   "metadata": {
    "collapsed": true
   },
   "outputs": [],
   "source": [
    "## Help funciton 4: building polynomial matrix\n",
    "\n",
    "def build_poly(x, degree):\n",
    "    # this function should return the matrix formed\n",
    "    # by applying the polynomial basis to the input data\n",
    "    n=len(x)\n",
    "    phi=np.zeros((n, degree+1))\n",
    "    for j in range(degree+1): \n",
    "        for i in range(n):\n",
    "            phi[i,j]=x[i]**j\n",
    "    return phi"
   ]
  },
  {
   "cell_type": "code",
   "execution_count": null,
   "metadata": {
    "collapsed": true
   },
   "outputs": [],
   "source": [
    "## Gradient Descent\n",
    "def least_squares_GD(y, tx, initial_w, max_iters, gamma):\n",
    "    # Define parameters to store w and loss\n",
    "    ws = [initial_w]\n",
    "    losses = []\n",
    "    w = initial_w\n",
    "    for n_iter in range(max_iters):\n",
    "        gradient=compute_gradient(y,tx,w)\n",
    "        loss=get_mse(y,tx,w)\n",
    "        w=w-gamma*gradient\n",
    "        ws.append(w)\n",
    "        losses.append(loss)\n",
    "        #print(\"Gradient Descent({bi}/{ti}): loss={l}, w0={w0}, w1={w1}\".format(\n",
    "        #    bi=n_iter, ti=max_iters - 1, l=loss, w0=w[0], w1=w[1]))\n",
    "\n",
    "    return losses, ws"
   ]
  },
  {
   "cell_type": "code",
   "execution_count": null,
   "metadata": {
    "collapsed": true
   },
   "outputs": [],
   "source": [
    "## Stochastic Gradient Descent\n",
    "def least_squares_SGD(y, tx, initial_w,max_iters, gamma):\n",
    "    batch_size=1\n",
    "    # Define parameters to store w and loss\n",
    "    ws = [initial_w]\n",
    "    losses = []\n",
    "    w = initial_w\n",
    "    for n_iter in range(max_iters):\n",
    "        gradient=compute_stoch_gradient(y,tx,w)\n",
    "        loss=get_mse(y,tx,w)\n",
    "        w=w-gamma*gradient\n",
    "        ws.append(w)\n",
    "        losses.append(loss)\n",
    "        #print(\"Gradient Descent({bi}/{ti}): loss={l}, w0={w0}, w1={w1}\".format(\n",
    "        #    bi=n_iter, ti=max_iters - 1, l=loss, w0=w[0], w1=w[1]))\n",
    "\n",
    "    return losses, ws"
   ]
  },
  {
   "cell_type": "code",
   "execution_count": null,
   "metadata": {
    "collapsed": true
   },
   "outputs": [],
   "source": [
    "## Normal Equations\n",
    "def least_squares(y, tx): \n",
    "    # returns mse, and optimal weights\n",
    "    trans_tx=np.transpose(tx)\n",
    "    a=np.dot(trans_tx,tx)\n",
    "    b=np.dot(trans_tx,y)\n",
    "    w=np.linalg.solve(a,b)\n",
    "    mse= get_mse(y,tx,w)\n",
    "    return mse, w\n",
    "    "
   ]
  },
  {
   "cell_type": "code",
   "execution_count": null,
   "metadata": {
    "collapsed": true
   },
   "outputs": [],
   "source": [
    "## Ridge Regression, Normal Equations\n",
    "def ridge_regression(y, tx, lambda_):\n",
    "    N,M=tx.shape\n",
    "    I=np.identity(M)\n",
    "    t_tx=np.transpose(tx)\n",
    "    matrix_inv=np.linalg.inv(np.dot(t_tx,tx)+lambda_*2*N*I)\n",
    "    w_ridge=np.dot(np.dot(matrix_inv,t_tx),y)\n",
    "    rmse=np.sqrt(2*(compute_loss(y,tx,w_ridge)+lambda_*np.linalg.norm(w_ridge,ord=2)**2))\n",
    "    return w_ridge, rmse"
   ]
  },
  {
   "cell_type": "code",
   "execution_count": null,
   "metadata": {
    "collapsed": true
   },
   "outputs": [],
   "source": [
    "## Logistic Regression, GD or SGD\n",
    "def logistic regression(y, tx, initial_w,max_iters, gamma):\n",
    "    "
   ]
  },
  {
   "cell_type": "code",
   "execution_count": null,
   "metadata": {
    "collapsed": true
   },
   "outputs": [],
   "source": [
    "## Regularized logistic regression, GD or SGD\n",
    "def reg_logistic_regression(y, tx, lambda_, initial_w, max_iters, gamma)"
   ]
  }
 ],
 "metadata": {
  "kernelspec": {
   "display_name": "Python 3",
   "language": "python",
   "name": "python3"
  },
  "language_info": {
   "codemirror_mode": {
    "name": "ipython",
    "version": 3
   },
   "file_extension": ".py",
   "mimetype": "text/x-python",
   "name": "python",
   "nbconvert_exporter": "python",
   "pygments_lexer": "ipython3",
   "version": "3.6.1"
  }
 },
 "nbformat": 4,
 "nbformat_minor": 2
}
