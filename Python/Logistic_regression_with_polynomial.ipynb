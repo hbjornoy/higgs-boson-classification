{
 "cells": [
  {
   "cell_type": "markdown",
   "metadata": {},
   "source": [
    "# Attempting regularized logistic regression with polynomials"
   ]
  },
  {
   "cell_type": "code",
   "execution_count": null,
   "metadata": {},
   "outputs": [],
   "source": [
    "# standard libraries\n",
    "%matplotlib inline\n",
    "import numpy as np\n",
    "import matplotlib.pyplot as plt\n",
    "%load_ext autoreload\n",
    "%autoreload 2\n",
    "\n",
    "# own functions\n",
    "from proj1_helpers import *\n",
    "import basic_functions as bf\n",
    "#import plot_functions as pf \n",
    "\n",
    "#constants\n",
    "train_path = 'train.csv'\n",
    "test_path = 'test.csv'"
   ]
  },
  {
   "cell_type": "markdown",
   "metadata": {},
   "source": [
    "### Importing data"
   ]
  },
  {
   "cell_type": "code",
   "execution_count": null,
   "metadata": {
    "collapsed": true
   },
   "outputs": [],
   "source": [
    "#Importing data: \n",
    "y, x, ids = load_csv_data(train_path, sub_sample=True) #remember to switch of subsample when running it \"for real\"\n",
    "pred_y, pred_x, pred_ids = load_csv_data(test_path, sub_sample=True)"
   ]
  },
  {
   "cell_type": "markdown",
   "metadata": {},
   "source": [
    "### Variables"
   ]
  },
  {
   "cell_type": "code",
   "execution_count": null,
   "metadata": {
    "collapsed": true
   },
   "outputs": [],
   "source": [
    "seed = 1\n",
    "ratio = 0.90\n"
   ]
  },
  {
   "cell_type": "markdown",
   "metadata": {},
   "source": [
    "### Preprocessing data with polynomials, compute error for each combination of degree and lambda_"
   ]
  },
  {
   "cell_type": "code",
   "execution_count": null,
   "metadata": {
    "collapsed": true
   },
   "outputs": [],
   "source": [
    "degrees=(1,2,3,4,5,6,7,8,9,10,11,12,13,14,15,16,17,18,19)\n",
    "lambdas=np.logspace(-8,3,11)\n",
    "rmses_tr=np.zeros((len(degrees),len(lambdas)))\n",
    "rmses_te=np.zeros((len(degrees),len(lambdas)))\n",
    "max_iters = 100\n",
    "gamma = 0.00065\n",
    "\n"
   ]
  },
  {
   "cell_type": "code",
   "execution_count": null,
   "metadata": {},
   "outputs": [],
   "source": [
    "for d, degree in enumerate(degrees): \n",
    "    #bulding polynomial\n",
    "    phi=bf.build_poly(x, degree)\n",
    "    #splitting data\n",
    "    x_tr, x_te, y_tr, y_te = bf.split_data(phi, y, ratio, seed)\n",
    "\n",
    "    ty_te=bf.classify(y_te)\n",
    "    ty_tr=bf.classify(y_tr)\n",
    "    #Normalizing data\n",
    "    x_tr=bf.normalize(x_tr)\n",
    "    x_te=bf.normalize(x_te)\n",
    "    initial_w=np.zeros((x_tr.shape[1], 1))\n",
    "    for l, lambda_ in enumerate(lambdas):\n",
    "        #preforming ridge regression\n",
    "        rmse_tr, w, losses=bf.reg_logistic_regression(ty_tr, x_tr, lambda_, initial_w, max_iters, gamma)\n",
    "        rmses_tr[d,l]=rmse_tr\n",
    "    \n",
    "        rmse_te=bf.calculate_loss(ty_te, x_te, w) + (lambda_/2)*np.linalg.norm(w,2)**2\n",
    "        rmses_te[d,l]=rmse_te"
   ]
  },
  {
   "cell_type": "code",
   "execution_count": null,
   "metadata": {},
   "outputs": [],
   "source": [
    "print(rmses_tr)"
   ]
  },
  {
   "cell_type": "code",
   "execution_count": null,
   "metadata": {},
   "outputs": [],
   "source": [
    "#trying to predict y: \n",
    "pred_y_log= bf.log_pred(x_te,w)\n",
    "percent_log, counter_log=bf.log_pred_acc(y_te,pred_y_log)\n",
    "\n",
    "print(percent_log)"
   ]
  },
  {
   "cell_type": "code",
   "execution_count": null,
   "metadata": {},
   "outputs": [],
   "source": [
    "plt.plot(degrees,rmses_tr[:,0],color='b', marker='*', label=\"Train error 1\")\n",
    "plt.plot(degrees,rmses_tr[:,1],color='r', marker='*', label=\"Train error 2\")\n",
    "plt.plot(degrees,rmses_tr[:,2],color='g', marker='*', label=\"Train error 3\")\n",
    "plt.plot(degrees,rmses_tr[:,3],color='m', marker='*', label=\"Train error 4\")\n",
    "plt.plot(degrees,rmses_tr[:,4],color='y', marker='*', label=\"Train error 5\")\n",
    "plt.plot(degrees,rmses_tr[:,5],color='b', marker='*', label=\"Train error 6\")\n",
    "plt.plot(degrees,rmses_tr[:,6],color='r', marker='*', label=\"Train error 7\")\n",
    "plt.plot(degrees,rmses_tr[:,7],color='g', marker='*', label=\"Train error 8\")\n",
    "plt.plot(degrees,rmses_tr[:,8],color='m', marker='*', label=\"Train error 9\")\n",
    "plt.plot(degrees,rmses_tr[:,9],color='m', marker='*', label=\"Train error 10\")\n",
    "leg = plt.legend(loc=1, shadow=True)"
   ]
  },
  {
   "cell_type": "code",
   "execution_count": null,
   "metadata": {},
   "outputs": [],
   "source": [
    "plt.plot(degrees,rmses_te[:,0],color='b', marker='*', label=\"Test error 1\")\n",
    "plt.plot(degrees,rmses_tr[:,0],color='r', marker='*', label=\"Train error 1\")\n",
    "leg = plt.legend(loc=1, shadow=True)"
   ]
  },
  {
   "cell_type": "code",
   "execution_count": null,
   "metadata": {},
   "outputs": [],
   "source": [
    "plt.plot(degrees,rmses_te[:,1],color='b', marker='*', label=\"Test error 2\")\n",
    "plt.plot(degrees,rmses_tr[:,1],color='r', marker='*', label=\"Train error 2\")\n",
    "leg = plt.legend(loc=1, shadow=True)"
   ]
  },
  {
   "cell_type": "code",
   "execution_count": null,
   "metadata": {},
   "outputs": [],
   "source": [
    "plt.plot(degrees,rmses_te[:,2],color='b', marker='*', label=\"Test error 3\")\n",
    "plt.plot(degrees,rmses_tr[:,2],color='r', marker='*', label=\"Train error 3\")\n",
    "leg = plt.legend(loc=1, shadow=True)"
   ]
  },
  {
   "cell_type": "code",
   "execution_count": null,
   "metadata": {},
   "outputs": [],
   "source": [
    "plt.plot(degrees,rmses_te[:,3],color='b', marker='*', label=\"Test error 4\")\n",
    "plt.plot(degrees,rmses_tr[:,3],color='r', marker='*', label=\"Train error 4\")\n",
    "leg = plt.legend(loc=1, shadow=True)"
   ]
  },
  {
   "cell_type": "code",
   "execution_count": null,
   "metadata": {},
   "outputs": [],
   "source": [
    "plt.plot(degrees,rmses_te[:,4],color='b', marker='*', label=\"Test error 5\")\n",
    "plt.plot(degrees,rmses_tr[:,4],color='r', marker='*', label=\"Train error 5\")\n",
    "leg = plt.legend(loc=1, shadow=True)"
   ]
  },
  {
   "cell_type": "code",
   "execution_count": null,
   "metadata": {},
   "outputs": [],
   "source": [
    "plt.plot(degrees,rmses_te[:,5],color='b', marker='*', label=\"Test error 6\")\n",
    "plt.plot(degrees,rmses_tr[:,5],color='r', marker='*', label=\"Train error 6\")\n",
    "leg = plt.legend(loc=1, shadow=True)"
   ]
  },
  {
   "cell_type": "code",
   "execution_count": null,
   "metadata": {},
   "outputs": [],
   "source": [
    "plt.plot(degrees,rmses_te[:,6],color='b', marker='*', label=\"Test error 7\")\n",
    "plt.plot(degrees,rmses_tr[:,6],color='r', marker='*', label=\"Train error 7\")\n",
    "leg = plt.legend(loc=1, shadow=True)"
   ]
  },
  {
   "cell_type": "code",
   "execution_count": null,
   "metadata": {},
   "outputs": [],
   "source": [
    "plt.plot(degrees,rmses_te[:,7],color='b', marker='*', label=\"Test error 8\")\n",
    "plt.plot(degrees,rmses_tr[:,7],color='r', marker='*', label=\"Train error 8\")\n",
    "leg = plt.legend(loc=1, shadow=True)"
   ]
  },
  {
   "cell_type": "code",
   "execution_count": null,
   "metadata": {},
   "outputs": [],
   "source": [
    "plt.plot(degrees,rmses_te[:,8],color='b', marker='*', label=\"Test error 9\")\n",
    "plt.plot(degrees,rmses_tr[:,8],color='r', marker='*', label=\"Train error 9\")\n",
    "leg = plt.legend(loc=1, shadow=True)"
   ]
  },
  {
   "cell_type": "code",
   "execution_count": null,
   "metadata": {},
   "outputs": [],
   "source": [
    "plt.plot(degrees,rmses_tr[:,0],color='b', marker='*', label=\"Train error 1\")\n",
    "plt.plot(degrees,rmses_tr[:,1],color='b', marker='*', label=\"Train error 2\")\n",
    "plt.plot(degrees,rmses_tr[:,2],color='b', marker='*', label=\"Train error 3\")\n",
    "plt.plot(degrees,rmses_tr[:,3],color='b', marker='*', label=\"Train error 4\")\n",
    "plt.plot(degrees,rmses_tr[:,4],color='b', marker='*', label=\"Train error 5\")\n",
    "plt.plot(degrees,rmses_te[:,0],color='r', marker='*', label=\"Test error 1\")\n",
    "plt.plot(degrees,rmses_te[:,1],color='y', marker='*', label=\"Test error 2\")\n",
    "plt.plot(degrees,rmses_te[:,2],color='g', marker='*', label=\"Test error 3\")\n",
    "plt.plot(degrees,rmses_te[:,3],color='m', marker='*', label=\"Test error 4\")\n",
    "plt.plot(degrees,rmses_te[:,4],color='black', marker='*', label=\"Test error 5\")\n",
    "leg = plt.legend(loc=1, shadow=True)"
   ]
  },
  {
   "cell_type": "code",
   "execution_count": null,
   "metadata": {},
   "outputs": [],
   "source": [
    "plt.plot(degrees,rmses_tr[:,5],color='grey', marker='*', label=\"Train error 6\")\n",
    "plt.plot(degrees,rmses_tr[:,6],color='b', marker='*', label=\"Train error 7\")\n",
    "plt.plot(degrees,rmses_tr[:,7],color='b', marker='*', label=\"Train error 8\")\n",
    "plt.plot(degrees,rmses_tr[:,8],color='b', marker='*', label=\"Train error 9\")\n",
    "plt.plot(degrees,rmses_tr[:,9],color='b', marker='*', label=\"Train error 10\")\n",
    "plt.plot(degrees,rmses_te[:,5],color='r', marker='*', label=\"Test error 6\")\n",
    "plt.plot(degrees,rmses_te[:,6],color='g', marker='*', label=\"Test error 7\")\n",
    "plt.plot(degrees,rmses_te[:,7],color='y', marker='*', label=\"Test error 8\")\n",
    "plt.plot(degrees,rmses_te[:,8],color='m', marker='*', label=\"Test error 9\")\n",
    "plt.plot(degrees,rmses_te[:,9],color='black', marker='*', label=\"Test error 10\")\n",
    "leg = plt.legend(loc=1, shadow=True)"
   ]
  },
  {
   "cell_type": "markdown",
   "metadata": {},
   "source": [
    "### testing logistic regression (lambda_0) "
   ]
  },
  {
   "cell_type": "code",
   "execution_count": null,
   "metadata": {},
   "outputs": [],
   "source": [
    "degrees=(1,2,3,4,5,6,7,8,9,10,11,12,13,14,15,16,17,18,19)\n",
    "lambdas7=np.logspace(-13,3,11)\n",
    "lambda7_=0\n",
    "rmses_tr7=[]\n",
    "rmses_te7=[]\n",
    "percents7=[]\n",
    "tr_percents7=[]\n",
    "max_iters = 1000\n",
    "gamma = 0.000005\n",
    "\n"
   ]
  },
  {
   "cell_type": "code",
   "execution_count": null,
   "metadata": {},
   "outputs": [],
   "source": [
    "for degree in degrees:\n",
    "    #bulding polynomial\n",
    "    #Normalizing data\n",
    "    nx=bf.normalize(x)\n",
    "    phi7=bf.build_poly(nx, degree)\n",
    "    #splitting data\n",
    "    x_tr7, x_te7, y_tr7, y_te7 = bf.split_data(phi7, y, 0.5, seed)\n",
    "\n",
    "    ty_te7=bf.classify(y_te7)\n",
    "    ty_tr7=bf.classify(y_tr7)\n",
    "    #Normalizing data\n",
    "    #x_tr7=bf.normalize(x_tr7)\n",
    "    #x_te7=bf.normalize(x_te7)\n",
    "    initial_w=np.zeros((x_tr7.shape[1], 1))\n",
    "    #for l, lambda_ in enumerate(lambdas7):\n",
    "    #preforming ridge regression\n",
    "    rmse_tr7, w7, losses7=bf.reg_logistic_regression(ty_tr7, x_tr7, lambda7_, initial_w, max_iters, gamma)\n",
    "    rmses_tr7.append(rmse_tr7)\n",
    "    rmse_te7=bf.calculate_loss(ty_te7, x_te7, w7) + (lambda_/2)*np.linalg.norm(w7,2)**2\n",
    "    rmses_te7.append(rmse_te7)\n",
    "    \n",
    "    pred_y7= bf.log_pred(x_te7,w7)\n",
    "    percent7, counter7=bf.log_pred_acc(y_te7,pred_y7)\n",
    "    tr_pred_y7= bf.log_pred(x_tr7,w7)\n",
    "    tr_percent7, counter7=bf.log_pred_acc(y_tr7,tr_pred_y7)\n",
    "    percents7.append(percent7)\n",
    "    tr_percents7.append(tr_percent7)"
   ]
  },
  {
   "cell_type": "code",
   "execution_count": null,
   "metadata": {},
   "outputs": [],
   "source": [
    "pred_y7= bf.log_pred(x_te7,w7)\n",
    "percent7, counter7=bf.log_pred_acc(y_te7,pred_y7)\n",
    "print(percent7)"
   ]
  },
  {
   "cell_type": "code",
   "execution_count": null,
   "metadata": {},
   "outputs": [],
   "source": [
    "plt.plot(degrees, rmses_tr7 ,color='b', marker='*', label=\"Train error\")\n",
    "plt.plot(degrees, rmses_te7, color='r', marker='*', label=\"Test error\")\n",
    "leg = plt.legend(loc=1, shadow=True)"
   ]
  },
  {
   "cell_type": "code",
   "execution_count": null,
   "metadata": {},
   "outputs": [],
   "source": [
    "plt.plot(degrees, percents7 ,color='r', marker='*', label=\"Test error\")\n",
    "plt.plot(degrees, tr_percents7 ,color='b', marker='*', label=\"Train error\")\n",
    "leg = plt.legend(loc=1, shadow=True)"
   ]
  },
  {
   "cell_type": "code",
   "execution_count": null,
   "metadata": {},
   "outputs": [],
   "source": [
    "print(percents7)"
   ]
  },
  {
   "cell_type": "code",
   "execution_count": null,
   "metadata": {},
   "outputs": [],
   "source": [
    "print(losses7)"
   ]
  },
  {
   "cell_type": "code",
   "execution_count": null,
   "metadata": {
    "collapsed": true
   },
   "outputs": [],
   "source": []
  }
 ],
 "metadata": {
  "kernelspec": {
   "display_name": "Python 3",
   "language": "python",
   "name": "python3"
  },
  "language_info": {
   "codemirror_mode": {
    "name": "ipython",
    "version": 3
   },
   "file_extension": ".py",
   "mimetype": "text/x-python",
   "name": "python",
   "nbconvert_exporter": "python",
   "pygments_lexer": "ipython3",
   "version": "3.6.1"
  }
 },
 "nbformat": 4,
 "nbformat_minor": 2
}
