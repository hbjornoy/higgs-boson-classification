{
 "cells": [
  {
   "cell_type": "markdown",
   "metadata": {},
   "source": [
    "### Ridge regression: comparing lambdas and degree of polynomial"
   ]
  },
  {
   "cell_type": "markdown",
   "metadata": {},
   "source": [
    "###### Goal: What is the best combination of degrees and lambda? \n",
    "To get better visualization: limit the number of degrees to approximately 4"
   ]
  },
  {
   "cell_type": "code",
   "execution_count": null,
   "metadata": {
    "collapsed": true
   },
   "outputs": [],
   "source": [
    "# standard libraries\n",
    "%matplotlib inline\n",
    "import numpy as np\n",
    "import matplotlib.pyplot as plt\n",
    "%load_ext autoreload\n",
    "%autoreload 2\n",
    "\n",
    "# own functions\n",
    "from proj1_helpers import *\n",
    "import basic_functions as bf\n",
    "#import plot_functions as pf \n",
    "\n",
    "#constants\n",
    "train_path = 'train.csv'\n",
    "test_path = 'test.csv'"
   ]
  },
  {
   "cell_type": "markdown",
   "metadata": {},
   "source": [
    "### Importing data:"
   ]
  },
  {
   "cell_type": "code",
   "execution_count": null,
   "metadata": {},
   "outputs": [],
   "source": [
    "#Importing data: \n",
    "y, x, ids = load_csv_data(train_path, sub_sample=False) #remember to switch of subsample when running it \"for real\"\n",
    "pred_y, pred_x, pred_ids = load_csv_data(test_path, sub_sample=False)"
   ]
  },
  {
   "cell_type": "markdown",
   "metadata": {},
   "source": [
    "### Variables"
   ]
  },
  {
   "cell_type": "code",
   "execution_count": null,
   "metadata": {
    "collapsed": true
   },
   "outputs": [],
   "source": [
    "seed = 1\n",
    "ratio = 0.90\n"
   ]
  },
  {
   "cell_type": "markdown",
   "metadata": {},
   "source": [
    "### Preprocessing data: Polynomials"
   ]
  },
  {
   "cell_type": "code",
   "execution_count": null,
   "metadata": {
    "collapsed": true
   },
   "outputs": [],
   "source": [
    "degrees=(1,2,3,4,5,6,7,8,9,10,11,12,13,14)\n",
    "lambdas=np.logspace(-8,3,11)\n",
    "rmses_tr=np.zeros((len(degrees),len(lambdas)))\n",
    "rmses_te=np.zeros((len(degrees),len(lambdas)))"
   ]
  },
  {
   "cell_type": "code",
   "execution_count": null,
   "metadata": {},
   "outputs": [],
   "source": [
    "degrees=(1,2,3,4,5,6)#,7,8,9,10,11,12,13,14)\n",
    "lambdas=np.logspace(-8,3,11)\n",
    "rmses_tr=np.zeros((len(degrees),len(lambdas)))\n",
    "rmses_te=np.zeros((len(degrees),len(lambdas)))\n",
    "\n",
    "for d, degree in enumerate(degrees): \n",
    "    #bulding polynomial\n",
    "    phi=bf.build_poly(x, degree)\n",
    "    #splitting data\n",
    "    x_tr, x_te, y_tr, y_te = bf.split_data(phi, y, ratio, seed)\n",
    "    #Normalizing data\n",
    "    x_tr=bf.normalize(x_tr)\n",
    "    x_te=bf.normalize(x_te)\n",
    "    for l, lambda_ in enumerate(lambdas):\n",
    "        #preforming ridge regression\n",
    "        w, rmse_tr=bf.ridge_regression(y_tr, x_tr, lambda_)\n",
    "        rmses_tr[d,l]=rmse_tr\n",
    "        rmse_te=np.sqrt(2*bf.get_mse(y_te, x_te, w))\n",
    "        rmses_te[d,l]=rmse_te\n",
    "    "
   ]
  },
  {
   "cell_type": "code",
   "execution_count": null,
   "metadata": {},
   "outputs": [],
   "source": [
    "plt.plot(degrees,rmses_tr[:,0],color='b', marker='*', label=\"Train error 1\")\n",
    "plt.plot(degrees,rmses_tr[:,1],color='r', marker='*', label=\"Train error 2\")\n",
    "plt.plot(degrees,rmses_tr[:,2],color='g', marker='*', label=\"Train error 3\")\n",
    "plt.plot(degrees,rmses_tr[:,3],color='m', marker='*', label=\"Train error 4\")\n",
    "plt.plot(degrees,rmses_tr[:,4],color='y', marker='*', label=\"Train error 5\")\n",
    "plt.plot(degrees,rmses_tr[:,5],color='b', marker='*', label=\"Train error 6\")\n",
    "plt.plot(degrees,rmses_tr[:,6],color='r', marker='*', label=\"Train error 7\")\n",
    "plt.plot(degrees,rmses_tr[:,7],color='g', marker='*', label=\"Train error 8\")\n",
    "plt.plot(degrees,rmses_tr[:,8],color='m', marker='*', label=\"Train error 9\")\n",
    "plt.plot(degrees,rmses_tr[:,9],color='m', marker='*', label=\"Train error 10\")\n",
    "leg = plt.legend(loc=1, shadow=True)"
   ]
  },
  {
   "cell_type": "code",
   "execution_count": null,
   "metadata": {},
   "outputs": [],
   "source": [
    "plt.plot(degrees,rmses_te[:,0],color='b', marker='*', label=\"Test error 1\")\n",
    "plt.plot(degrees,rmses_te[:,1],color='r', marker='*', label=\"Test error 2\")\n",
    "plt.plot(degrees,rmses_te[:,2],color='g', marker='*', label=\"Test error 3\")\n",
    "plt.plot(degrees,rmses_te[:,3],color='m', marker='*', label=\"Test error 4\")\n",
    "plt.plot(degrees,rmses_te[:,4],color='y', marker='*', label=\"Test error 5\")\n",
    "plt.plot(degrees,rmses_te[:,5],color='b', marker='*', label=\"Test error 6\")\n",
    "plt.plot(degrees,rmses_te[:,6],color='r', marker='*', label=\"Test error 7\")\n",
    "plt.plot(degrees,rmses_te[:,7],color='g', marker='*', label=\"Test error 8\")\n",
    "plt.plot(degrees,rmses_te[:,8],color='m', marker='*', label=\"Test error 9\")\n",
    "plt.plot(degrees,rmses_te[:,9],color='m', marker='*', label=\"Test error 10\")\n",
    "leg = plt.legend(loc=1, shadow=True)"
   ]
  },
  {
   "cell_type": "code",
   "execution_count": null,
   "metadata": {},
   "outputs": [],
   "source": [
    "plt.plot(degrees,rmses_te[:,0],color='b', marker='*', label=\"Test error 1\")\n",
    "plt.plot(degrees,rmses_tr[:,0],color='r', marker='*', label=\"Train error 1\")\n",
    "leg = plt.legend(loc=1, shadow=True)"
   ]
  },
  {
   "cell_type": "code",
   "execution_count": null,
   "metadata": {},
   "outputs": [],
   "source": [
    "plt.plot(degrees,rmses_te[:,1],color='b', marker='*', label=\"Test error 2\")\n",
    "plt.plot(degrees,rmses_tr[:,1],color='r', marker='*', label=\"Train error 2\")\n",
    "leg = plt.legend(loc=1, shadow=True)"
   ]
  },
  {
   "cell_type": "code",
   "execution_count": null,
   "metadata": {},
   "outputs": [],
   "source": [
    "plt.plot(degrees,rmses_te[:,2],color='b', marker='*', label=\"Test error 3\")\n",
    "plt.plot(degrees,rmses_tr[:,2],color='r', marker='*', label=\"Train error 3\")\n",
    "leg = plt.legend(loc=1, shadow=True)"
   ]
  },
  {
   "cell_type": "code",
   "execution_count": null,
   "metadata": {},
   "outputs": [],
   "source": [
    "plt.plot(degrees,rmses_te[:,3],color='b', marker='*', label=\"Test error 4\")\n",
    "plt.plot(degrees,rmses_tr[:,3],color='r', marker='*', label=\"Train error 4\")\n",
    "leg = plt.legend(loc=1, shadow=True)"
   ]
  },
  {
   "cell_type": "code",
   "execution_count": null,
   "metadata": {},
   "outputs": [],
   "source": [
    "plt.plot(degrees,rmses_te[:,4],color='b', marker='*', label=\"Test error 5\")\n",
    "plt.plot(degrees,rmses_tr[:,4],color='r', marker='*', label=\"Train error 5\")\n",
    "leg = plt.legend(loc=1, shadow=True)"
   ]
  },
  {
   "cell_type": "code",
   "execution_count": null,
   "metadata": {},
   "outputs": [],
   "source": [
    "plt.plot(degrees,rmses_te[:,5],color='b', marker='*', label=\"Test error 6\")\n",
    "plt.plot(degrees,rmses_tr[:,5],color='r', marker='*', label=\"Train error 6\")\n",
    "leg = plt.legend(loc=1, shadow=True)"
   ]
  },
  {
   "cell_type": "code",
   "execution_count": null,
   "metadata": {},
   "outputs": [],
   "source": [
    "plt.plot(degrees,rmses_te[:,6],color='b', marker='*', label=\"Test error 7\")\n",
    "plt.plot(degrees,rmses_tr[:,6],color='r', marker='*', label=\"Train error 7\")\n",
    "leg = plt.legend(loc=1, shadow=True)"
   ]
  },
  {
   "cell_type": "code",
   "execution_count": null,
   "metadata": {},
   "outputs": [],
   "source": [
    "plt.plot(degrees,rmses_te[:,7],color='b', marker='*', label=\"Test error 8\")\n",
    "plt.plot(degrees,rmses_tr[:,7],color='r', marker='*', label=\"Train error 8\")\n",
    "leg = plt.legend(loc=1, shadow=True)"
   ]
  },
  {
   "cell_type": "code",
   "execution_count": null,
   "metadata": {},
   "outputs": [],
   "source": [
    "plt.plot(degrees,rmses_te[:,8],color='b', marker='*', label=\"Test error 9\")\n",
    "plt.plot(degrees,rmses_tr[:,8],color='r', marker='*', label=\"Train error 9\")\n",
    "leg = plt.legend(loc=1, shadow=True)"
   ]
  },
  {
   "cell_type": "code",
   "execution_count": null,
   "metadata": {},
   "outputs": [],
   "source": [
    "plt.plot(degrees,rmses_tr[:,0],color='b', marker='*', label=\"Train error 1\")\n",
    "plt.plot(degrees,rmses_tr[:,1],color='b', marker='*', label=\"Train error 2\")\n",
    "plt.plot(degrees,rmses_tr[:,2],color='b', marker='*', label=\"Train error 3\")\n",
    "plt.plot(degrees,rmses_tr[:,3],color='b', marker='*', label=\"Train error 4\")\n",
    "plt.plot(degrees,rmses_tr[:,4],color='b', marker='*', label=\"Train error 5\")\n",
    "plt.plot(degrees,rmses_te[:,0],color='r', marker='*', label=\"Test error 1\")\n",
    "plt.plot(degrees,rmses_te[:,1],color='y', marker='*', label=\"Test error 2\")\n",
    "plt.plot(degrees,rmses_te[:,2],color='g', marker='*', label=\"Test error 3\")\n",
    "plt.plot(degrees,rmses_te[:,3],color='m', marker='*', label=\"Test error 4\")\n",
    "plt.plot(degrees,rmses_te[:,4],color='black', marker='*', label=\"Test error 5\")\n",
    "leg = plt.legend(loc=1, shadow=True)"
   ]
  },
  {
   "cell_type": "code",
   "execution_count": null,
   "metadata": {},
   "outputs": [],
   "source": [
    "plt.plot(degrees,rmses_tr[:,5],color='grey', marker='*', label=\"Train error 6\")\n",
    "plt.plot(degrees,rmses_tr[:,6],color='b', marker='*', label=\"Train error 7\")\n",
    "plt.plot(degrees,rmses_tr[:,7],color='b', marker='*', label=\"Train error 8\")\n",
    "plt.plot(degrees,rmses_tr[:,8],color='b', marker='*', label=\"Train error 9\")\n",
    "plt.plot(degrees,rmses_tr[:,9],color='b', marker='*', label=\"Train error 10\")\n",
    "plt.plot(degrees,rmses_te[:,5],color='r', marker='*', label=\"Test error 6\")\n",
    "plt.plot(degrees,rmses_te[:,6],color='g', marker='*', label=\"Test error 7\")\n",
    "plt.plot(degrees,rmses_te[:,7],color='y', marker='*', label=\"Test error 8\")\n",
    "plt.plot(degrees,rmses_te[:,8],color='m', marker='*', label=\"Test error 9\")\n",
    "plt.plot(degrees,rmses_te[:,9],color='black', marker='*', label=\"Test error 10\")\n",
    "leg = plt.legend(loc=1, shadow=True)"
   ]
  },
  {
   "cell_type": "markdown",
   "metadata": {},
   "source": [
    "### Chosing degree 4, lambda_ in place 4: \n",
    "\n",
    "(choose a different one if analysis shows that that is better)"
   ]
  },
  {
   "cell_type": "code",
   "execution_count": null,
   "metadata": {},
   "outputs": [],
   "source": [
    "\n",
    "phi=bf.build_poly(x, 5)\n",
    "#splitting data\n",
    "#x_tr, x_te, y_tr, y_te = bf.split_data(phi, y, ratio, seed)\n",
    "x_tr=x\n",
    "y_tr=y\n",
    "#Normalizing data\n",
    "x_tr=bf.normalize(x_tr)\n",
    "#x_te=bf.normalize(x_te)\n",
    "w, rmse_tr=bf.ridge_regression(y_tr, x_tr, lambdas[4])\n",
    "rmse_tr_cho=rmse_tr\n",
    "#rmse_te_cho=np.sqrt(2*bf.get_mse(y_te, x_te, w))\n",
    "\n",
    "    "
   ]
  },
  {
   "cell_type": "code",
   "execution_count": null,
   "metadata": {},
   "outputs": [],
   "source": [
    "print(rmse_tr_cho)\n",
    "#print(rmse_te_cho)"
   ]
  },
  {
   "cell_type": "code",
   "execution_count": null,
   "metadata": {},
   "outputs": [],
   "source": [
    "\n",
    "\n",
    "y_pred = predict_labels(w, x_tr)\n",
    "print(y_pred[1:25])\n",
    "p,c=bf.log_pred_acc(y_tr,y_pred)\n",
    "print(p,c)"
   ]
  },
  {
   "cell_type": "code",
   "execution_count": null,
   "metadata": {},
   "outputs": [],
   "source": [
    "y_predictions = predict_labels(w, pred_x)"
   ]
  },
  {
   "cell_type": "code",
   "execution_count": null,
   "metadata": {
    "collapsed": true
   },
   "outputs": [],
   "source": [
    "name = 'powerpuff3_testing.csv' ##this gave 0.65, with the 4th lambda and 5 degrees... \n",
    "create_csv_submission(pred_ids, y_predictions, name)"
   ]
  },
  {
   "cell_type": "code",
   "execution_count": null,
   "metadata": {
    "collapsed": true
   },
   "outputs": [],
   "source": []
  }
 ],
 "metadata": {
  "kernelspec": {
   "display_name": "Python 3",
   "language": "python",
   "name": "python3"
  },
  "language_info": {
   "codemirror_mode": {
    "name": "ipython",
    "version": 3
   },
   "file_extension": ".py",
   "mimetype": "text/x-python",
   "name": "python",
   "nbconvert_exporter": "python",
   "pygments_lexer": "ipython3",
   "version": "3.6.1"
  }
 },
 "nbformat": 4,
 "nbformat_minor": 2
}
