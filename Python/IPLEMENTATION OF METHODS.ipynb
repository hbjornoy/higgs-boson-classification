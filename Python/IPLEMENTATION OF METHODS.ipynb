{
 "cells": [
  {
   "cell_type": "markdown",
   "metadata": {},
   "source": [
    "# IMPLEMENTATION OF METHODS"
   ]
  },
  {
   "cell_type": "code",
   "execution_count": 1,
   "metadata": {
    "collapsed": true
   },
   "outputs": [],
   "source": [
    "# standard libraries\n",
    "%matplotlib inline\n",
    "import numpy as np\n",
    "import matplotlib.pyplot as plt\n",
    "import time\n",
    "%load_ext autoreload\n",
    "%autoreload 2\n",
    "\n",
    "# own functions\n",
    "\n",
    "import proj1_helpers as P1H\n",
    "import dataprocessing as DP\n",
    "import methods as ME\n",
    "\n",
    "from grad_loss import*\n",
    "\n",
    "#constants\n",
    "train_path = 'train.csv'\n",
    "test_path = 'test.csv'"
   ]
  },
  {
   "cell_type": "code",
   "execution_count": 2,
   "metadata": {
    "collapsed": true
   },
   "outputs": [],
   "source": [
    "#Importing data: \n",
    "y, x, ids = load_csv_data(train_path, sub_sample=True)\n",
    "\n",
    "ratio = 0.8\n",
    "\n",
    "x_tr, x_te, y_tr, y_te = DP.split_data(x, y, ratio)"
   ]
  },
  {
   "cell_type": "code",
   "execution_count": 3,
   "metadata": {
    "collapsed": true
   },
   "outputs": [],
   "source": [
    "train_x = normalize(x_tr)\n",
    "test_x = normalize(x_te)\n"
   ]
  },
  {
   "cell_type": "markdown",
   "metadata": {},
   "source": [
    "### Least Squares GD"
   ]
  },
  {
   "cell_type": "code",
   "execution_count": 4,
   "metadata": {},
   "outputs": [
    {
     "name": "stdout",
     "output_type": "stream",
     "text": [
      "y_tr shape:  (4000,)\n",
      "train_x shape:  (4000, 30)\n",
      "Error in percentage in least squares GD with gamma 0.2 and 1500 iterations: 0.263\n"
     ]
    }
   ],
   "source": [
    "initial_w_GD = np.zeros((train_x.shape[1], 1))\n",
    "gamma_GD = 0.2\n",
    "max_iters_GD = 1500\n",
    "\n",
    "print(\"y_tr shape: \", y_tr.shape)\n",
    "print(\"train_x shape: \", train_x.shape)\n",
    "\n",
    "loss_LSGD, w_LSDG = ME.least_squares_GD(y_tr, train_x, initial_w_GD, max_iters_GD, gamma_GD)\n",
    "\n",
    "y_pred_GD = P1H.predict_labels(w_LSDG, x_te) \n",
    "\n",
    "accuracy_GD = DP.pred_acc(y_te, y_pred_GD)\n",
    "\n",
    "print(\"Error in percentage in least squares GD with gamma\", gamma_GD, \"and\", max_iters_GD, \"iterations:\", accuracy_GD[0])"
   ]
  },
  {
   "cell_type": "markdown",
   "metadata": {},
   "source": [
    "### Least Squares SGD"
   ]
  },
  {
   "cell_type": "code",
   "execution_count": 18,
   "metadata": {},
   "outputs": [
    {
     "name": "stdout",
     "output_type": "stream",
     "text": [
      "Error in percentage in least squares SGD with gamma 0.0001 and 2000 iterations: 0.313\n"
     ]
    }
   ],
   "source": [
    "initial_w_SGD = np.zeros((train_x.shape[1], 1))\n",
    "\n",
    "gamma_SGD = 0.0001\n",
    "max_iters_SGD = 2000\n",
    "\n",
    "loss_LSSGD, w_LSSDG = ME.least_squares_SGD(y_tr, train_x, initial_w_SGD,max_iters_SGD, gamma_SGD)\n",
    "\n",
    "y_pred_SGD = P1H.predict_labels(w_LSSDG, x_te) \n",
    "\n",
    "accuracy_SGD = DP.pred_acc(y_te, y_pred_SGD)\n",
    "\n",
    "print(\"Error in percentage in least squares SGD with gamma\", gamma_SGD, \"and\", max_iters_SGD, \"iterations:\", accuracy_SGD[0])\n",
    "\n",
    "\n",
    "\n"
   ]
  },
  {
   "cell_type": "markdown",
   "metadata": {},
   "source": [
    "### Least Squares"
   ]
  },
  {
   "cell_type": "code",
   "execution_count": 6,
   "metadata": {},
   "outputs": [
    {
     "name": "stdout",
     "output_type": "stream",
     "text": [
      "Error in percentage in least squares: 0.313\n"
     ]
    }
   ],
   "source": [
    "loss_LS, w_LS = ME.least_squares(y_tr, train_x)\n",
    "\n",
    "y_pred_LS = P1H.predict_labels(w_LS, x_te) \n",
    "\n",
    "accuracy_LS = DP.pred_acc(y_te, y_pred_LS)\n",
    "\n",
    "print(\"Error in percentage in least squares:\", accuracy_LS[0])\n"
   ]
  },
  {
   "cell_type": "markdown",
   "metadata": {},
   "source": [
    "### Ridge Regression"
   ]
  },
  {
   "cell_type": "code",
   "execution_count": 7,
   "metadata": {},
   "outputs": [
    {
     "name": "stdout",
     "output_type": "stream",
     "text": [
      "Error in percentage in ridge regression with lambda 2.33572146909e-05 : 0.253\n"
     ]
    }
   ],
   "source": [
    "lambda_RR= 2.33572146909e-05\n",
    "\n",
    "loss_RR, w_RR = ME.ridge_regression(y_tr, train_x, lambda_RR)\n",
    "\n",
    "y_pred_RR = P1H.predict_labels(w_RR, x_te) \n",
    "\n",
    "accuracy_RR = DP.pred_acc(y_te, y_pred_RR)\n",
    "\n",
    "print(\"Error in percentage in ridge regression with lambda\", lambda_RR, \":\", accuracy_RR[0])\n"
   ]
  },
  {
   "cell_type": "code",
   "execution_count": 8,
   "metadata": {
    "collapsed": true
   },
   "outputs": [],
   "source": [
    "lambdas_RR=np.logspace(-7,2,20)\n",
    "accuracy_RR_all=[]\n",
    "loss_RR_all=[]\n",
    "for lambda_RR in lambdas_RR:\n",
    "    loss_RR, w_RR = ME.ridge_regression(y_tr, train_x, lambda_RR)\n",
    "    y_pred_RR = P1H.predict_labels(w_RR, x_te) \n",
    "    accuracy_RR = DP.pred_acc(y_te, y_pred_RR)\n",
    "    accuracy_RR_all.append(accuracy_RR[0])\n",
    "    loss_RR_all.append(loss_RR)"
   ]
  },
  {
   "cell_type": "code",
   "execution_count": 9,
   "metadata": {},
   "outputs": [
    {
     "name": "stdout",
     "output_type": "stream",
     "text": [
      "2.33572146909e-05\n"
     ]
    },
    {
     "data": {
      "image/png": "[encoded data removed]",
      "text/plain": [
       "<matplotlib.figure.Figure at 0x1768d250908>"
      ]
     },
     "metadata": {},
     "output_type": "display_data"
    }
   ],
   "source": [
    "plt.semilogx(lambdas_RR, accuracy_RR_all,'*-',)\n",
    "print(lambdas_RR[5])"
   ]
  },
  {
   "cell_type": "markdown",
   "metadata": {},
   "source": [
    "### Logistic regression"
   ]
  },
  {
   "cell_type": "code",
   "execution_count": 10,
   "metadata": {
    "collapsed": true
   },
   "outputs": [],
   "source": [
    "##Before we preform logistic regression we must add a constant (intercept) in the x, and set y to 1/0 (instead of 1/-1)\n",
    "train_x_LR = np.c_[np.ones((train_x.shape[0], 1)), train_x]\n",
    "test_x_LR = np.c_[np.ones((test_x.shape[0], 1)), test_x]\n",
    "\n",
    "\n",
    "ty_LR = classify(y_tr)\n",
    "\n",
    "max_iters_LR = 1000\n",
    "gamma_LR = 6.5e-05\n",
    "\n",
    "initial_w_LR = np.zeros((train_x_LR.shape[1], 1))"
   ]
  },
  {
   "cell_type": "code",
   "execution_count": 11,
   "metadata": {},
   "outputs": [
    {
     "name": "stdout",
     "output_type": "stream",
     "text": [
      "Error in percentage using Logistic regression with gamma 6.5e-05 and 1000 iterations: 0.265\n"
     ]
    }
   ],
   "source": [
    "loss_LR, w_LR = ME.logistic_regression(ty_LR, train_x_LR, initial_w_LR, max_iters_LR, gamma_LR) \n",
    "\n",
    "y_pred_LR = DP.log_pred(test_x_LR, w_LR)\n",
    "\n",
    "accuracy_LR = DP.pred_acc(y_te, y_pred_LR)\n",
    "\n",
    "print(\"Error in percentage using Logistic regression with gamma\", gamma_LR, \"and\", max_iters_LR, \"iterations:\", accuracy_LR[0])\n"
   ]
  },
  {
   "cell_type": "markdown",
   "metadata": {},
   "source": [
    "### Regular Logistic regression"
   ]
  },
  {
   "cell_type": "code",
   "execution_count": 12,
   "metadata": {
    "collapsed": true
   },
   "outputs": [],
   "source": [
    "##Before we preform Regular logistic regression we must add a constant (intercept) in the x, and set y to 1/0 (instead of 1/-1)\n",
    "train_x_RLR = np.c_[np.ones((train_x.shape[0], 1)), train_x]\n",
    "test_x_RLR = np.c_[np.ones((test_x.shape[0], 1)), test_x]\n",
    "\n",
    "ty_RLR = classify(y_tr)\n",
    "\n",
    "max_iters_RLR = 1000\n",
    "gamma_RLR = 6.5e-05\n",
    "lambda_RLR = 1e-02\n",
    "\n",
    "initial_w_RLR = np.zeros((train_x_RLR.shape[1], 1))"
   ]
  },
  {
   "cell_type": "code",
   "execution_count": 13,
   "metadata": {},
   "outputs": [
    {
     "name": "stdout",
     "output_type": "stream",
     "text": [
      "Error in percentage in regularized logistic regression with gamma 6.5e-05 , lambda 0.01 and 1000 iterations: 0.265\n"
     ]
    }
   ],
   "source": [
    "loss_RLR, w_RLR = ME.reg_logistic_regression(ty_RLR, train_x_RLR, lambda_RLR, initial_w_RLR, max_iters_RLR, gamma_RLR)\n",
    "\n",
    "y_pred_RLR = DP.log_pred(test_x_RLR, w_RLR)\n",
    "\n",
    "accuracy_RLR = DP.pred_acc(y_te, y_pred_RLR)\n",
    "\n",
    "print(\"Error in percentage in regularized logistic regression with gamma\", gamma_RLR, \", lambda\", lambda_RLR,\n",
    "      \"and\", max_iters_RLR, \"iterations:\", accuracy_RLR[0])\n"
   ]
  },
  {
   "cell_type": "code",
   "execution_count": 14,
   "metadata": {
    "collapsed": true
   },
   "outputs": [],
   "source": [
    "#To choose the best value of lambda, several different values are plotted\n",
    "\n",
    "lambdas_RLR=np.logspace(-7,2,20)\n",
    "accuracy_RLR_all=[]\n",
    "loss_RLR_all=[]\n",
    "for lambda_RLR in lambdas_RLR:\n",
    "    loss_RLR, w_RLR = ME.reg_logistic_regression(ty_RLR, train_x_RLR, lambda_RLR, initial_w_RLR, max_iters_RLR, gamma_RLR)\n",
    "    y_pred_RLR = DP.log_pred(test_x_RLR, w_RLR)\n",
    "    accuracy_RLR = DP.pred_acc(y_te, y_pred_RLR)\n",
    "    accuracy_RLR_all.append(accuracy_RLR[0])\n",
    "    loss_RLR_all.append(loss_RLR)\n",
    "    "
   ]
  },
  {
   "cell_type": "code",
   "execution_count": 15,
   "metadata": {},
   "outputs": [
    {
     "data": {
      "text/plain": [
       "[<matplotlib.lines.Line2D at 0x176a8c57eb8>]"
      ]
     },
     "execution_count": 15,
     "metadata": {},
     "output_type": "execute_result"
    },
    {
     "data": {
      "image/png": "[encoded data removed]",
      "text/plain": [
       "<matplotlib.figure.Figure at 0x176a9d41470>"
      ]
     },
     "metadata": {},
     "output_type": "display_data"
    }
   ],
   "source": [
    "plt.semilogx(lambdas_RLR,accuracy_RLR_all)"
   ]
  },
  {
   "cell_type": "code",
   "execution_count": 16,
   "metadata": {
    "collapsed": true
   },
   "outputs": [],
   "source": [
    "# Run every method \n",
    "# Print: Method X got Y % right \n",
    "# Implement percentage right for each method \n"
   ]
  },
  {
   "cell_type": "code",
   "execution_count": null,
   "metadata": {
    "collapsed": true
   },
   "outputs": [],
   "source": [
    "a=1e-05"
   ]
  },
  {
   "cell_type": "code",
   "execution_count": null,
   "metadata": {
    "collapsed": true
   },
   "outputs": [],
   "source": []
  }
 ],
 "metadata": {
  "kernelspec": {
   "display_name": "Python 3",
   "language": "python",
   "name": "python3"
  },
  "language_info": {
   "codemirror_mode": {
    "name": "ipython",
    "version": 3
   },
   "file_extension": ".py",
   "mimetype": "text/x-python",
   "name": "python",
   "nbconvert_exporter": "python",
   "pygments_lexer": "ipython3",
   "version": "3.6.1"
  }
 },
 "nbformat": 4,
 "nbformat_minor": 2
}
