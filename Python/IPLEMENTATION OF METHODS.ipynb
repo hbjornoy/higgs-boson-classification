{
 "cells": [
  {
   "cell_type": "markdown",
   "metadata": {},
   "source": [
    "# IMPLEMENTATION OF METHODS"
   ]
  },
  {
   "cell_type": "code",
   "execution_count": 1,
   "metadata": {},
   "outputs": [],
   "source": [
    "# standard libraries\n",
    "%matplotlib inline\n",
    "import numpy as np\n",
    "import matplotlib.pyplot as plt\n",
    "import time\n",
    "%load_ext autoreload\n",
    "%autoreload 2\n",
    "\n",
    "# own functions\n",
    "from proj1_helpers import *\n",
    "\n",
    "from methods import *\n",
    "from grad_loss import*\n",
    "from dataprocessing import*\n",
    "\n",
    "from helpers import * \n",
    "\n",
    "#constants\n",
    "train_path = 'train.csv'\n",
    "test_path = 'test.csv'"
   ]
  },
  {
   "cell_type": "code",
   "execution_count": 2,
   "metadata": {
    "collapsed": true
   },
   "outputs": [],
   "source": [
    "#Importing data: \n",
    "y, x, ids = load_csv_data(train_path, sub_sample=True)\n",
    "pred_y, pred_x, pred_ids = load_csv_data(test_path, sub_sample=True)"
   ]
  },
  {
   "cell_type": "code",
   "execution_count": 3,
   "metadata": {},
   "outputs": [
    {
     "data": {
      "text/plain": [
       "array([[ 0.57549272,  0.20145108,  0.13614758, ...,  0.99675534,\n",
       "         0.99439699,  0.10273304],\n",
       "       [ 0.61626499,  0.28261039,  0.17776038, ...,  0.        ,\n",
       "         0.        ,  0.04561649],\n",
       "       [ 0.55137502,  0.10834764,  0.08614381, ...,  0.        ,\n",
       "         0.        ,  0.05681333],\n",
       "       ..., \n",
       "       [ 0.57745426,  0.02877984,  0.13828153, ...,  0.        ,\n",
       "         0.        ,  0.08786215],\n",
       "       [ 0.54498043,  0.18069902,  0.07807485, ...,  0.        ,\n",
       "         0.        ,  0.02936342],\n",
       "       [ 0.57122865,  0.01584491,  0.0899125 , ...,  0.        ,\n",
       "         0.        ,  0.0461967 ]])"
      ]
     },
     "execution_count": 3,
     "metadata": {},
     "output_type": "execute_result"
    }
   ],
   "source": [
    "tx=normalize(x)\n",
    "\n",
    "tx"
   ]
  },
  {
   "cell_type": "markdown",
   "metadata": {},
   "source": [
    "### Least Squares GD"
   ]
  },
  {
   "cell_type": "code",
   "execution_count": 4,
   "metadata": {},
   "outputs": [],
   "source": [
    "start = time.clock()\n",
    "\n",
    "initial_w=np.zeros((x.shape[1], 1))\n",
    "gamma=0.2\n",
    "max_iters=100\n",
    "loss_LSGD,w_LSDG=least_squares_GD(y, tx, initial_w, max_iters, gamma)\n",
    "\n",
    "elapsed = time.clock() - start"
   ]
  },
  {
   "cell_type": "code",
   "execution_count": 5,
   "metadata": {},
   "outputs": [
    {
     "name": "stdout",
     "output_type": "stream",
     "text": [
      "loss:  71.9532577206\n",
      "time:  84.93135697509733\n"
     ]
    }
   ],
   "source": [
    "print(\"loss: \", loss_LSGD)\n",
    "print(\"time: \", elapsed)"
   ]
  },
  {
   "cell_type": "code",
   "execution_count": null,
   "metadata": {
    "collapsed": true
   },
   "outputs": [],
   "source": []
  },
  {
   "cell_type": "markdown",
   "metadata": {},
   "source": [
    "### Least Squares SGD"
   ]
  },
  {
   "cell_type": "code",
   "execution_count": 52,
   "metadata": {},
   "outputs": [],
   "source": [
    "start_SGD = time.clock()\n",
    "\n",
    "initial_w=np.zeros((tx.shape[1], 1))\n",
    "gamma=0.0001\n",
    "max_iters=200\n",
    "loss_LSSGD, w_LSSDG=least_squares_SGD(y, tx, initial_w,max_iters, gamma)\n",
    "\n",
    "elapsed_SGD = time.clock() - start_SGD"
   ]
  },
  {
   "cell_type": "code",
   "execution_count": 53,
   "metadata": {},
   "outputs": [
    {
     "name": "stdout",
     "output_type": "stream",
     "text": [
      "loss:  2424.37191287\n",
      "time:  73.84633353810659\n"
     ]
    }
   ],
   "source": [
    "print(\"loss: \", loss_LSSGD)\n",
    "print(\"time: \", elapsed_SGD) "
   ]
  },
  {
   "cell_type": "markdown",
   "metadata": {},
   "source": [
    "### Least Squares"
   ]
  },
  {
   "cell_type": "code",
   "execution_count": 8,
   "metadata": {
    "collapsed": true
   },
   "outputs": [],
   "source": [
    "start_LS = time.clock()\n",
    "\n",
    "loss_LS,w_LS=least_squares(y, tx)\n",
    "\n",
    "elapsed_LS = time.clock() - start_LS"
   ]
  },
  {
   "cell_type": "code",
   "execution_count": 9,
   "metadata": {},
   "outputs": [
    {
     "name": "stdout",
     "output_type": "stream",
     "text": [
      "loss:  0.325488216292\n",
      "time:  0.009390993795577174\n"
     ]
    }
   ],
   "source": [
    "print(\"loss: \", loss_LS)\n",
    "print(\"time: \", elapsed_LS)"
   ]
  },
  {
   "cell_type": "markdown",
   "metadata": {},
   "source": [
    "### Ridge Regression"
   ]
  },
  {
   "cell_type": "code",
   "execution_count": 38,
   "metadata": {
    "collapsed": true
   },
   "outputs": [],
   "source": [
    "start_RR = time.clock()\n",
    "\n",
    "lambda_= 1.5\n",
    "loss_R,w_R=ridge_regression(y, tx, lambda_)\n",
    "\n",
    "elapsed_RR = time.clock() - start_RR"
   ]
  },
  {
   "cell_type": "code",
   "execution_count": 39,
   "metadata": {},
   "outputs": [
    {
     "name": "stdout",
     "output_type": "stream",
     "text": [
      "loss:  0.956389382001\n",
      "time:  0.028424240149661273\n"
     ]
    }
   ],
   "source": [
    "print(\"loss: \", loss_R)\n",
    "print(\"time: \", elapsed_RR)"
   ]
  },
  {
   "cell_type": "markdown",
   "metadata": {},
   "source": [
    "### Logistic regression"
   ]
  },
  {
   "cell_type": "code",
   "execution_count": 33,
   "metadata": {
    "collapsed": true
   },
   "outputs": [],
   "source": [
    "##Before we preform logistic regression we must add a constant (intercept) in the x, and set y to 1/0 (instead of 1/-1)\n",
    "tx = np.c_[np.ones((tx.shape[0], 1)), tx]\n",
    "ty=classify(y)\n",
    "\n",
    "max_iters = 200\n",
    "gamma = 0.000065\n",
    "initial_w=np.zeros((tx.shape[1], 1))"
   ]
  },
  {
   "cell_type": "code",
   "execution_count": 34,
   "metadata": {
    "collapsed": true
   },
   "outputs": [],
   "source": [
    "start_LG = time.clock()\n",
    "\n",
    "loss_L,w_L=logistic_regression(ty, tx, initial_w,max_iters, gamma)\n",
    "\n",
    "elapsed_LG = time.clock() - start_LG\n"
   ]
  },
  {
   "cell_type": "code",
   "execution_count": 35,
   "metadata": {},
   "outputs": [
    {
     "name": "stdout",
     "output_type": "stream",
     "text": [
      "loss:  [ 2792.36068068]\n",
      "time:  8.517935174449065\n"
     ]
    }
   ],
   "source": [
    "print(\"loss: \", loss_L)\n",
    "print(\"time: \", elapsed_LG)"
   ]
  },
  {
   "cell_type": "code",
   "execution_count": 40,
   "metadata": {
    "collapsed": true
   },
   "outputs": [],
   "source": [
    "start_RLG = time.clock()\n",
    "\n",
    "loss_LR,w_RL=reg_logistic_regression(ty, tx, lambda_, initial_w, max_iters, gamma)\n",
    "\n",
    "elapsed_RLG = time.clock() - start_RLG "
   ]
  },
  {
   "cell_type": "code",
   "execution_count": 41,
   "metadata": {},
   "outputs": [
    {
     "name": "stdout",
     "output_type": "stream",
     "text": [
      "loss:  [ 2796.08174909]\n",
      "time:  8.096813635923695\n"
     ]
    }
   ],
   "source": [
    "print(\"loss: \", loss_LR)\n",
    "print(\"time: \", elapsed_RLG)"
   ]
  },
  {
   "cell_type": "code",
   "execution_count": 17,
   "metadata": {
    "collapsed": true
   },
   "outputs": [],
   "source": [
    "# TIMING FOR HVOR LANG TID HVER ALGORITME BRUKER \n",
    "# PLOT SOM SIER HVOR \"GOD\" DEN ER \n",
    "\n",
    "# SKAL KUN RETURNERE LOSS, OG VEKTER \n",
    "\n",
    "\n",
    "# SGD og GD burde vi implementere en Threshold for når feilen blir liten nok per iter. \n",
    "# DROPPER DETTE PGA HARDKODING ER FYSJ FYSJ \n",
    "\n",
    "\n"
   ]
  },
  {
   "cell_type": "code",
   "execution_count": null,
   "metadata": {
    "collapsed": true
   },
   "outputs": [],
   "source": []
  },
  {
   "cell_type": "code",
   "execution_count": null,
   "metadata": {
    "collapsed": true
   },
   "outputs": [],
   "source": []
  }
 ],
 "metadata": {
  "kernelspec": {
   "display_name": "Python 3",
   "language": "python",
   "name": "python3"
  },
  "language_info": {
   "codemirror_mode": {
    "name": "ipython",
    "version": 3
   },
   "file_extension": ".py",
   "mimetype": "text/x-python",
   "name": "python",
   "nbconvert_exporter": "python",
   "pygments_lexer": "ipython3",
   "version": "3.6.1"
  }
 },
 "nbformat": 4,
 "nbformat_minor": 2
}
