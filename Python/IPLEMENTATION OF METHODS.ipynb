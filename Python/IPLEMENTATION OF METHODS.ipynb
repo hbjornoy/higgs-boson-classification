{
 "cells": [
  {
   "cell_type": "markdown",
   "metadata": {},
   "source": [
    "# IMPLEMENTATION OF METHODS"
   ]
  },
  {
   "cell_type": "code",
   "execution_count": 3,
   "metadata": {},
   "outputs": [],
   "source": [
    "# standard libraries\n",
    "%matplotlib inline\n",
    "import numpy as np\n",
    "import matplotlib.pyplot as plt\n",
    "import time\n",
    "%load_ext autoreload\n",
    "%autoreload 2\n",
    "\n",
    "# own functions\n",
    "\n",
    "import proj1_helpers as P1H\n",
    "import dataprocessing as DP\n",
    "\n",
    "from methods import *\n",
    "from grad_loss import*\n",
    "\n",
    "#constants\n",
    "train_path = 'train.csv'\n",
    "test_path = 'test.csv'"
   ]
  },
  {
   "cell_type": "code",
   "execution_count": 4,
   "metadata": {},
   "outputs": [],
   "source": [
    "#Importing data: \n",
    "y, x, ids = load_csv_data(train_path, sub_sample=True)\n",
    "\n",
    "ratio = 0.8\n",
    "\n",
    "x_tr, x_te, y_tr, y_te = DP.split_data(x, y, ratio)"
   ]
  },
  {
   "cell_type": "code",
   "execution_count": 5,
   "metadata": {},
   "outputs": [],
   "source": [
    "train_x = normalize(x_tr)\n",
    "test_x = normalize(x_tr)"
   ]
  },
  {
   "cell_type": "markdown",
   "metadata": {},
   "source": [
    "### Least Squares GD"
   ]
  },
  {
   "cell_type": "code",
   "execution_count": 8,
   "metadata": {},
   "outputs": [
    {
     "name": "stdout",
     "output_type": "stream",
     "text": [
      "Error in percentage in least squares GD with gamma 0.2 and 5 iterations: 0.309\n"
     ]
    }
   ],
   "source": [
    "initial_w_GD = np.zeros((train_x.shape[1], 1))\n",
    "gamma_GD = 0.2\n",
    "max_iters_GD = 5\n",
    "\n",
    "loss_LSGD, w_LSDG = least_squares_GD(y_tr, train_x, initial_w_GD, max_iters_GD, gamma_GD)\n",
    "\n",
    "y_pred_GD = P1H.predict_labels(w_LSDG, x_te) \n",
    "\n",
    "accuracy_GD = DP.log_pred_acc(y_te, y_pred_GD)\n",
    "\n",
    "print(\"Error in percentage in least squares GD with gamma\", gamma_GD, \"and\", max_iters_GD, \"iterations:\", accuracy_GD[0])"
   ]
  },
  {
   "cell_type": "markdown",
   "metadata": {},
   "source": [
    "### Least Squares SGD"
   ]
  },
  {
   "cell_type": "code",
   "execution_count": 11,
   "metadata": {},
   "outputs": [
    {
     "name": "stdout",
     "output_type": "stream",
     "text": [
      "Error in percentage in least squares SGD with gamma 0.0001 and 5 iterations: 0.338\n"
     ]
    }
   ],
   "source": [
    "initial_w_SGD = np.zeros((train_x.shape[1], 1))\n",
    "gamma_SGD = 0.0001\n",
    "max_iters_SGD = 5\n",
    "\n",
    "loss_LSSGD, w_LSSDG = least_squares_SGD(y_tr, train_x, initial_w_SGD,max_iters_SGD, gamma_SGD)\n",
    "\n",
    "y_pred_SGD = P1H.predict_labels(w_LSSDG, x_te) \n",
    "\n",
    "accuracy_SGD = DP.log_pred_acc(y_te, y_pred_SGD)\n",
    "\n",
    "print(\"Error in percentage in least squares SGD with gamma\", gamma_SGD, \"and\", max_iters_SGD, \"iterations:\", accuracy_SGD[0])\n"
   ]
  },
  {
   "cell_type": "markdown",
   "metadata": {},
   "source": [
    "### Least Squares"
   ]
  },
  {
   "cell_type": "code",
   "execution_count": 12,
   "metadata": {},
   "outputs": [
    {
     "name": "stdout",
     "output_type": "stream",
     "text": [
      "Error in percentage in least squares: 0.687\n"
     ]
    }
   ],
   "source": [
    "loss_LS, w_LS = least_squares(y_tr, train_x)\n",
    "\n",
    "y_pred_LS = P1H.predict_labels(w_LS, x_te) \n",
    "\n",
    "accuracy_LS = DP.log_pred_acc(y_te, y_pred_LS)\n",
    "\n",
    "print(\"Error in percentage in least squares:\", accuracy_LS[0])\n"
   ]
  },
  {
   "cell_type": "markdown",
   "metadata": {},
   "source": [
    "### Ridge Regression"
   ]
  },
  {
   "cell_type": "code",
   "execution_count": 13,
   "metadata": {},
   "outputs": [
    {
     "name": "stdout",
     "output_type": "stream",
     "text": [
      "Error in percentage in ridge regression with lambda 0.09 : 0.284\n"
     ]
    }
   ],
   "source": [
    "lambda_RR= 0.09\n",
    "\n",
    "loss_RR, w_RR = ridge_regression(y_tr, train_x, lambda_RR)\n",
    "\n",
    "y_pred_RR = P1H.predict_labels(w_RR, x_te) \n",
    "\n",
    "accuracy_RR = DP.log_pred_acc(y_te, y_pred_RR)\n",
    "\n",
    "print(\"Error in percentage in ridge regression with lambda\", lambda_RR, \":\", accuracy_RR[0])\n",
    "\n"
   ]
  },
  {
   "cell_type": "markdown",
   "metadata": {},
   "source": [
    "### Logistic regression"
   ]
  },
  {
   "cell_type": "code",
   "execution_count": 19,
   "metadata": {},
   "outputs": [],
   "source": [
    "##Before we preform logistic regression we must add a constant (intercept) in the x, and set y to 1/0 (instead of 1/-1)\n",
    "train_x_LR = np.c_[np.ones((train_x.shape[0], 1)), train_x]\n",
    "test_x_LR = np.c_[np.ones((test_x.shape[0], 1)), test_x]\n",
    "\n",
    "\n",
    "ty_LR = classify(y_tr)\n",
    "\n",
    "max_iters_LR = 5\n",
    "gamma_LR = 0.000065\n",
    "\n",
    "initial_w_LR = np.zeros((train_x_LR.shape[1], 1))"
   ]
  },
  {
   "cell_type": "code",
   "execution_count": 21,
   "metadata": {},
   "outputs": [
    {
     "name": "stdout",
     "output_type": "stream",
     "text": [
      "(1000,)\n",
      "(4000,)\n"
     ]
    },
    {
     "ename": "IndexError",
     "evalue": "index 1000 is out of bounds for axis 0 with size 1000",
     "output_type": "error",
     "traceback": [
      "\u001b[1;31m---------------------------------------------------------------------------\u001b[0m",
      "\u001b[1;31mIndexError\u001b[0m                                Traceback (most recent call last)",
      "\u001b[1;32m<ipython-input-21-6483c4b73b85>\u001b[0m in \u001b[0;36m<module>\u001b[1;34m()\u001b[0m\n\u001b[0;32m      6\u001b[0m \u001b[0mprint\u001b[0m\u001b[1;33m(\u001b[0m\u001b[0my_pred_LR\u001b[0m\u001b[1;33m.\u001b[0m\u001b[0mshape\u001b[0m\u001b[1;33m)\u001b[0m\u001b[1;33m\u001b[0m\u001b[0m\n\u001b[0;32m      7\u001b[0m \u001b[1;33m\u001b[0m\u001b[0m\n\u001b[1;32m----> 8\u001b[1;33m \u001b[0maccuracy_LR\u001b[0m \u001b[1;33m=\u001b[0m \u001b[0mDP\u001b[0m\u001b[1;33m.\u001b[0m\u001b[0mlog_pred_acc\u001b[0m\u001b[1;33m(\u001b[0m\u001b[0my_te\u001b[0m\u001b[1;33m,\u001b[0m \u001b[0my_pred_LR\u001b[0m\u001b[1;33m)\u001b[0m\u001b[1;33m\u001b[0m\u001b[0m\n\u001b[0m\u001b[0;32m      9\u001b[0m \u001b[1;33m\u001b[0m\u001b[0m\n\u001b[0;32m     10\u001b[0m \u001b[0mprint\u001b[0m\u001b[1;33m(\u001b[0m\u001b[1;34m\"Error in percentage in least squares SGD with gamma\"\u001b[0m\u001b[1;33m,\u001b[0m \u001b[0mgamma_LR\u001b[0m\u001b[1;33m,\u001b[0m \u001b[1;34m\"and\"\u001b[0m\u001b[1;33m,\u001b[0m \u001b[0mmax_iters_LR\u001b[0m\u001b[1;33m,\u001b[0m \u001b[1;34m\"iterations:\"\u001b[0m\u001b[1;33m,\u001b[0m \u001b[0maccuracy_LR\u001b[0m\u001b[1;33m[\u001b[0m\u001b[1;36m0\u001b[0m\u001b[1;33m]\u001b[0m\u001b[1;33m)\u001b[0m\u001b[1;33m\u001b[0m\u001b[0m\n",
      "\u001b[1;32mC:\\Users\\Thomas\\EPFL\\Machine learning CS-433\\Project 1\\CS-433-Project-1\\Python\\dataprocessing.py\u001b[0m in \u001b[0;36mlog_pred_acc\u001b[1;34m(y, pred_y)\u001b[0m\n\u001b[0;32m    171\u001b[0m     \u001b[0mcounter\u001b[0m\u001b[1;33m=\u001b[0m\u001b[1;36m0\u001b[0m\u001b[1;33m\u001b[0m\u001b[0m\n\u001b[0;32m    172\u001b[0m     \u001b[1;32mfor\u001b[0m \u001b[0mi\u001b[0m \u001b[1;32min\u001b[0m \u001b[0mrange\u001b[0m\u001b[1;33m(\u001b[0m\u001b[0mlen\u001b[0m\u001b[1;33m(\u001b[0m\u001b[0mpred_y\u001b[0m\u001b[1;33m)\u001b[0m\u001b[1;33m)\u001b[0m\u001b[1;33m:\u001b[0m\u001b[1;33m\u001b[0m\u001b[0m\n\u001b[1;32m--> 173\u001b[1;33m         \u001b[1;32mif\u001b[0m \u001b[0mpred_y\u001b[0m\u001b[1;33m[\u001b[0m\u001b[0mi\u001b[0m\u001b[1;33m]\u001b[0m\u001b[1;33m!=\u001b[0m \u001b[0my\u001b[0m\u001b[1;33m[\u001b[0m\u001b[0mi\u001b[0m\u001b[1;33m]\u001b[0m\u001b[1;33m:\u001b[0m\u001b[1;33m\u001b[0m\u001b[0m\n\u001b[0m\u001b[0;32m    174\u001b[0m             \u001b[0mcounter\u001b[0m\u001b[1;33m=\u001b[0m\u001b[0mcounter\u001b[0m\u001b[1;33m+\u001b[0m\u001b[1;36m1\u001b[0m\u001b[1;33m\u001b[0m\u001b[0m\n\u001b[0;32m    175\u001b[0m     \u001b[0mpercent\u001b[0m\u001b[1;33m=\u001b[0m\u001b[0mcounter\u001b[0m\u001b[1;33m/\u001b[0m\u001b[0mlen\u001b[0m\u001b[1;33m(\u001b[0m\u001b[0mpred_y\u001b[0m\u001b[1;33m)\u001b[0m\u001b[1;33m\u001b[0m\u001b[0m\n",
      "\u001b[1;31mIndexError\u001b[0m: index 1000 is out of bounds for axis 0 with size 1000"
     ]
    }
   ],
   "source": [
    "loss_LR, w_LR = logistic_regression(ty_LR, train_x_LR, initial_w_LR, max_iters_LR, gamma_LR) \n",
    "\n",
    "y_pred_LR = log_pred(test_x_LR, w_LR)\n",
    "\n",
    "print(y_te.shape)\n",
    "print(y_pred_LR.shape)\n",
    "\n",
    "accuracy_LR = DP.log_pred_acc(y_te, y_pred_LR)\n",
    "\n",
    "print(\"Error in percentage in least squares SGD with gamma\", gamma_LR, \"and\", max_iters_LR, \"iterations:\", accuracy_LR[0])\n"
   ]
  },
  {
   "cell_type": "markdown",
   "metadata": {},
   "source": [
    "### Regular Logistic regression"
   ]
  },
  {
   "cell_type": "code",
   "execution_count": null,
   "metadata": {
    "collapsed": true
   },
   "outputs": [],
   "source": [
    "\n",
    "loss_LR,w_RL=reg_logistic_regression(ty, tx, lambda_, initial_w, max_iters, gamma)\n",
    "\n"
   ]
  },
  {
   "cell_type": "code",
   "execution_count": null,
   "metadata": {},
   "outputs": [],
   "source": []
  },
  {
   "cell_type": "code",
   "execution_count": null,
   "metadata": {
    "collapsed": true
   },
   "outputs": [],
   "source": [
    "# Run every method \n",
    "# Print: Method X got Y % right \n",
    "# Implement percentage right for each method \n",
    "\n",
    "\n",
    "# TODO: ENDRE LOG_PRED_ACC TIL PRED_ACC\n",
    "\n"
   ]
  },
  {
   "cell_type": "code",
   "execution_count": null,
   "metadata": {
    "collapsed": true
   },
   "outputs": [],
   "source": []
  },
  {
   "cell_type": "code",
   "execution_count": null,
   "metadata": {
    "collapsed": true
   },
   "outputs": [],
   "source": []
  }
 ],
 "metadata": {
  "kernelspec": {
   "display_name": "Python 3",
   "language": "python",
   "name": "python3"
  },
  "language_info": {
   "codemirror_mode": {
    "name": "ipython",
    "version": 3
   },
   "file_extension": ".py",
   "mimetype": "text/x-python",
   "name": "python",
   "nbconvert_exporter": "python",
   "pygments_lexer": "ipython3",
   "version": "3.6.1"
  }
 },
 "nbformat": 4,
 "nbformat_minor": 2
}
