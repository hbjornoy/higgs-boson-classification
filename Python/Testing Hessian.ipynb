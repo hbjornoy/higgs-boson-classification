{
 "cells": [
  {
   "cell_type": "code",
   "execution_count": 27,
   "metadata": {},
   "outputs": [
    {
     "name": "stdout",
     "output_type": "stream",
     "text": [
      "The autoreload extension is already loaded. To reload it, use:\n",
      "  %reload_ext autoreload\n"
     ]
    }
   ],
   "source": [
    "# standard libraries\n",
    "%matplotlib inline\n",
    "import numpy as np\n",
    "import matplotlib.pyplot as plt\n",
    "import time\n",
    "%load_ext autoreload\n",
    "%autoreload 2\n",
    "\n",
    "# own functions\n",
    "\n",
    "import proj1_helpers as P1H\n",
    "import dataprocessing as DP\n",
    "import methods as ME\n",
    "\n",
    "from grad_loss import*\n",
    "\n",
    "#constants\n",
    "train_path = 'train.csv'\n",
    "test_path = 'test.csv'\n",
    "\n"
   ]
  },
  {
   "cell_type": "code",
   "execution_count": 2,
   "metadata": {
    "collapsed": true
   },
   "outputs": [],
   "source": [
    "#Importing data: \n",
    "y, x, ids = load_csv_data(train_path, sub_sample=True)\n",
    "\n",
    "ratio = 0.8\n",
    "\n",
    "x_tr, x_te, y_tr, y_te = DP.split_data(x, y, ratio)"
   ]
  },
  {
   "cell_type": "code",
   "execution_count": 3,
   "metadata": {
    "collapsed": true
   },
   "outputs": [],
   "source": [
    "train_x = normalize(x_tr)\n",
    "test_x = normalize(x_te)\n"
   ]
  },
  {
   "cell_type": "code",
   "execution_count": 33,
   "metadata": {
    "collapsed": true
   },
   "outputs": [],
   "source": [
    "##Before we preform Regular logistic regression we must add a constant (intercept) in the x, and set y to 1/0 (instead of 1/-1)\n",
    "train_x_RLR = np.c_[np.ones((train_x.shape[0], 1)), train_x]\n",
    "test_x_RLR = np.c_[np.ones((test_x.shape[0], 1)), test_x]\n",
    "\n",
    "ty_RLR = classify(y_tr)\n",
    "\n",
    "max_iters_RLR = 50\n",
    "gamma_RLR = 6.5e-2\n",
    "lambda_RLR = 0 #1e-05\n",
    "\n",
    "initial_w_RLR = np.zeros((train_x_RLR.shape[1], 1))"
   ]
  },
  {
   "cell_type": "code",
   "execution_count": 34,
   "metadata": {},
   "outputs": [
    {
     "name": "stdout",
     "output_type": "stream",
     "text": [
      "Error in percentage in regularized logistic regression with gamma 0.065 , lambda 0 and 50 iterations: 0.594\n"
     ]
    },
    {
     "name": "stderr",
     "output_type": "stream",
     "text": [
      "/Users/HeddaVik/EPFL Machine learning/CS-433-Project-1/Python/dataprocessing.py:21: RuntimeWarning: overflow encountered in exp\n",
      "  a=np.exp(t)/(1+np.exp(t))\n",
      "/Users/HeddaVik/EPFL Machine learning/CS-433-Project-1/Python/dataprocessing.py:21: RuntimeWarning: invalid value encountered in true_divide\n",
      "  a=np.exp(t)/(1+np.exp(t))\n"
     ]
    }
   ],
   "source": [
    "loss_RLR, w_RLR = ME.reg_logistic_regression_newton(ty_RLR, train_x_RLR, lambda_RLR, initial_w_RLR, max_iters_RLR, gamma_RLR)\n",
    "\n",
    "y_pred_RLR = DP.log_pred(test_x_RLR, w_RLR)\n",
    "\n",
    "accuracy_RLR = DP.pred_acc(y_te, y_pred_RLR)\n",
    "\n",
    "print(\"Error in percentage in regularized logistic regression with gamma\", gamma_RLR, \", lambda\", lambda_RLR,\n",
    "      \"and\", max_iters_RLR, \"iterations:\", accuracy_RLR[0])\n"
   ]
  },
  {
   "cell_type": "code",
   "execution_count": 9,
   "metadata": {},
   "outputs": [
    {
     "name": "stdout",
     "output_type": "stream",
     "text": [
      "hei\n"
     ]
    }
   ],
   "source": [
    "hessian=calculate_hessian(ty_RLR,train_x_RLR,initial_w_RLR)"
   ]
  },
  {
   "cell_type": "code",
   "execution_count": 10,
   "metadata": {},
   "outputs": [
    {
     "name": "stdout",
     "output_type": "stream",
     "text": [
      "(31, 31)\n"
     ]
    }
   ],
   "source": [
    "print(hessian.shape)"
   ]
  },
  {
   "cell_type": "code",
   "execution_count": 11,
   "metadata": {
    "collapsed": true
   },
   "outputs": [],
   "source": [
    "inv_hessian=np.linalg.inv(hessian)"
   ]
  },
  {
   "cell_type": "code",
   "execution_count": 22,
   "metadata": {},
   "outputs": [
    {
     "name": "stdout",
     "output_type": "stream",
     "text": [
      "[[ -1.80946921e-07]\n",
      " [  1.02203644e-09]\n",
      " [ -4.90354499e-08]\n",
      " [ -1.03076404e-07]\n",
      " [ -5.91329643e-09]\n",
      " [  5.00715890e-07]\n",
      " [  2.36825749e-08]\n",
      " [ -8.94522591e-07]\n",
      " [  4.42188811e-08]\n",
      " [  3.79000924e-09]\n",
      " [ -9.04370891e-04]\n",
      " [ -4.83488092e-08]\n",
      " [  7.96378457e-09]\n",
      " [  8.16714451e-07]\n",
      " [  2.06217875e-04]\n",
      " [  1.65337568e-09]\n",
      " [ -2.28167873e-10]\n",
      " [  1.74310550e-04]\n",
      " [  1.42076753e-09]\n",
      " [  4.79723347e-10]\n",
      " [  3.57783236e-08]\n",
      " [ -1.23147539e-09]\n",
      " [ -1.99360744e-08]\n",
      " [ -2.08796468e-08]\n",
      " [  1.52641118e-08]\n",
      " [ -2.16997545e-07]\n",
      " [  2.17972325e-07]\n",
      " [  7.88081314e-09]\n",
      " [ -1.40075193e-08]\n",
      " [ -4.20413956e-07]\n",
      " [  8.09789877e-04]]\n"
     ]
    }
   ],
   "source": [
    "print(w_RLR)"
   ]
  },
  {
   "cell_type": "code",
   "execution_count": null,
   "metadata": {
    "collapsed": true
   },
   "outputs": [],
   "source": []
  }
 ],
 "metadata": {
  "kernelspec": {
   "display_name": "Python 3",
   "language": "python",
   "name": "python3"
  },
  "language_info": {
   "codemirror_mode": {
    "name": "ipython",
    "version": 3
   },
   "file_extension": ".py",
   "mimetype": "text/x-python",
   "name": "python",
   "nbconvert_exporter": "python",
   "pygments_lexer": "ipython3",
   "version": "3.6.1"
  }
 },
 "nbformat": 4,
 "nbformat_minor": 2
}
