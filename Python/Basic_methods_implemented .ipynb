{
 "cells": [
  {
   "cell_type": "markdown",
   "metadata": {},
   "source": [
    "# Implementation of standard methods"
   ]
  },
  {
   "cell_type": "code",
   "execution_count": 11,
   "metadata": {},
   "outputs": [
    {
     "name": "stdout",
     "output_type": "stream",
     "text": [
      "The autoreload extension is already loaded. To reload it, use:\n",
      "  %reload_ext autoreload\n"
     ]
    }
   ],
   "source": [
    "# standard libraries\n",
    "%matplotlib inline\n",
    "import numpy as np\n",
    "import matplotlib.pyplot as plt\n",
    "import time\n",
    "%load_ext autoreload\n",
    "%autoreload 2\n",
    "\n",
    "# own functions\n",
    "import proj1_helpers as P1H\n",
    "import dataprocessing as DP\n",
    "import methods as ME\n",
    "import cross_validation as CV\n",
    "\n",
    "from grad_loss import*\n",
    "\n",
    "#constants\n",
    "train_path = 'train.csv'\n",
    "test_path = 'test.csv'"
   ]
  },
  {
   "cell_type": "markdown",
   "metadata": {},
   "source": [
    "#### Importing data and splitting train/test-set "
   ]
  },
  {
   "cell_type": "code",
   "execution_count": 12,
   "metadata": {
    "collapsed": true
   },
   "outputs": [],
   "source": [
    "#Importing data: \n",
    "y, x, ids = load_csv_data(train_path, sub_sample=True)\n",
    "\n",
    "ratio = 0.8\n",
    "\n",
    "x_tr, x_te, y_tr, y_te = DP.split_data(x, y, ratio)"
   ]
  },
  {
   "cell_type": "markdown",
   "metadata": {},
   "source": [
    "#### Normalizing data"
   ]
  },
  {
   "cell_type": "code",
   "execution_count": 13,
   "metadata": {
    "collapsed": true
   },
   "outputs": [],
   "source": [
    "train_x = normalize(x_tr)\n",
    "test_x = normalize(x_te)"
   ]
  },
  {
   "cell_type": "markdown",
   "metadata": {},
   "source": [
    "### Least Squares GD"
   ]
  },
  {
   "cell_type": "markdown",
   "metadata": {},
   "source": [
    "#### Finding optimal Gamma for LSGD"
   ]
  },
  {
   "cell_type": "code",
   "execution_count": 15,
   "metadata": {},
   "outputs": [],
   "source": [
    "max_iters_GD = 1000\n",
    "initial_w_GD = np.zeros((train_x.shape[1], 1))\n",
    "\n",
    "gammas_LSGD=np.logspace(-6,-1,30)\n",
    "\n",
    "loss_LSGD_all=[]\n",
    "\n",
    "for gamma_LSGD in gammas_LSGD:\n",
    "    \n",
    "    loss_LSGD, w_LSDG = ME.least_squares_GD(y_tr, train_x, initial_w_GD,max_iters_GD, gamma_LSGD)\n",
    "    loss_LSGD_all.append(loss_LSGD)\n",
    "    \n",
    "index_of_best_gamma_LSGD = np.argmin(loss_LSGD_all)\n",
    "best_gamma_LSGD = gammas_LSGD[index_of_best_gamma_LSGD]"
   ]
  },
  {
   "cell_type": "markdown",
   "metadata": {},
   "source": [
    "#### Plotting results"
   ]
  },
  {
   "cell_type": "code",
   "execution_count": 24,
   "metadata": {},
   "outputs": [
    {
     "data": {
      "image/png": "[encoded data removed]",
      "text/plain": [
       "<matplotlib.figure.Figure at 0x1e1a48359b0>"
      ]
     },
     "metadata": {},
     "output_type": "display_data"
    },
    {
     "name": "stdout",
     "output_type": "stream",
     "text": [
      "Best value of gamma: 0.000853167852417\n"
     ]
    }
   ],
   "source": [
    "plt.semilogx(gammas_LSGD, loss_LSGD_all,'*-',)  \n",
    "plt.title('Gamma - Least squares GD')\n",
    "plt.ylabel('loss')\n",
    "plt.xlabel('gamma')\n",
    "plt.show()\n",
    "\n",
    "print(\"Best value of gamma:\", best_gamma_LSGD)"
   ]
  },
  {
   "cell_type": "markdown",
   "metadata": {},
   "source": [
    "#### Running LSGD"
   ]
  },
  {
   "cell_type": "code",
   "execution_count": 35,
   "metadata": {},
   "outputs": [
    {
     "name": "stdout",
     "output_type": "stream",
     "text": [
      "Error in percentage in least squares GD with gamma 0.000853167852417 and 1000 iterations: 0.3325\n"
     ]
    }
   ],
   "source": [
    "initial_w_GD = np.zeros((train_x.shape[1], 1))\n",
    "gamma_GD = 0.000853167852417\n",
    "max_iters_GD = 1000\n",
    "k_folds = 5\n",
    "\n",
    "#Cross validation\n",
    "avg_loss, losses, avg_acc, pred_acc_percents = CV.cross_validation(ME.least_squares_GD, y_tr, train_x, k_folds, initial_w_GD, max_iters_GD, gamma_GD)\n",
    "\n",
    "print(\"Error in percentage in least squares GD with gamma\", gamma_GD, \"and\", max_iters_GD, \"iterations:\", avg_acc)"
   ]
  },
  {
   "cell_type": "markdown",
   "metadata": {},
   "source": [
    "### Least Squares SGD"
   ]
  },
  {
   "cell_type": "markdown",
   "metadata": {},
   "source": [
    "#### Finding optimal Gamma for LSSGD"
   ]
  },
  {
   "cell_type": "code",
   "execution_count": 31,
   "metadata": {},
   "outputs": [
    {
     "name": "stdout",
     "output_type": "stream",
     "text": [
      "16\n"
     ]
    }
   ],
   "source": [
    "initial_w_SGD = np.zeros((train_x.shape[1], 1))\n",
    "max_iters_SGD = 3000\n",
    "\n",
    "gammas_LSSGD=np.logspace(-7,-1,30)\n",
    "\n",
    "loss_LSSGD_all=[]\n",
    "\n",
    "for gamma_LSSGD in gammas_LSSGD:\n",
    "    \n",
    "    loss_LSSGD, w_LSSDG = ME.least_squares_SGD(y_tr, train_x, initial_w_SGD,max_iters_SGD, gamma_LSSGD)\n",
    "    loss_LSSGD_all.append(loss_LSSGD)\n",
    "    \n",
    "index_of_best_gamma_LSSGD = np.argmin(loss_LSSGD_all)\n",
    "best_gamma_LSSGD = gammas_LSSGD[index_of_best_gamma_LSSGD]"
   ]
  },
  {
   "cell_type": "markdown",
   "metadata": {},
   "source": [
    "#### Plotting results"
   ]
  },
  {
   "cell_type": "code",
   "execution_count": 34,
   "metadata": {},
   "outputs": [
    {
     "data": {
      "image/png": "[encoded data removed]",
      "text/plain": [
       "<matplotlib.figure.Figure at 0x1e19ea95da0>"
      ]
     },
     "metadata": {},
     "output_type": "display_data"
    },
    {
     "name": "stdout",
     "output_type": "stream",
     "text": [
      "Best value of gamma: 0.000204335971786\n"
     ]
    }
   ],
   "source": [
    "plt.semilogx(gammas_LSSGD, loss_LSSGD_all,'*-',)  \n",
    "plt.title('Gamma - Least squares SGD')\n",
    "plt.ylabel('loss')\n",
    "plt.xlabel('gamma')\n",
    "\n",
    "plt.show()\n",
    "\n",
    "print(\"Best value of gamma:\", best_gamma_LSSGD)"
   ]
  },
  {
   "cell_type": "markdown",
   "metadata": {},
   "source": [
    "#### Running LSSGD with cross validation"
   ]
  },
  {
   "cell_type": "code",
   "execution_count": 37,
   "metadata": {},
   "outputs": [
    {
     "name": "stdout",
     "output_type": "stream",
     "text": [
      "Error in percentage in least squares GD with gamma 0.000204335971786 and 3000 iterations: 0.33255\n"
     ]
    }
   ],
   "source": [
    "initial_w_SGD = np.zeros((train_x.shape[1], 1))\n",
    "\n",
    "gamma_SGD = 0.000204335971786\n",
    "max_iters_SGD = 3000\n",
    "k_folds = 5\n",
    "\n",
    "#Cross validation\n",
    "avg_loss, losses, avg_acc, pred_acc_percents = CV.cross_validation(ME.least_squares_SGD, y_tr, train_x, k_folds, initial_w_SGD, max_iters_SGD, gamma_SGD)\n",
    "\n",
    "print(\"Error in percentage in least squares GD with gamma\", gamma_SGD, \"and\", max_iters_SGD, \"iterations:\", avg_acc)"
   ]
  },
  {
   "cell_type": "markdown",
   "metadata": {},
   "source": [
    "### Ridge Regression"
   ]
  },
  {
   "cell_type": "markdown",
   "metadata": {},
   "source": [
    "#### Finding optimal Lambda for Ridge Regression"
   ]
  },
  {
   "cell_type": "code",
   "execution_count": 38,
   "metadata": {},
   "outputs": [],
   "source": [
    "lambdas_RR=np.logspace(-7,2,20)\n",
    "accuracy_RR_all=[]\n",
    "loss_RR_all=[]\n",
    "\n",
    "for lambda_RR in lambdas_RR:\n",
    "    \n",
    "    loss_RR, w_RR = ME.ridge_regression(y_tr, train_x, lambda_RR)\n",
    "    \n",
    "    y_pred_RR = P1H.predict_labels(w_RR, x_te) \n",
    "    accuracy_RR = DP.pred_acc(y_te, y_pred_RR)\n",
    "    \n",
    "    accuracy_RR_all.append(accuracy_RR[0])\n",
    "    loss_RR_all.append(loss_RR)\n",
    "    \n",
    "index_of_best_lambda_RR = np.argmin(accuracy_RR_all)\n",
    "best_lambda_RR = lambdas_RR[index_of_best_lambda_RR]"
   ]
  },
  {
   "cell_type": "markdown",
   "metadata": {},
   "source": [
    "#### Plotting results"
   ]
  },
  {
   "cell_type": "code",
   "execution_count": 39,
   "metadata": {},
   "outputs": [
    {
     "data": {
      "image/png": "[encoded data removed]",
      "text/plain": [
       "<matplotlib.figure.Figure at 0x1e198431cf8>"
      ]
     },
     "metadata": {},
     "output_type": "display_data"
    },
    {
     "name": "stdout",
     "output_type": "stream",
     "text": [
      "lowest value of lambda: 2.33572146909e-05\n"
     ]
    }
   ],
   "source": [
    "plt.semilogx(lambdas_RR, accuracy_RR_all,'*-',)  \n",
    "plt.title('Lambda - Ridge Regression')\n",
    "plt.ylabel('prediction error (%)')\n",
    "plt.xlabel('lambda')\n",
    "plt.show()\n",
    "\n",
    "print(\"lowest value of lambda:\", best_lambda_RR)"
   ]
  },
  {
   "cell_type": "markdown",
   "metadata": {},
   "source": [
    "#### Running Ridge Regression with cross validation"
   ]
  },
  {
   "cell_type": "code",
   "execution_count": 63,
   "metadata": {},
   "outputs": [
    {
     "name": "stdout",
     "output_type": "stream",
     "text": [
      "Error in percentage in ridge regression with lambda 2.33572146909e-05 : 0.25175\n"
     ]
    }
   ],
   "source": [
    "k_folds = 5\n",
    "lambda_RR= 2.33572146909e-05\n",
    "\n",
    "avg_loss, losses, avg_acc, pred_acc_percents = CV.cross_validation(ME.ridge_regression, y_tr, train_x, k_folds, lambda_RR)\n",
    "\n",
    "print(\"Error in percentage in ridge regression with lambda\", lambda_RR, \":\", avg_acc)"
   ]
  },
  {
   "cell_type": "markdown",
   "metadata": {},
   "source": [
    "### Logistic regression"
   ]
  },
  {
   "cell_type": "markdown",
   "metadata": {},
   "source": [
    "#### Preparing dataset for Logistic Regression"
   ]
  },
  {
   "cell_type": "code",
   "execution_count": 41,
   "metadata": {
    "collapsed": true
   },
   "outputs": [],
   "source": [
    "#Adding a constant (intercept) in the x, and set y to 1/0 (instead of 1/-1)\n",
    "train_x_LR = np.c_[np.ones((train_x.shape[0], 1)), train_x]\n",
    "test_x_LR = np.c_[np.ones((test_x.shape[0], 1)), test_x]\n",
    "\n",
    "ty_LR = classify(y_tr)"
   ]
  },
  {
   "cell_type": "markdown",
   "metadata": {},
   "source": [
    "#### Finding optimal Gamma for Logistic Regression"
   ]
  },
  {
   "cell_type": "code",
   "execution_count": 45,
   "metadata": {},
   "outputs": [
    {
     "name": "stdout",
     "output_type": "stream",
     "text": [
      "14\n"
     ]
    }
   ],
   "source": [
    "initial_w_LR = np.zeros((train_x_LR.shape[1], 1))\n",
    "max_iters_LR = 500\n",
    "k_folds = 5\n",
    "\n",
    "gammas_LR = np.logspace(-3.6,-3,30)\n",
    "\n",
    "loss_LR_all = []\n",
    "\n",
    "for gamma_LR in gammas_LR:\n",
    "    \n",
    "    loss_LR, w_LR = ME.logistic_regression(ty_LR, train_x_LR, initial_w_LR,max_iters_LR, gamma_LR)\n",
    "    loss_LR_all.append(loss_LR)\n",
    "    \n",
    "index_of_best_gamma_LR = np.argmin(loss_LR_all)\n",
    "best_gamma_LR = gammas_LR[index_of_best_gamma_LR]"
   ]
  },
  {
   "cell_type": "markdown",
   "metadata": {},
   "source": [
    "#### Plotting results"
   ]
  },
  {
   "cell_type": "code",
   "execution_count": 44,
   "metadata": {},
   "outputs": [
    {
     "data": {
      "image/png": "[encoded data removed]",
      "text/plain": [
       "<matplotlib.figure.Figure at 0x1e19d922550>"
      ]
     },
     "metadata": {},
     "output_type": "display_data"
    },
    {
     "name": "stdout",
     "output_type": "stream",
     "text": [
      "lowest value of gamma: 0.000489390091848\n"
     ]
    }
   ],
   "source": [
    "plt.semilogx(gammas_LR, loss_LR_all,'*-',)  \n",
    "plt.title('Gamma - Logistic regression')\n",
    "plt.ylabel('loss')\n",
    "plt.xlabel('gamma')\n",
    "plt.show()\n",
    "\n",
    "print(\"Best value of gamma:\", best_gamma_LR)"
   ]
  },
  {
   "cell_type": "markdown",
   "metadata": {},
   "source": [
    "#### Running Logistic Regression with cross validation"
   ]
  },
  {
   "cell_type": "code",
   "execution_count": 66,
   "metadata": {},
   "outputs": [
    {
     "name": "stdout",
     "output_type": "stream",
     "text": [
      "Error in percentage using Logistic regression with gamma 0.000489390091848 and 500 iterations: 0.263\n"
     ]
    }
   ],
   "source": [
    "initial_w_LR = np.zeros((train_x_LR.shape[1], 1))\n",
    "max_iters_LR = 500\n",
    "gamma_LR = 0.000489390091848\n",
    "k_folds = 5\n",
    "\n",
    "loss_LR, w_LR = ME.logistic_regression(ty_LR, train_x_LR, initial_w_LR, max_iters_LR, gamma_LR) \n",
    "\n",
    "avg_loss, losses, avg_acc, pred_acc_percents = CV.cross_validation(ME.logistic_regression, ty_LR, train_x_LR, k_folds, \n",
    "                                                                   initial_w_LR, max_iters_LR, gamma_LR)\n",
    "\n",
    "print(\"Error in percentage using Logistic regression with gamma\", gamma_LR, \"and\", max_iters_LR, \"iterations:\", avg_acc)"
   ]
  },
  {
   "cell_type": "markdown",
   "metadata": {},
   "source": [
    "### Regular Logistic regression"
   ]
  },
  {
   "cell_type": "markdown",
   "metadata": {},
   "source": [
    "#### Preparing dataset for Regular Logistic Regression"
   ]
  },
  {
   "cell_type": "code",
   "execution_count": 68,
   "metadata": {
    "collapsed": true
   },
   "outputs": [],
   "source": [
    "#Adding a constant (intercept) in the x, and set y to 1/0 (instead of 1/-1)\n",
    "train_x_RLR = np.c_[np.ones((train_x.shape[0], 1)), train_x]\n",
    "test_x_RLR = np.c_[np.ones((test_x.shape[0], 1)), test_x]\n",
    "\n",
    "ty_RLR = classify(y_tr)"
   ]
  },
  {
   "cell_type": "markdown",
   "metadata": {},
   "source": [
    "#### Finding optimal value for Gamma"
   ]
  },
  {
   "cell_type": "code",
   "execution_count": 85,
   "metadata": {},
   "outputs": [],
   "source": [
    "initial_w_RLR = np.zeros((train_x_RLR.shape[1], 1))\n",
    "lambda_RLR = 1\n",
    "max_iters_RLR = 500\n",
    "\n",
    "gammas_RLR = np.logspace(-3.6,-3,30)\n",
    "\n",
    "loss_RLR_all = []\n",
    "\n",
    "for gamma_RLR in gammas_RLR:\n",
    "    \n",
    "    loss_RLR, w_RLR = ME.reg_logistic_regression(ty_RLR, train_x_RLR, lambda_RLR, initial_w_RLR,max_iters_RLR, gamma_RLR)\n",
    "    loss_RLR_all.append(loss_RLR)\n",
    "    \n",
    "index_of_best_gamma_RLR = np.argmin(loss_RLR_all)\n",
    "best_gamma_RLR = gammas_RLR[index_of_best_gamma_RLR]"
   ]
  },
  {
   "cell_type": "markdown",
   "metadata": {},
   "source": [
    "#### Ploting optimal value for gamma"
   ]
  },
  {
   "cell_type": "code",
   "execution_count": 86,
   "metadata": {},
   "outputs": [
    {
     "data": {
      "image/png": "[encoded data removed]",
      "text/plain": [
       "<matplotlib.figure.Figure at 0x1e1a3f9a630>"
      ]
     },
     "metadata": {},
     "output_type": "display_data"
    },
    {
     "name": "stdout",
     "output_type": "stream",
     "text": [
      "Best value of gamma: 0.00046662232927\n"
     ]
    }
   ],
   "source": [
    "plt.semilogx(gammas_RLR, loss_RLR_all,'*-',)  \n",
    "plt.title('Gamma - Regularized Logistic regression')\n",
    "plt.ylabel('loss')\n",
    "plt.xlabel('gamma')\n",
    "plt.show()\n",
    "\n",
    "print(\"Best value of gamma:\", best_gamma_RLR)"
   ]
  },
  {
   "cell_type": "markdown",
   "metadata": {},
   "source": [
    "#### Finding optimal value for Lambda"
   ]
  },
  {
   "cell_type": "code",
   "execution_count": 97,
   "metadata": {},
   "outputs": [],
   "source": [
    "max_iters_RLR = 1000\n",
    "gamma_RLR = 0.000489390091848\n",
    "initial_w_RLR = np.zeros((train_x_RLR.shape[1], 1))\n",
    "\n",
    "lambdas_RLR=np.logspace(-5,3,30)\n",
    "\n",
    "accuracy_RLR_all=[]\n",
    "loss_RLR_all=[]\n",
    "\n",
    "for lambda_RLR in lambdas_RLR:\n",
    "    \n",
    "    loss_RLR, w_RLR = ME.reg_logistic_regression(ty_RLR, train_x_RLR, lambda_RLR, initial_w_RLR, max_iters_RLR, gamma_RLR)\n",
    "    \n",
    "    y_pred_RLR = DP.log_pred(test_x_RLR, w_RLR)\n",
    "    accuracy_RLR = DP.pred_acc(y_te, y_pred_RLR)\n",
    "    \n",
    "    accuracy_RLR_all.append(accuracy_RLR[0])\n",
    "    loss_RLR_all.append(loss_RLR)\n",
    "    \n",
    "index_of_best_lambda_RLR = np.argmin(loss_RLR_all)\n",
    "best_lambda_RLR = lambdas_RLR[index_of_best_lambda_RLR]"
   ]
  },
  {
   "cell_type": "markdown",
   "metadata": {},
   "source": [
    "#### Plotting optimal value for Lambda"
   ]
  },
  {
   "cell_type": "code",
   "execution_count": 98,
   "metadata": {
    "scrolled": true
   },
   "outputs": [
    {
     "data": {
      "image/png": "[encoded data removed]",
      "text/plain": [
       "<matplotlib.figure.Figure at 0x1e18004f4e0>"
      ]
     },
     "metadata": {},
     "output_type": "display_data"
    },
    {
     "name": "stdout",
     "output_type": "stream",
     "text": [
      "Best value of lambda: 1e-05\n"
     ]
    }
   ],
   "source": [
    "plt.semilogx(lambdas_RLR,accuracy_RLR_all, '-*')\n",
    "plt.title('Lambda - Regular Logistic Regression')\n",
    "plt.ylabel('prediction error (%)')\n",
    "plt.xlabel('lambda')\n",
    "plt.show()\n",
    "\n",
    "print(\"Best value of lambda:\", best_lambda_RLR)"
   ]
  },
  {
   "cell_type": "markdown",
   "metadata": {},
   "source": [
    "#### Running Regular Logistic Regression with cross validation\n"
   ]
  },
  {
   "cell_type": "code",
   "execution_count": 99,
   "metadata": {},
   "outputs": [
    {
     "name": "stdout",
     "output_type": "stream",
     "text": [
      "Error in percentage in regularized logistic regression with gamma 0.000489390091848 , lambda 1e-05 and 1000 iterations: 0.25830000000000003\n"
     ]
    }
   ],
   "source": [
    "initial_w_RLR = np.zeros((train_x_RLR.shape[1], 1))\n",
    "max_iters_RLR = 1000\n",
    "gamma_RLR = 0.000489390091848\n",
    "lambda_RLR = 1e-05\n",
    "k_folds = 5\n",
    "\n",
    "avg_loss, losses, avg_acc, pred_acc_percents = CV.cross_validation(ME.reg_logistic_regression,\n",
    "                                                                   ty_RLR, train_x_RLR, k_folds, lambda_RLR,\n",
    "                                                                   initial_w_RLR, max_iters_RLR, gamma_RLR)\n",
    "\n",
    "print(\"Error in percentage in regularized logistic regression with gamma\", gamma_RLR, \", lambda\", lambda_RLR,\n",
    "      \"and\", max_iters_RLR, \"iterations:\", avg_acc)"
   ]
  },
  {
   "cell_type": "code",
   "execution_count": null,
   "metadata": {
    "collapsed": true
   },
   "outputs": [],
   "source": []
  }
 ],
 "metadata": {
  "kernelspec": {
   "display_name": "Python 3",
   "language": "python",
   "name": "python3"
  },
  "language_info": {
   "codemirror_mode": {
    "name": "ipython",
    "version": 3
   },
   "file_extension": ".py",
   "mimetype": "text/x-python",
   "name": "python",
   "nbconvert_exporter": "python",
   "pygments_lexer": "ipython3",
   "version": "3.6.1"
  }
 },
 "nbformat": 4,
 "nbformat_minor": 2
}
