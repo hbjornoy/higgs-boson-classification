{
 "cells": [
  {
   "cell_type": "markdown",
   "metadata": {},
   "source": [
    "# Standard Least Squared\n",
    "- No preprosessing(not even polynomials), plotting or anything fancy\n",
    "- Plain Least Squared from exercise 3\n",
    "\n",
    "###### Next steps: \n",
    "\n",
    "Low-fruit:\n",
    "- make polynomials\n",
    "- implement cross validation\n",
    "\n",
    "High fruit:\n",
    "- Maybe make a new document with only the Exploratory data analysis with PCA and such. Then we different algorithms can choose to highlight some result and use it in their Feature prosessing. (https://en.wikipedia.org/wiki/Exploratory_data_analysis)\n",
    "- find or write code that finds the best degrees() can't plot...or can just plot one dimension at a time, better to just use ridge regression at that point? Does LS have any type of overfitting add-on"
   ]
  },
  {
   "cell_type": "markdown",
   "metadata": {},
   "source": [
    "### Libraries and imports"
   ]
  },
  {
   "cell_type": "code",
   "execution_count": 12,
   "metadata": {},
   "outputs": [
    {
     "name": "stdout",
     "output_type": "stream",
     "text": [
      "The autoreload extension is already loaded. To reload it, use:\n",
      "  %reload_ext autoreload\n"
     ]
    }
   ],
   "source": [
    "# standard libraries\n",
    "%matplotlib inline\n",
    "import numpy as np\n",
    "import matplotlib.pyplot as plt\n",
    "%load_ext autoreload\n",
    "%autoreload 2\n",
    "\n",
    "# own functions\n",
    "from proj1_helpers import *\n",
    "import basic_functions as bf\n",
    "#import plot_functions as pf \n",
    "\n",
    "#constants\n",
    "train_path = 'train.csv'\n",
    "test_path = 'test.csv'"
   ]
  },
  {
   "cell_type": "markdown",
   "metadata": {},
   "source": [
    "### Importing data"
   ]
  },
  {
   "cell_type": "code",
   "execution_count": 13,
   "metadata": {
    "collapsed": true
   },
   "outputs": [],
   "source": [
    "y, x, ids = load_csv_data(train_path, sub_sample=True) #remember to switch of subsample when running it \"for real\"\n"
   ]
  },
  {
   "cell_type": "code",
   "execution_count": 32,
   "metadata": {
    "scrolled": false
   },
   "outputs": [
    {
     "name": "stdout",
     "output_type": "stream",
     "text": [
      "(5000, 30) (5000,)\n"
     ]
    },
    {
     "data": {
      "text/plain": [
       "array([[ 138.47 ,   51.655,   97.827, ...,    1.24 ,   -2.475,  113.497],\n",
       "       [ 219.057,   72.461,  124.835, ...,    0.   ,    0.   ,   50.396],\n",
       "       [  90.801,   27.787,   65.373, ...,    0.   ,    0.   ,   62.766],\n",
       "       ..., \n",
       "       [ 142.347,    7.389,   99.212, ...,    0.   ,    0.   ,   97.068],\n",
       "       [  78.162,   46.335,   60.136, ...,    0.   ,    0.   ,   32.44 ],\n",
       "       [ 130.042,    4.073,   67.819, ...,    0.   ,    0.   ,   51.037]])"
      ]
     },
     "execution_count": 32,
     "metadata": {},
     "output_type": "execute_result"
    }
   ],
   "source": [
    "print(x.shape, y.shape)\n",
    "\n",
    "clean = clean_data(x)\n",
    "\n",
    "clean"
   ]
  },
  {
   "cell_type": "markdown",
   "metadata": {},
   "source": [
    "<h3>Cleaning Data</h3>\n",
    "\n"
   ]
  },
  {
   "cell_type": "code",
   "execution_count": 31,
   "metadata": {},
   "outputs": [],
   "source": [
    "def clean_data(data):\n",
    "    \n",
    "    data[data == -999] = 0\n",
    "    \n",
    "    return data"
   ]
  },
  {
   "cell_type": "markdown",
   "metadata": {},
   "source": [
    "### Split data"
   ]
  },
  {
   "cell_type": "code",
   "execution_count": 15,
   "metadata": {},
   "outputs": [
    {
     "name": "stdout",
     "output_type": "stream",
     "text": [
      "(4000, 30) (1000, 30) (4000,) (1000,)\n"
     ]
    }
   ],
   "source": [
    "seed = 1\n",
    "ratio = 0.8\n",
    "\n",
    "x_tr, x_te, y_tr, y_te = bf.split_data(x, y, ratio, seed)\n",
    "print(x_tr.shape, x_te.shape, y_tr.shape, y_te.shape)"
   ]
  },
  {
   "cell_type": "markdown",
   "metadata": {},
   "source": [
    "### Exploratory data analysis (ex: PCA)\n",
    "https://en.wikipedia.org/wiki/Exploratory_data_analysis"
   ]
  },
  {
   "cell_type": "markdown",
   "metadata": {},
   "source": [
    "### Feature Processing (ex:Fourier, Poly)\n",
    "http://machinelearningmastery.com/discover-feature-engineering-how-to- engineer-features-and-how-to-get-good-at-it/."
   ]
  },
  {
   "cell_type": "markdown",
   "metadata": {},
   "source": [
    "Ideas:\n",
    "- standardize\n",
    "- polynomials\n",
    "- fourier transformation\n",
    "- sine, cos, tan ...ect\n",
    "- look up kvantemechanics formulas an see if we can find some correlations"
   ]
  },
  {
   "cell_type": "markdown",
   "metadata": {},
   "source": [
    "### Train and produce weigths "
   ]
  },
  {
   "cell_type": "code",
   "execution_count": 16,
   "metadata": {},
   "outputs": [
    {
     "name": "stdout",
     "output_type": "stream",
     "text": [
      "(30,)\n"
     ]
    }
   ],
   "source": [
    "initial_w = np.zeros(len(x[1]))\n",
    "max_iters = 15 # low\n",
    "gamma = 0.5\n",
    "tx = np.transpose(x) \n",
    "ty = np.transpose(y)\n",
    "\n",
    "losses, w = bf.least_squares(ty, x)\n",
    "\n",
    "print(w.shape)\n"
   ]
  },
  {
   "cell_type": "markdown",
   "metadata": {},
   "source": [
    "### Optimalizing: determining overfit or underfit\n",
    "http://cs229.stanford.edu/materials/ML-advice.pdf"
   ]
  },
  {
   "cell_type": "markdown",
   "metadata": {},
   "source": [
    "### Visualize, find pattern of wrong predictions -> back to Exploratory/Feature Proc\n",
    "http://homes.cs.washington.edu/~pedrod/papers/cacm12.pdf"
   ]
  },
  {
   "cell_type": "markdown",
   "metadata": {},
   "source": [
    "### Cross validation before kaggle"
   ]
  },
  {
   "cell_type": "markdown",
   "metadata": {},
   "source": [
    "### Predict higgs boson"
   ]
  },
  {
   "cell_type": "code",
   "execution_count": 17,
   "metadata": {},
   "outputs": [
    {
     "name": "stdout",
     "output_type": "stream",
     "text": [
      "[[-999.      79.589   23.916 ..., -999.    -999.       0.   ]\n",
      " [ 106.398   67.49    87.949 ..., -999.    -999.      47.575]\n",
      " [ 117.794   56.226   96.358 ..., -999.    -999.       0.   ]\n",
      " ..., \n",
      " [ 108.497    9.837   65.149 ..., -999.    -999.       0.   ]\n",
      " [  96.711   20.006   66.942 ..., -999.    -999.      30.863]\n",
      " [  92.373   80.109   77.619 ..., -999.    -999.       0.   ]] [ 1.  1.  1. ...,  1.  1.  1.]\n",
      "[350000 350001 350002 ..., 918235 918236 918237]\n"
     ]
    }
   ],
   "source": [
    "# Import test.csv which contains nonlabeled data\n",
    "# Remember to have sub_sample=False when submitting to kaggle WARNING: it takes a looooong time\n",
    "pred_y, pred_x, pred_ids = load_csv_data(test_path, sub_sample=False)\n",
    "print(pred_x, pred_y)\n",
    "print(pred_ids)"
   ]
  },
  {
   "cell_type": "code",
   "execution_count": 18,
   "metadata": {},
   "outputs": [
    {
     "ename": "NameError",
     "evalue": "name 'compute_prediction' is not defined",
     "output_type": "error",
     "traceback": [
      "\u001b[1;31m---------------------------------------------------------------------------\u001b[0m",
      "\u001b[1;31mNameError\u001b[0m                                 Traceback (most recent call last)",
      "\u001b[1;32m<ipython-input-18-d1b2922e6d7d>\u001b[0m in \u001b[0;36m<module>\u001b[1;34m()\u001b[0m\n\u001b[0;32m      1\u001b[0m \u001b[0mweights\u001b[0m \u001b[1;33m=\u001b[0m \u001b[0mw\u001b[0m\u001b[1;33m\u001b[0m\u001b[0m\n\u001b[0;32m      2\u001b[0m \u001b[1;33m\u001b[0m\u001b[0m\n\u001b[1;32m----> 3\u001b[1;33m \u001b[0mpredictions\u001b[0m \u001b[1;33m=\u001b[0m \u001b[0mcompute_prediction\u001b[0m\u001b[1;33m(\u001b[0m\u001b[0mpred_x\u001b[0m\u001b[1;33m,\u001b[0m \u001b[0mweights\u001b[0m\u001b[1;33m)\u001b[0m\u001b[1;33m\u001b[0m\u001b[0m\n\u001b[0m\u001b[0;32m      4\u001b[0m \u001b[0mprint\u001b[0m\u001b[1;33m(\u001b[0m\u001b[0mpredictions\u001b[0m\u001b[1;33m[\u001b[0m\u001b[1;36m1\u001b[0m\u001b[1;33m:\u001b[0m\u001b[1;36m25\u001b[0m\u001b[1;33m]\u001b[0m\u001b[1;33m)\u001b[0m\u001b[1;33m\u001b[0m\u001b[0m\n\u001b[0;32m      5\u001b[0m \u001b[1;33m\u001b[0m\u001b[0m\n",
      "\u001b[1;31mNameError\u001b[0m: name 'compute_prediction' is not defined"
     ]
    }
   ],
   "source": [
    "weights = w\n",
    "\n",
    "predictions = compute_prediction(pred_x, weights)\n",
    "print(predictions[1:25])\n",
    "\n",
    "y_predictions = predict_labels(weights, pred_x)\n",
    "print(y_pred[1:25])\n"
   ]
  },
  {
   "cell_type": "code",
   "execution_count": null,
   "metadata": {
    "collapsed": true
   },
   "outputs": [],
   "source": [
    "# creates a file with the name you want in the folder of the Python-file. just look in the folder :) \n",
    "name = 'powerpuff_testing.csv'\n",
    "create_csv_submission(pred_ids, y_predictions, name)\n",
    "\n",
    "\n",
    "#\n",
    "# THE END\n",
    "#"
   ]
  }
 ],
 "metadata": {
  "kernelspec": {
   "display_name": "Python 3",
   "language": "python",
   "name": "python3"
  },
  "language_info": {
   "codemirror_mode": {
    "name": "ipython",
    "version": 3
   },
   "file_extension": ".py",
   "mimetype": "text/x-python",
   "name": "python",
   "nbconvert_exporter": "python",
   "pygments_lexer": "ipython3",
   "version": "3.6.1"
  }
 },
 "nbformat": 4,
 "nbformat_minor": 2
}
