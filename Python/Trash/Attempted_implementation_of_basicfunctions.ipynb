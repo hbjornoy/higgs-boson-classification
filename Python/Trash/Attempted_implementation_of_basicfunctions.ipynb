{
 "cells": [
  {
   "cell_type": "markdown",
   "metadata": {},
   "source": [
    "## Attempting to implement basic functions: "
   ]
  },
  {
   "cell_type": "code",
   "execution_count": 1,
   "metadata": {
    "collapsed": true
   },
   "outputs": [],
   "source": [
    "# standard libraries\n",
    "%matplotlib inline\n",
    "import numpy as np\n",
    "import matplotlib.pyplot as plt\n",
    "%load_ext autoreload\n",
    "%autoreload 2\n",
    "\n",
    "# own functions\n",
    "from proj1_helpers import *\n",
    "import basic_functions as bf\n",
    "#import plot_functions as pf \n",
    "\n",
    "#constants\n",
    "train_path = 'train.csv'\n",
    "test_path = 'test.csv'"
   ]
  },
  {
   "cell_type": "code",
   "execution_count": 2,
   "metadata": {
    "collapsed": true
   },
   "outputs": [],
   "source": [
    "#Importing data: \n",
    "y, x, ids = load_csv_data(train_path, sub_sample=True) #remember to switch of subsample when running it \"for real\"\n",
    "#pred_y, pred_x, pred_ids = load_csv_data(test_path, sub_sample=False)\n"
   ]
  },
  {
   "cell_type": "markdown",
   "metadata": {},
   "source": [
    "# Splitting the data, no use of cross validation or similar"
   ]
  },
  {
   "cell_type": "code",
   "execution_count": 4,
   "metadata": {
    "collapsed": true
   },
   "outputs": [],
   "source": [
    "seed = 1\n",
    "ratio = 0.5\n",
    "\n",
    "x_tr, x_te, y_tr, y_te = bf.split_data(x, y, ratio, seed)"
   ]
  },
  {
   "cell_type": "markdown",
   "metadata": {},
   "source": [
    "### Normalizing data"
   ]
  },
  {
   "cell_type": "code",
   "execution_count": 5,
   "metadata": {
    "collapsed": true
   },
   "outputs": [],
   "source": [
    "x_tr=bf.normalize(x_tr)\n",
    "x_te=bf.normalize(x_te)\n",
    "\n"
   ]
  },
  {
   "cell_type": "code",
   "execution_count": null,
   "metadata": {
    "collapsed": true
   },
   "outputs": [],
   "source": [
    "print(y_te)"
   ]
  },
  {
   "cell_type": "markdown",
   "metadata": {},
   "source": [
    "### Least Squares using GD:"
   ]
  },
  {
   "cell_type": "code",
   "execution_count": null,
   "metadata": {
    "collapsed": true
   },
   "outputs": [],
   "source": [
    "initial_w=np.zeros((x_tr.shape[1], 1))\n",
    "gamma=0.01\n",
    "max_iters=100"
   ]
  },
  {
   "cell_type": "code",
   "execution_count": null,
   "metadata": {
    "collapsed": true
   },
   "outputs": [],
   "source": [
    "losses_LSGD, ws_LSGD, w_LSGD=bf.least_squares_GD(y_tr, x_tr, initial_w, max_iters, gamma)"
   ]
  },
  {
   "cell_type": "code",
   "execution_count": null,
   "metadata": {
    "collapsed": true
   },
   "outputs": [],
   "source": [
    "#print(losses_LSGD)\n",
    "\n",
    "plt.plot(list(range(max_iters)),losses_LSGD)"
   ]
  },
  {
   "cell_type": "code",
   "execution_count": null,
   "metadata": {
    "collapsed": true
   },
   "outputs": [],
   "source": [
    "## Making file for submission: \n",
    "\n",
    "pred_LSGD = compute_prediction(pred_x, w_LSGD)\n",
    "name = 'LSGD_testing.csv'\n",
    "create_csv_submission(pred_ids, pred_LSGD, name)"
   ]
  },
  {
   "cell_type": "markdown",
   "metadata": {},
   "source": [
    "### Least squares SDG"
   ]
  },
  {
   "cell_type": "code",
   "execution_count": null,
   "metadata": {
    "collapsed": true
   },
   "outputs": [],
   "source": [
    "initial_w=np.zeros((x_tr.shape[1], 1))\n",
    "gamma=0.01\n",
    "max_iters=100"
   ]
  },
  {
   "cell_type": "code",
   "execution_count": null,
   "metadata": {
    "collapsed": true
   },
   "outputs": [],
   "source": [
    "losses_LSSGD, ws_LSSDG, w_LSSGD=bf.least_squares_SGD(y_tr, x_tr, initial_w,max_iters, gamma)"
   ]
  },
  {
   "cell_type": "code",
   "execution_count": null,
   "metadata": {
    "collapsed": true
   },
   "outputs": [],
   "source": [
    "plt.plot(list(range(max_iters)),losses_LSSGD)"
   ]
  },
  {
   "cell_type": "code",
   "execution_count": null,
   "metadata": {
    "collapsed": true
   },
   "outputs": [],
   "source": [
    "## Making file for submission: \n",
    "\n",
    "pred_LSSGD = compute_prediction(pred_x, w_LSSGD)\n",
    "name = 'LSSGD_testing.csv'\n",
    "create_csv_submission(pred_ids, pred_LSSGD, name)"
   ]
  },
  {
   "cell_type": "markdown",
   "metadata": {},
   "source": [
    "### Least squares using normal equations:"
   ]
  },
  {
   "cell_type": "code",
   "execution_count": null,
   "metadata": {
    "collapsed": true
   },
   "outputs": [],
   "source": [
    "mse_LS, w_LS=bf.least_squares(y_tr, x_tr)"
   ]
  },
  {
   "cell_type": "code",
   "execution_count": null,
   "metadata": {
    "collapsed": true
   },
   "outputs": [],
   "source": [
    "## comupting error for the \"test\" data: \n",
    "mse_test_LS=bf.get_mse(y_te, x_te, w_LS)\n",
    "print(mse_test_LS)\n",
    "print(mse_LS)\n",
    "rmse_LS=np.sqrt(2*mse_LS)\n",
    "rmse_test_LS=np.sqrt(2*mse_test_LS)\n",
    "print(rmse_LS)\n",
    "print(rmse_test_LS)"
   ]
  },
  {
   "cell_type": "code",
   "execution_count": null,
   "metadata": {
    "collapsed": true
   },
   "outputs": [],
   "source": [
    "pred_LS = compute_prediction(pred_x, w_LS)\n",
    "name = 'LS_testing.csv'\n",
    "create_csv_submission(pred_ids, pred_LS, name)"
   ]
  },
  {
   "cell_type": "markdown",
   "metadata": {},
   "source": [
    "### Ridge regression"
   ]
  },
  {
   "cell_type": "code",
   "execution_count": null,
   "metadata": {
    "collapsed": true
   },
   "outputs": [],
   "source": [
    "lambda_=1\n",
    "w_ridge, rmse_ridge=bf.ridge_regression(y_tr, x_tr, lambda_)\n"
   ]
  },
  {
   "cell_type": "code",
   "execution_count": null,
   "metadata": {
    "collapsed": true
   },
   "outputs": [],
   "source": [
    "mse_ridge_test=bf.get_mse(y_te, x_te, w_ridge)"
   ]
  },
  {
   "cell_type": "code",
   "execution_count": null,
   "metadata": {
    "collapsed": true
   },
   "outputs": [],
   "source": [
    "rmse_test_ridge=np.sqrt(2*bf.get_mse(y_te, x_te, w_ridge))\n",
    "print(rmse_test_ridge)\n",
    "print(rmse_ridge)\n",
    "print((rmse_ridge**2)*2)"
   ]
  },
  {
   "cell_type": "code",
   "execution_count": null,
   "metadata": {
    "collapsed": true
   },
   "outputs": [],
   "source": [
    "pred_ridge = compute_prediction(pred_x, w_ridge)\n",
    "name = 'ridge_testing.csv'\n",
    "create_csv_submission(pred_ids, pred_ridge, name)"
   ]
  },
  {
   "cell_type": "markdown",
   "metadata": {},
   "source": [
    "### Want to find the best value of lambda_"
   ]
  },
  {
   "cell_type": "code",
   "execution_count": null,
   "metadata": {
    "collapsed": true
   },
   "outputs": [],
   "source": [
    "lambdas=np.logspace(-5, 0, 15)\n",
    "rmse_lambdas=[]\n",
    "\n",
    "rmse_test_lambdas=[]\n",
    "for lambda_ in lambdas:\n",
    "    print(lambda_)\n",
    "    w_ridge_lambda, rmse_ridge_lambda=bf.ridge_regression(y_tr, x_tr, lambda_)\n",
    "    rmse_ridge_test_lambda=np.sqrt(2*bf.get_mse(y_te, x_te, w_ridge_lambda))\n",
    "    rmse_lambdas.append(rmse_ridge_lambda)\n",
    "    #ws_lambdas.append(w_ridge_lambda)\n",
    "    rmse_test_lambdas.append(rmse_ridge_test_lambda)\n",
    "    "
   ]
  },
  {
   "cell_type": "code",
   "execution_count": null,
   "metadata": {
    "collapsed": true
   },
   "outputs": [],
   "source": [
    "plt.semilogx(lambdas, rmse_lambdas,color='b', marker='*', label=\"Train error\")\n",
    "plt.semilogx(lambdas, rmse_test_lambdas, color='r', marker='*', label=\"Test error\")\n",
    "leg = plt.legend(loc=1, shadow=True)"
   ]
  },
  {
   "cell_type": "code",
   "execution_count": null,
   "metadata": {
    "collapsed": true
   },
   "outputs": [],
   "source": []
  },
  {
   "cell_type": "markdown",
   "metadata": {},
   "source": [
    "### Logistic regression"
   ]
  },
  {
   "cell_type": "code",
   "execution_count": 6,
   "metadata": {},
   "outputs": [
    {
     "name": "stdout",
     "output_type": "stream",
     "text": [
      "[-1. -1.  1. ..., -1.  1. -1.]\n",
      "[-1. -1.  1. ..., -1.  1. -1.]\n"
     ]
    }
   ],
   "source": [
    "print(y_tr)\n",
    "\n",
    "tx_tr = np.c_[np.ones((x_tr.shape[0], 1)), x_tr]\n",
    "tx_te = np.c_[np.ones((x_te.shape[0], 1)), x_te]\n",
    "\n",
    "ty_te=bf.classify(y_te)\n",
    "ty_tr=bf.classify(y_tr)\n",
    "print(y_tr)"
   ]
  },
  {
   "cell_type": "code",
   "execution_count": 7,
   "metadata": {
    "collapsed": true
   },
   "outputs": [],
   "source": [
    "max_iters = 5000\n",
    "gamma = 0.00065\n",
    "initial_w=np.zeros((tx_tr.shape[1], 1))\n",
    "\n",
    "loss_logreg, w_logreg, losses_logreg=bf.logistic_regression(ty_tr, tx_tr, initial_w,max_iters, gamma)"
   ]
  },
  {
   "cell_type": "code",
   "execution_count": null,
   "metadata": {
    "collapsed": true
   },
   "outputs": [],
   "source": [
    "plt.plot(list(range(max_iters)),losses_logreg)"
   ]
  },
  {
   "cell_type": "code",
   "execution_count": 8,
   "metadata": {},
   "outputs": [
    {
     "name": "stdout",
     "output_type": "stream",
     "text": [
      "0.246\n"
     ]
    }
   ],
   "source": [
    "#trying to predict y: \n",
    "pred_y_log= bf.log_pred(tx_te,w_logreg)\n",
    "percent_log, counter_log=bf.log_pred_acc(y_te,pred_y_log)\n",
    "\n",
    "print(percent_log)"
   ]
  },
  {
   "cell_type": "code",
   "execution_count": 11,
   "metadata": {},
   "outputs": [
    {
     "name": "stdout",
     "output_type": "stream",
     "text": [
      "(2500,)\n",
      "[ 1. -1. -1. ..., -1. -1. -1.]\n",
      "-778.0\n"
     ]
    }
   ],
   "source": [
    "print(y_te.shape)\n",
    "print(pred_y_log)\n",
    "print(np.sum(pred_y_log))"
   ]
  },
  {
   "cell_type": "markdown",
   "metadata": {},
   "source": [
    "### Regularized logistic regression "
   ]
  },
  {
   "cell_type": "code",
   "execution_count": null,
   "metadata": {
    "collapsed": true
   },
   "outputs": [],
   "source": [
    "max_iters = 200\n",
    "gamma = 0.00065\n",
    "initial_w=np.zeros((tx_tr.shape[1], 1))\n",
    "lambda_=0.001"
   ]
  },
  {
   "cell_type": "code",
   "execution_count": null,
   "metadata": {
    "collapsed": true
   },
   "outputs": [],
   "source": [
    "loss_reglogreg, w_reglogreg, losses_reglogreg=bf.reg_logistic_regression(ty_tr, tx_tr, lambda_, initial_w, max_iters, gamma)"
   ]
  },
  {
   "cell_type": "code",
   "execution_count": null,
   "metadata": {
    "collapsed": true
   },
   "outputs": [],
   "source": [
    "plt.plot(list(range(max_iters)),losses_reglogreg)"
   ]
  },
  {
   "cell_type": "code",
   "execution_count": null,
   "metadata": {
    "collapsed": true
   },
   "outputs": [],
   "source": [
    "pred_y_reglog= bf.log_pred(tx_te,w_reglogreg)\n",
    "percent_reglog, counter_reglog=bf.log_pred_acc(y_te,pred_y_reglog)\n",
    "print(percent_reglog)\n",
    "\n"
   ]
  },
  {
   "cell_type": "code",
   "execution_count": null,
   "metadata": {
    "collapsed": true
   },
   "outputs": [],
   "source": [
    "lambdas_reglog=np.logspace(-3, 3, 10) #(0,10,100,1000,10000)#\n",
    "percents_training=[]\n",
    "percents_test=[]\n",
    "losses_training=[]\n",
    "losses_test=[]\n",
    "for lambda_ in lambdas_reglog:\n",
    "    loss_reglogreg, w_reglogreg, losses_reglogreg=bf.reg_logistic_regression(ty_tr, tx_tr, lambda_, initial_w, max_iters, gamma)\n",
    "    pred_y_training= bf.log_pred(tx_tr,w_reglogreg)\n",
    "    percent_training, counter_training=bf.log_pred_acc(y_tr,pred_y_training)\n",
    "    pred_y_test= bf.log_pred(tx_te,w_reglogreg)\n",
    "    percent_test, counter_test=bf.log_pred_acc(y_te,pred_y_test)\n",
    "    losses_training.append(loss_reglogreg)\n",
    "    loss_test_reglogreg=bf.calculate_loss(ty_te, tx_te, w_reglogreg) + (lambda_/2)*np.linalg.norm(w_reglogreg,2)**2\n",
    "    losses_test.append(loss_test_reglogreg)\n",
    "    \n",
    "    percents_training.append(percent_training)\n",
    "    percents_test.append(percent_test)\n",
    "    \n",
    "    \n",
    "    \n",
    "    "
   ]
  },
  {
   "cell_type": "code",
   "execution_count": null,
   "metadata": {
    "collapsed": true
   },
   "outputs": [],
   "source": [
    "plt.semilogx(lambdas_reglog, losses_training ,color='b', marker='*', label=\"Train error\")\n",
    "plt.semilogx(lambdas_reglog, losses_test, color='r', marker='*', label=\"Test error\")\n",
    "leg = plt.legend(loc=1, shadow=True)"
   ]
  },
  {
   "cell_type": "code",
   "execution_count": null,
   "metadata": {
    "collapsed": true
   },
   "outputs": [],
   "source": [
    "plt.semilogx(lambdas_reglog, percents_training ,color='b', marker='*', label=\"Train error\")\n",
    "plt.semilogx(lambdas_reglog, percents_test, color='r', marker='*', label=\"Test error\")\n",
    "leg = plt.legend(loc=1, shadow=True)"
   ]
  },
  {
   "cell_type": "code",
   "execution_count": null,
   "metadata": {
    "collapsed": true
   },
   "outputs": [],
   "source": []
  }
 ],
 "metadata": {
  "kernelspec": {
   "display_name": "Python 3",
   "language": "python",
   "name": "python3"
  },
  "language_info": {
   "codemirror_mode": {
    "name": "ipython",
    "version": 3
   },
   "file_extension": ".py",
   "mimetype": "text/x-python",
   "name": "python",
   "nbconvert_exporter": "python",
   "pygments_lexer": "ipython3",
   "version": "3.6.1"
  }
 },
 "nbformat": 4,
 "nbformat_minor": 2
}
