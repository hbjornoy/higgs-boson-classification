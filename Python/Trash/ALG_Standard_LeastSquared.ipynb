{
 "cells": [
  {
   "cell_type": "markdown",
   "metadata": {},
   "source": [
    "# Standard Least Squared\n",
    "- No preprosessing(not even polynomials), plotting or anything fancy\n",
    "- Plain Least Squared from exercise 3\n",
    "\n",
    "###### Next steps: \n",
    "\n",
    "Low-fruit:\n",
    "- make polynomials\n",
    "- implement cross validation\n",
    "\n",
    "High fruit:\n",
    "- Maybe make a new document with only the Exploratory data analysis with PCA and such. Then we different algorithms can choose to highlight some result and use it in their Feature prosessing. (https://en.wikipedia.org/wiki/Exploratory_data_analysis)\n",
    "- find or write code that finds the best degrees() can't plot...or can just plot one dimension at a time, better to just use ridge regression at that point? Does LS have any type of overfitting add-on"
   ]
  },
  {
   "cell_type": "markdown",
   "metadata": {},
   "source": [
    "### Libraries and imports"
   ]
  },
  {
   "cell_type": "code",
   "execution_count": 192,
   "metadata": {},
   "outputs": [
    {
     "name": "stdout",
     "output_type": "stream",
     "text": [
      "The autoreload extension is already loaded. To reload it, use:\n",
      "  %reload_ext autoreload\n"
     ]
    }
   ],
   "source": [
    "# standard libraries\n",
    "%matplotlib inline\n",
    "import numpy as np\n",
    "import matplotlib.pyplot as plt\n",
    "%load_ext autoreload\n",
    "%autoreload 2\n",
    "\n",
    "# own functions\n",
    "from proj1_helpers import *\n",
    "import basic_functions as bf\n",
    "import cross_validation as cv\n",
    "#import plot_functions as pf \n",
    "\n",
    "#constants\n",
    "train_path = 'train.csv'\n",
    "test_path = 'test.csv'"
   ]
  },
  {
   "cell_type": "code",
   "execution_count": 193,
   "metadata": {
    "collapsed": true
   },
   "outputs": [],
   "source": [
    "def clean_data(data, mean = False):\n",
    "    \n",
    "    if(mean):\n",
    "        \n",
    "        rows, columns = data.shape\n",
    "        column_means = np.zeros(30)\n",
    "\n",
    "        #Manually counting mean for each column without -999 values. \n",
    "        for col in range(columns):\n",
    "            c_count = 0\n",
    "            c_sum = 0\n",
    "            for row in range(rows - 1):\n",
    "                data_point = data[row][col]\n",
    "                \n",
    "                if(data_point != -999):\n",
    "                    c_count += 1\n",
    "                    c_sum += data_point\n",
    "            \n",
    "            mean_mean = c_sum / c_count            \n",
    "            column_means[col] = mean_mean\n",
    "        \n",
    "        #Replacing -999 values with column mean\n",
    "        for col in range(columns - 1):\n",
    "            for row in range(rows - 1):\n",
    "                \n",
    "                data_point = data[row][col]\n",
    "                \n",
    "                if(data_point == -999):\n",
    "                    data[row][col] = column_means[col]  \n",
    "                              \n",
    "    else:\n",
    "        data[data == -999] = 0\n",
    "    \n",
    "    return data"
   ]
  },
  {
   "cell_type": "markdown",
   "metadata": {},
   "source": [
    "### Importing data"
   ]
  },
  {
   "cell_type": "code",
   "execution_count": 171,
   "metadata": {
    "collapsed": true
   },
   "outputs": [],
   "source": [
    "y, x, ids = load_csv_data(train_path, sub_sample=True) #remember to switch of subsample when running it \"for real\""
   ]
  },
  {
   "cell_type": "code",
   "execution_count": 180,
   "metadata": {},
   "outputs": [
    {
     "name": "stdout",
     "output_type": "stream",
     "text": [
      "(5000, 15) (5000,)\n"
     ]
    }
   ],
   "source": [
    "x = clean_data(x, mean = False)\n",
    "print(x.shape, y.shape)"
   ]
  },
  {
   "cell_type": "markdown",
   "metadata": {},
   "source": [
    "### Split data"
   ]
  },
  {
   "cell_type": "code",
   "execution_count": 173,
   "metadata": {},
   "outputs": [
    {
     "name": "stdout",
     "output_type": "stream",
     "text": [
      "(4000, 30) (1000, 30) (4000,) (1000,)\n"
     ]
    }
   ],
   "source": [
    "seed = 1\n",
    "ratio = 0.8\n",
    "\n",
    "x_tr, x_te, y_tr, y_te = bf.split_data(x, y, ratio, seed)\n",
    "print(x_tr.shape, x_te.shape, y_tr.shape, y_te.shape)"
   ]
  },
  {
   "cell_type": "markdown",
   "metadata": {},
   "source": [
    "### Exploratory data analysis (ex: PCA)\n",
    "https://en.wikipedia.org/wiki/Exploratory_data_analysis"
   ]
  },
  {
   "cell_type": "markdown",
   "metadata": {},
   "source": [
    "### Feature Processing (ex:Fourier, Poly)\n",
    "http://machinelearningmastery.com/discover-feature-engineering-how-to- engineer-features-and-how-to-get-good-at-it/."
   ]
  },
  {
   "cell_type": "code",
   "execution_count": 189,
   "metadata": {},
   "outputs": [
    {
     "name": "stdout",
     "output_type": "stream",
     "text": [
      "(5000, 15)\n"
     ]
    }
   ],
   "source": [
    "def pca(data, pc_count = None):\n",
    "    \"\"\"\n",
    "    Principal component analysis using eigenvalues\n",
    "    note: this mean-centers and auto-scales the data (in-place)\n",
    "    \"\"\"\n",
    "    data -= np.mean(data, 0)\n",
    "    data /= np.std(data, 0)\n",
    "    \n",
    "    \"\"\"\n",
    "    Covariance matrix\n",
    "    note: specifically for mean-centered data\n",
    "    note: numpy's `cov` uses N-1 as normalization\n",
    "    \"\"\"\n",
    "    C = np.dot(data.T, data) / data.shape[0]\n",
    "    E, V = np.linalg.eigh(C)\n",
    "    key = np.argsort(E)[::-1][:pc_count]\n",
    "    E, V = E[key], V[:, key]\n",
    "    U = np.dot(data, V)  # used to be dot(V.T, data.T).T\n",
    "    return U, E, V\n",
    "\n",
    "x = pca(x, 15)[0]\n",
    "print(x.shape)"
   ]
  },
  {
   "cell_type": "code",
   "execution_count": 161,
   "metadata": {
    "collapsed": true
   },
   "outputs": [],
   "source": [
    "def compute_pca(data):\n",
    "    m = np.mean(data, axis=0)\n",
    "    # standardizing -isj without /std(data)\n",
    "    datac = np.array([obs - m for obs in data])\n",
    "    \n",
    "    # maybe add 1/len(data[0]) like in matlab code?\n",
    "    covMat = np.dot(datac, datac.T) / data.shape[0]\n",
    "    # finding eigenvectors(U) and eigenvalues(S), V = don't remember\n",
    "    [U,S,V] = np.linalg.svd(covMat)\n",
    "\n",
    "    # here iteration is over rows but the columns are the eigenvectors of T\n",
    "    pcs = [np.dot(datac.T, item) for item in U.T ]\n",
    "\n",
    "    # note that the eigenvectors are not normed after multiplication by T^T\n",
    "    pcs = np.array([d / np.linalg.norm(d) for d in pcs])\n",
    "\n",
    "    return pcs, m, S, U, covMat\n",
    "\n",
    "# tar laaang tid\n",
    "#x, m, S, U, covMat = compute_pca(x)\n"
   ]
  },
  {
   "cell_type": "code",
   "execution_count": 190,
   "metadata": {},
   "outputs": [
    {
     "name": "stdout",
     "output_type": "stream",
     "text": [
      "(5000, 15)\n"
     ]
    },
    {
     "data": {
      "image/png": "[encoded data removed]",
      "text/plain": [
       "<matplotlib.figure.Figure at 0x1826e5780>"
      ]
     },
     "metadata": {},
     "output_type": "display_data"
    }
   ],
   "source": [
    "#Visualizing pca\n",
    "data = x\n",
    "\n",
    "print(x.shape)\n",
    "#print(data[1:10, :])\n",
    "bools = y\n",
    "fig, (ax1, ax2) = plt.subplots(1, 2)\n",
    "ax1.scatter(data[100:200, 0], data[100:200, 1], c = y[100:200])\n",
    "#ax1.scatter(data[2500:, 0], data[2500:, 1], c = 'b')\n",
    "ax2.scatter(x_tr[:50, 3], x_tr[:50, 1], c = 'r')\n",
    "plt.show()"
   ]
  },
  {
   "cell_type": "markdown",
   "metadata": {},
   "source": [
    "Ideas:\n",
    "- standardize\n",
    "- polynomials\n",
    "- fourier transformation\n",
    "- sine, cos, tan ...ect\n",
    "- look up kvantemechanics formulas an see if we can find some correlations"
   ]
  },
  {
   "cell_type": "markdown",
   "metadata": {},
   "source": [
    "### Train and produce weigths "
   ]
  },
  {
   "cell_type": "code",
   "execution_count": 137,
   "metadata": {},
   "outputs": [
    {
     "name": "stdout",
     "output_type": "stream",
     "text": [
      "(15,)\n"
     ]
    }
   ],
   "source": [
    "initial_w = np.zeros(len(x[1]))\n",
    "max_iters = 15 # low\n",
    "gamma = 0.5\n",
    "tx = np.transpose(x) \n",
    "ty = np.transpose(y)\n",
    "\n",
    "losses, w = bf.least_squares(ty, x)\n",
    "\n",
    "print(w.shape)\n"
   ]
  },
  {
   "cell_type": "markdown",
   "metadata": {},
   "source": [
    "### Optimalizing: determining overfit or underfit\n",
    "http://cs229.stanford.edu/materials/ML-advice.pdf"
   ]
  },
  {
   "cell_type": "markdown",
   "metadata": {},
   "source": [
    "### Visualize, find pattern of wrong predictions -> back to Exploratory/Feature Proc\n",
    "http://homes.cs.washington.edu/~pedrod/papers/cacm12.pdf"
   ]
  },
  {
   "cell_type": "markdown",
   "metadata": {},
   "source": [
    "### Cross validation before kaggle"
   ]
  },
  {
   "cell_type": "code",
   "execution_count": 195,
   "metadata": {},
   "outputs": [
    {
     "name": "stdout",
     "output_type": "stream",
     "text": [
      "avg loss:  0.417373193467\n",
      "Losses:  [0.41737319346741897, 0.41737319346741897, 0.41737319346741897, 0.41737319346741897, 0.41737319346741897]\n",
      "Average prediction NON-accuracy:  0.2986\n",
      "prediction NON-accuracy percents:  [0.2986, 0.2986, 0.2986, 0.2986, 0.2986]\n"
     ]
    }
   ],
   "source": [
    "#w_ridge, rmse_ridge=      bf.ridge_regression(y_tr, x_tr, lambda_)\n",
    "\n",
    "#loss_reglogreg, w_reglogreg, losses_reglogreg=    bf.reg_logistic_regression(y_tr, tx_tr, lambda_, initial_w, max_iters, gamma)\n",
    "\n",
    "\n",
    "#*args = hyperparameters \n",
    "\n",
    "def cross_validation(function_to_run, y, x, num_of_k_fold, *args):\n",
    "    \n",
    "    losses = []\n",
    "    pred_acc_percents = []\n",
    "    \n",
    "    k_indices = cv.build_k_indices(y, num_of_k_fold, 1)\n",
    "    \n",
    "    for k in range(num_of_k_fold):\n",
    "        \n",
    "        x_test, y_test, x_tr, y_tr = cv.split_k(x,y,k_indices, k)\n",
    "        \n",
    "        if(function_to_run.__name__ == \"reg_logistic_regression\"):\n",
    "            \n",
    "            lambda_ = args[0]\n",
    "            initial_w = args[1]\n",
    "            max_iters = args[2]\n",
    "            gamma = args[3]\n",
    "            \n",
    "            loss, weights, losses =  function_to_run(y_tr, x_tr, lambda_, initial_w, max_iters, gamma) \n",
    "            \n",
    "        elif(function_to_run.__name__ == \"ridge_regression\"):\n",
    "            \n",
    "            lambda_ = args[0]\n",
    "            \n",
    "            weights, loss = bf.ridge_regression(y, x, lambda_)\n",
    "        \n",
    "        elif(function_to_run.__name__ == \"least_squares\"):\n",
    "            \n",
    "            ty = np.transpose(y)\n",
    "            \n",
    "            loss, weights = bf.least_squares(ty, x)\n",
    "            \n",
    "            \n",
    "        losses.append(loss)\n",
    "\n",
    "        pred_y = bf.log_pred(x, weights)    \n",
    "        pred_acc_percent, soppel = bf.log_pred_acc(y, pred_y)\n",
    "        pred_acc_percents.append(pred_acc_percent)\n",
    "     \n",
    "    \n",
    "    loss_sum = 0\n",
    "    for loss in losses:\n",
    "        loss_sum += loss\n",
    "    avg_loss = loss_sum / len(losses)\n",
    "    \n",
    "    acc_sum = 0\n",
    "    for acc in pred_acc_percents:\n",
    "        acc_sum += acc\n",
    "    avg_acc = acc_sum / len(pred_acc_percents)\n",
    "    \n",
    "    return avg_loss, losses, avg_acc, pred_acc_percents \n",
    "\n",
    "\n",
    "lambda_=0.5\n",
    "initial_w = np.zeros((x.shape[1], 1))\n",
    "max_iters = 5\n",
    "gamma = 0.01\n",
    "k_folds = 5\n",
    "\n",
    "\n",
    "avg_loss, losses, avg_preds, pred_acc_percents = cross_validation(bf.least_squares, y, x, k_folds)\n",
    "\n",
    "#avg_loss, losses, avg_preds, pred_acc_percents = cross_validation(bf.reg_logistic_regression, y, x, k_folds, lambda_, initial_w, max_iters, gamma)\n",
    "\n",
    "print(\"avg loss: \", avg_loss)\n",
    "print(\"Losses: \", losses)\n",
    "print(\"Average prediction NON-accuracy: \", avg_preds)\n",
    "print(\"prediction NON-accuracy percents: \", pred_acc_percents)\n"
   ]
  },
  {
   "cell_type": "markdown",
   "metadata": {},
   "source": [
    "### Predict higgs boson"
   ]
  },
  {
   "cell_type": "code",
   "execution_count": 113,
   "metadata": {},
   "outputs": [
    {
     "name": "stdout",
     "output_type": "stream",
     "text": [
      "[[-999.      79.589   23.916 ..., -999.    -999.       0.   ]\n",
      " [ 106.398   67.49    87.949 ..., -999.    -999.      47.575]\n",
      " [ 117.794   56.226   96.358 ..., -999.    -999.       0.   ]\n",
      " ..., \n",
      " [ 108.497    9.837   65.149 ..., -999.    -999.       0.   ]\n",
      " [  96.711   20.006   66.942 ..., -999.    -999.      30.863]\n",
      " [  92.373   80.109   77.619 ..., -999.    -999.       0.   ]] [ 1.  1.  1. ...,  1.  1.  1.]\n",
      "[350000 350001 350002 ..., 918235 918236 918237]\n"
     ]
    }
   ],
   "source": [
    "# Import test.csv which contains nonlabeled data\n",
    "# Remember to have sub_sample=False when submitting to kaggle WARNING: it takes a looooong time\n",
    "pred_y, pred_x, pred_ids = load_csv_data(test_path, sub_sample=False)\n",
    "print(pred_x, pred_y)\n",
    "print(pred_ids)"
   ]
  },
  {
   "cell_type": "code",
   "execution_count": 114,
   "metadata": {
    "collapsed": true
   },
   "outputs": [],
   "source": [
    "pred_x = pca(pred_x, 30)[0]"
   ]
  },
  {
   "cell_type": "code",
   "execution_count": 115,
   "metadata": {},
   "outputs": [
    {
     "name": "stdout",
     "output_type": "stream",
     "text": [
      "[-1. -1. -1.  1. -1. -1.  1. -1. -1.  1. -1. -1.  1.  1.  1. -1. -1. -1.\n",
      " -1. -1.  1.  1. -1.  1.]\n",
      "-0.129449280055\n"
     ]
    }
   ],
   "source": [
    "weights = w\n",
    "\n",
    "\n",
    "y_pred = predict_labels(weights, pred_x)\n",
    "print(y_pred[1:25])\n",
    "print(y_pred.mean())\n"
   ]
  },
  {
   "cell_type": "code",
   "execution_count": 117,
   "metadata": {},
   "outputs": [],
   "source": [
    "# creates a file with the name you want in the folder of the Python-file. just look in the folder :) \n",
    "name = 'pca_testing.csv'\n",
    "create_csv_submission(pred_ids, y_pred, name)\n",
    "\n",
    "#\n",
    "# THE END\n",
    "#"
   ]
  },
  {
   "cell_type": "code",
   "execution_count": null,
   "metadata": {
    "collapsed": true
   },
   "outputs": [],
   "source": []
  }
 ],
 "metadata": {
  "kernelspec": {
   "display_name": "Python 3",
   "language": "python",
   "name": "python3"
  },
  "language_info": {
   "codemirror_mode": {
    "name": "ipython",
    "version": 3
   },
   "file_extension": ".py",
   "mimetype": "text/x-python",
   "name": "python",
   "nbconvert_exporter": "python",
   "pygments_lexer": "ipython3",
   "version": "3.6.2"
  }
 },
 "nbformat": 4,
 "nbformat_minor": 2
}
