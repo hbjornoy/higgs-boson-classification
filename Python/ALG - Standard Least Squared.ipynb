{
 "cells": [
  {
   "cell_type": "markdown",
   "metadata": {},
   "source": [
    "# Standard Least Squared\n",
    "- No preprosessing(not even polynomials), plotting or anything fancy\n",
    "- Plain Least Squared from exercise 3\n",
    "\n",
    "###### Next steps: \n",
    "\n",
    "Low-fruit:\n",
    "- make polynomials\n",
    "- implement cross validation\n",
    "\n",
    "High fruit:\n",
    "- Maybe make a new document with only the Exploratory data analysis with PCA and such. Then we different algorithms can choose to highlight some result and use it in their Feature prosessing. (https://en.wikipedia.org/wiki/Exploratory_data_analysis)\n",
    "- find or write code that finds the best degrees() can't plot...or can just plot one dimension at a time, better to just use ridge regression at that point? Does LS have any type of overfitting add-on"
   ]
  },
  {
   "cell_type": "markdown",
   "metadata": {},
   "source": [
    "### Libraries and imports"
   ]
  },
  {
   "cell_type": "code",
   "execution_count": 1,
   "metadata": {
    "collapsed": true
   },
   "outputs": [],
   "source": [
    "# standard libraries\n",
    "%matplotlib inline\n",
    "import numpy as np\n",
    "import matplotlib.pyplot as plt\n",
    "%load_ext autoreload\n",
    "%autoreload 2\n",
    "\n",
    "# own functions\n",
    "from proj1_helpers import *\n",
    "import basic_functions as bf\n",
    "#import plot_functions as pf \n",
    "\n",
    "#constants\n",
    "train_path = 'train.csv'\n",
    "test_path = 'test.csv'"
   ]
  },
  {
   "cell_type": "markdown",
   "metadata": {},
   "source": [
    "### Importing data"
   ]
  },
  {
   "cell_type": "code",
   "execution_count": 2,
   "metadata": {
    "collapsed": true
   },
   "outputs": [],
   "source": [
    "y, x, ids = load_csv_data(train_path, sub_sample=True) #remember to switch of subsample when running it \"for real\""
   ]
  },
  {
   "cell_type": "code",
   "execution_count": 3,
   "metadata": {},
   "outputs": [
    {
     "name": "stdout",
     "output_type": "stream",
     "text": [
      "(5000, 30) (5000,)\n"
     ]
    }
   ],
   "source": [
    "print(x.shape, y.shape)"
   ]
  },
  {
   "cell_type": "markdown",
   "metadata": {},
   "source": [
    "### Split data"
   ]
  },
  {
   "cell_type": "code",
   "execution_count": 5,
   "metadata": {},
   "outputs": [
    {
     "name": "stdout",
     "output_type": "stream",
     "text": [
      "(4000, 30) (1000, 30) (4000,) (1000,)\n"
     ]
    }
   ],
   "source": [
    "seed = 1\n",
    "ratio = 0.8\n",
    "\n",
    "x_tr, x_te, y_tr, y_te = bf.split_data(x, y, ratio, seed)\n",
    "print(x_tr.shape, x_te.shape, y_tr.shape, y_te.shape)"
   ]
  },
  {
   "cell_type": "markdown",
   "metadata": {},
   "source": [
    "### Exploratory data analysis (ex: PCA)\n",
    "https://en.wikipedia.org/wiki/Exploratory_data_analysis"
   ]
  },
  {
   "cell_type": "markdown",
   "metadata": {},
   "source": [
    "### Feature Processing (ex:Fourier, Poly)\n",
    "http://machinelearningmastery.com/discover-feature-engineering-how-to- engineer-features-and-how-to-get-good-at-it/."
   ]
  },
  {
   "cell_type": "markdown",
   "metadata": {},
   "source": [
    "Ideas:\n",
    "- standardize\n",
    "- polynomials\n",
    "- fourier transformation\n",
    "- sine, cos, tan ...ect\n",
    "- look up kvantemechanics formulas an see if we can find some correlations"
   ]
  },
  {
   "cell_type": "markdown",
   "metadata": {},
   "source": [
    "### Train and produce weigths "
   ]
  },
  {
   "cell_type": "code",
   "execution_count": 7,
   "metadata": {},
   "outputs": [],
   "source": [
    "def compute_pca(data):\n",
    "    m = np.mean(data, axis=0)\n",
    "    # standardizing -isj without /std(data)\n",
    "    datac = np.array([obs - m for obs in data])\n",
    "    \n",
    "    # maybe add 1/len(data[0]) like in matlab code?\n",
    "    covMat = np.dot(datac, datac.T)\n",
    "    # finding eigenvectors(U) and eigenvalues(S), V = don't remember\n",
    "    [U,S,V] = np.linalg.svd(covMat)\n",
    "\n",
    "    # here iteration is over rows but the columns are the eigenvectors of T\n",
    "    pcs = [np.dot(datac.T, item) for item in U.T ]\n",
    "\n",
    "    # note that the eigenvectors are not normed after multiplication by T^T\n",
    "    pcs = np.array([d / np.linalg.norm(d) for d in pcs])\n",
    "\n",
    "    return pcs, m, S, U, covMat\n",
    "\n",
    "# tar laaang tid\n",
    "x, m, S, U, covMat = compute_pca(x)\n"
   ]
  },
  {
   "cell_type": "code",
   "execution_count": 8,
   "metadata": {},
   "outputs": [
    {
     "name": "stdout",
     "output_type": "stream",
     "text": [
      "(30,)\n"
     ]
    }
   ],
   "source": [
    "initial_w = np.zeros(len(x[1]))\n",
    "max_iters = 15 # low\n",
    "gamma = 0.5\n",
    "tx = np.transpose(x) \n",
    "ty = np.transpose(y)\n",
    "\n",
    "losses, w = bf.least_squares(ty, x)\n",
    "\n",
    "print(w.shape)\n"
   ]
  },
  {
   "cell_type": "markdown",
   "metadata": {},
   "source": [
    "### Optimalizing: determining overfit or underfit\n",
    "http://cs229.stanford.edu/materials/ML-advice.pdf"
   ]
  },
  {
   "cell_type": "markdown",
   "metadata": {},
   "source": [
    "### Visualize, find pattern of wrong predictions -> back to Exploratory/Feature Proc\n",
    "http://homes.cs.washington.edu/~pedrod/papers/cacm12.pdf"
   ]
  },
  {
   "cell_type": "markdown",
   "metadata": {},
   "source": [
    "### Cross validation before kaggle"
   ]
  },
  {
   "cell_type": "markdown",
   "metadata": {},
   "source": [
    "### Predict higgs boson"
   ]
  },
  {
   "cell_type": "code",
   "execution_count": 9,
   "metadata": {},
   "outputs": [
    {
     "name": "stdout",
     "output_type": "stream",
     "text": [
      "[[-999.      79.589   23.916 ..., -999.    -999.       0.   ]\n",
      " [ 106.398   67.49    87.949 ..., -999.    -999.      47.575]\n",
      " [ 117.794   56.226   96.358 ..., -999.    -999.       0.   ]\n",
      " ..., \n",
      " [ 108.497    9.837   65.149 ..., -999.    -999.       0.   ]\n",
      " [  96.711   20.006   66.942 ..., -999.    -999.      30.863]\n",
      " [  92.373   80.109   77.619 ..., -999.    -999.       0.   ]] [ 1.  1.  1. ...,  1.  1.  1.]\n",
      "[350000 350001 350002 ..., 918235 918236 918237]\n"
     ]
    }
   ],
   "source": [
    "# Import test.csv which contains nonlabeled data\n",
    "# Remember to have sub_sample=False when submitting to kaggle WARNING: it takes a looooong time\n",
    "pred_y, pred_x, pred_ids = load_csv_data(test_path, sub_sample=False)\n",
    "print(pred_x, pred_y)\n",
    "print(pred_ids)"
   ]
  },
  {
   "cell_type": "code",
   "execution_count": 14,
   "metadata": {},
   "outputs": [
    {
     "name": "stdout",
     "output_type": "stream",
     "text": [
      "[ 1.  1.  1. -1.  1.  1.  1.  1.  1.  1.  1.  1. -1.  1.  1.  1.  1.  1.\n",
      "  1.  1.  1. -1.  1. -1.]\n",
      "0.691147019383\n"
     ]
    }
   ],
   "source": [
    "weights = w\n",
    "\n",
    "#predictions = compute_prediction(pred_x, weights)\n",
    "#print(predictions[1:25])\n",
    "\n",
    "y_pred = predict_labels(weights, pred_x)\n",
    "print(y_pred[1:25])\n",
    "print(y_pred.mean())\n"
   ]
  },
  {
   "cell_type": "code",
   "execution_count": 12,
   "metadata": {
    "collapsed": true
   },
   "outputs": [],
   "source": [
    "# creates a file with the name you want in the folder of the Python-file. just look in the folder :) \n",
    "name = 'powerpuff2_testing.csv'\n",
    "create_csv_submission(pred_ids, y_predictions, name)\n",
    "\n",
    "#\n",
    "# THE END\n",
    "#"
   ]
  },
  {
   "cell_type": "code",
   "execution_count": null,
   "metadata": {
    "collapsed": true
   },
   "outputs": [],
   "source": []
  }
 ],
 "metadata": {
  "kernelspec": {
   "display_name": "Python 3",
   "language": "python",
   "name": "python3"
  },
  "language_info": {
   "codemirror_mode": {
    "name": "ipython",
    "version": 3
   },
   "file_extension": ".py",
   "mimetype": "text/x-python",
   "name": "python",
   "nbconvert_exporter": "python",
   "pygments_lexer": "ipython3",
   "version": "3.6.1"
  }
 },
 "nbformat": 4,
 "nbformat_minor": 2
}
